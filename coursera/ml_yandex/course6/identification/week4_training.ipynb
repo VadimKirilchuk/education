{
 "cells": [
  {
   "cell_type": "markdown",
   "metadata": {},
   "source": [
    "<center>\n",
    "<img src=\"https://habrastorage.org/web/677/8e1/337/6778e1337c3d4b159d7e99df94227cb2.jpg\"/>\n",
    "## Специализация \"Машинное обучение и анализ данных\"\n",
    "<center>Автор материала: программист-исследователь Mail.Ru Group, старший преподаватель Факультета Компьютерных Наук ВШЭ [Юрий Кашницкий](https://yorko.github.io/)"
   ]
  },
  {
   "cell_type": "markdown",
   "metadata": {},
   "source": [
    "# <center> Capstone проект №1 <br> Идентификация пользователей по посещенным веб-страницам\n",
    "<img src='http://i.istockimg.com/file_thumbview_approve/21546327/5/stock-illustration-21546327-identification-de-l-utilisateur.jpg'>\n",
    "\n",
    "# <center>Неделя 4.  Сравнение алгоритмов классификации\n",
    "\n",
    "Теперь мы наконец подойдем к обучению моделей классификации, сравним на кросс-валидации несколько алгоритмов, разберемся, какие параметры длины сессии (*session_length* и *window_size*) лучше использовать. Также для выбранного алгоритма построим кривые валидации (как качество классификации зависит от одного из гиперпараметров алгоритма) и кривые обучения (как качество классификации зависит от объема выборки).\n",
    "\n",
    "**План 4 недели:**\n",
    "- Часть 1. Сравнение нескольких алгоритмов на сессиях из 10 сайтов\n",
    "- Часть 2. Выбор параметров – длины сессии и ширины окна\n",
    "- Часть 3. Идентификация  конкретного пользователя и кривые обучения\n",
    " \n",
    "\n",
    "\n",
    "**В этой части проекта Вам могут быть полезны видеозаписи следующих лекций курса \"Обучение на размеченных данных\":**\n",
    "   - [Линейная классификация](https://www.coursera.org/learn/supervised-learning/lecture/jqLcO/linieinaia-klassifikatsiia)\n",
    "   - [Сравнение алгоритмов и выбор гиперпараметров](https://www.coursera.org/learn/supervised-learning/lecture/aF79U/sravnieniie-alghoritmov-i-vybor-ghipierparamietrov)\n",
    "   - [Кросс-валидация. Sklearn.cross_validation](https://www.coursera.org/learn/supervised-learning/lecture/XbHEk/kross-validatsiia-sklearn-cross-validation)\n",
    "   - [Линейные модели. Sklearn.linear_model. Классификация](https://www.coursera.org/learn/supervised-learning/lecture/EBg9t/linieinyie-modieli-sklearn-linear-model-klassifikatsiia)\n",
    "   - и многие другие\n"
   ]
  },
  {
   "cell_type": "markdown",
   "metadata": {},
   "source": [
    "### Задание\n",
    "1. Заполните код в этой тетрадке \n",
    "2. Если вы проходите специализацию Яндеса и МФТИ, пошлите файл с ответами в соответствующем Programming Assignment. <br> Если вы проходите курс ODS, выберите ответы в [веб-форме](https://docs.google.com/forms/d/12VB7kmzDoSVzSpQNaJp0tR-2t8K8PynQopP3dypf7i4).  "
   ]
  },
  {
   "cell_type": "code",
   "execution_count": 77,
   "metadata": {},
   "outputs": [
    {
     "name": "stdout",
     "output_type": "stream",
     "text": [
      "The watermark extension is already loaded. To reload it, use:\n",
      "  %reload_ext watermark\n"
     ]
    }
   ],
   "source": [
    "# pip install watermark\n",
    "%load_ext watermark"
   ]
  },
  {
   "cell_type": "code",
   "execution_count": 78,
   "metadata": {},
   "outputs": [
    {
     "name": "stdout",
     "output_type": "stream",
     "text": [
      "CPython 3.6.4\n",
      "IPython 6.2.1\n",
      "\n",
      "numpy 1.14.0\n",
      "scipy 0.19.1\n",
      "pandas 0.22.0\n",
      "matplotlib 2.1.2\n",
      "statsmodels 0.8.0\n",
      "sklearn 0.19.1\n",
      "\n",
      "compiler   : MSC v.1900 64 bit (AMD64)\n",
      "system     : Windows\n",
      "release    : 10\n",
      "machine    : AMD64\n",
      "processor  : Intel64 Family 6 Model 78 Stepping 3, GenuineIntel\n",
      "CPU cores  : 4\n",
      "interpreter: 64bit\n",
      "Git hash   : 3896ce11e3ff803864dd6294ff5e80e874b7ba3d\n"
     ]
    }
   ],
   "source": [
    "%watermark -v -m -p numpy,scipy,pandas,matplotlib,statsmodels,sklearn -g"
   ]
  },
  {
   "cell_type": "code",
   "execution_count": 3,
   "metadata": {},
   "outputs": [],
   "source": [
    "from __future__ import division, print_function\n",
    "# отключим всякие предупреждения Anaconda\n",
    "import warnings\n",
    "warnings.filterwarnings('ignore')\n",
    "from time import time\n",
    "import itertools\n",
    "import os\n",
    "import numpy as np\n",
    "import pandas as pd\n",
    "import seaborn as sns\n",
    "%matplotlib inline\n",
    "from matplotlib import pyplot as plt\n",
    "import pickle\n",
    "from scipy.sparse import csr_matrix\n",
    "from sklearn.model_selection import train_test_split, cross_val_score, StratifiedKFold, GridSearchCV\n",
    "from sklearn.metrics import accuracy_score, f1_score"
   ]
  },
  {
   "cell_type": "code",
   "execution_count": 4,
   "metadata": {},
   "outputs": [],
   "source": [
    "# Поменяйте на свой путь к данным\n",
    "PATH_TO_DATA = 'identification'"
   ]
  },
  {
   "cell_type": "markdown",
   "metadata": {},
   "source": [
    "## Часть 1. Сравнение нескольких алгоритмов на сессиях из 10 сайтов"
   ]
  },
  {
   "cell_type": "markdown",
   "metadata": {},
   "source": [
    "**Загрузим сериализованные ранее объекты *X_sparse_10users* и *y_10users*, соответствующие обучающей выборке для 10 пользователей.**"
   ]
  },
  {
   "cell_type": "code",
   "execution_count": 5,
   "metadata": {},
   "outputs": [],
   "source": [
    "with open(os.path.join(PATH_TO_DATA, \n",
    "         'X_sparse_10users.pkl'), 'rb') as X_sparse_10users_pkl:\n",
    "    X_sparse_10users = pickle.load(X_sparse_10users_pkl)\n",
    "with open(os.path.join(PATH_TO_DATA, \n",
    "                       'y_10users.pkl'), 'rb') as y_10users_pkl:\n",
    "    y_10users = pickle.load(y_10users_pkl)"
   ]
  },
  {
   "cell_type": "markdown",
   "metadata": {},
   "source": [
    "**Здесь более 14 тысяч сессий и почти 5 тысяч уникальных посещенных сайтов.**"
   ]
  },
  {
   "cell_type": "code",
   "execution_count": 4,
   "metadata": {},
   "outputs": [
    {
     "data": {
      "text/plain": [
       "(14061, 4913)"
      ]
     },
     "execution_count": 4,
     "metadata": {},
     "output_type": "execute_result"
    }
   ],
   "source": [
    "X_sparse_10users.shape"
   ]
  },
  {
   "cell_type": "code",
   "execution_count": 6,
   "metadata": {},
   "outputs": [
    {
     "data": {
      "text/plain": [
       "(14061, 4913)"
      ]
     },
     "execution_count": 6,
     "metadata": {},
     "output_type": "execute_result"
    }
   ],
   "source": [
    "X_sparse_10users.shape #mine"
   ]
  },
  {
   "cell_type": "markdown",
   "metadata": {},
   "source": [
    "**Разобьем выборку на 2 части. На одной будем проводить кросс-валидацию, на второй – оценивать модель, обученную после кросс-валидации.**"
   ]
  },
  {
   "cell_type": "code",
   "execution_count": 7,
   "metadata": {},
   "outputs": [],
   "source": [
    "X_train, X_valid, y_train, y_valid = train_test_split(X_sparse_10users, y_10users, \n",
    "                                                      test_size=0.3, \n",
    "                                                     random_state=17, stratify=y_10users)"
   ]
  },
  {
   "cell_type": "markdown",
   "metadata": {},
   "source": [
    "**Зададим заранее тип кросс-валидации: 3-кратная, с перемешиванием, параметр random_state=17 – для воспроизводимости.**"
   ]
  },
  {
   "cell_type": "code",
   "execution_count": 8,
   "metadata": {},
   "outputs": [],
   "source": [
    "skf = StratifiedKFold(n_splits=3, shuffle=True, random_state=17)"
   ]
  },
  {
   "cell_type": "markdown",
   "metadata": {},
   "source": [
    "**Вспомогательная функция для отрисовки кривых валидации после запуска GridSearchCV (или RandomizedCV).**"
   ]
  },
  {
   "cell_type": "code",
   "execution_count": 9,
   "metadata": {},
   "outputs": [],
   "source": [
    "def plot_validation_curves(param_values, grid_cv_results_):\n",
    "    train_mu, train_std = grid_cv_results_['mean_train_score'], grid_cv_results_['std_train_score']\n",
    "    valid_mu, valid_std = grid_cv_results_['mean_test_score'], grid_cv_results_['std_test_score']\n",
    "    train_line = plt.plot(param_values, train_mu, '-', label='train', color='green')\n",
    "    valid_line = plt.plot(param_values, valid_mu, '-', label='test', color='red')\n",
    "    plt.fill_between(param_values, train_mu - train_std, train_mu + train_std, edgecolor='none',\n",
    "                     facecolor=train_line[0].get_color(), alpha=0.2)\n",
    "    plt.fill_between(param_values, valid_mu - valid_std, valid_mu + valid_std, edgecolor='none',\n",
    "                     facecolor=valid_line[0].get_color(), alpha=0.2)\n",
    "    plt.legend()"
   ]
  },
  {
   "cell_type": "markdown",
   "metadata": {},
   "source": [
    "**1. Обучите `KNeighborsClassifier` со 100 ближайшими соседями (остальные параметры оставьте по умолчанию, только `n_jobs`=-1 для распараллеливания) и посмотрите на долю правильных ответов на 3-кратной кросс-валидации (ради воспроизводимости используйте для этого объект `StratifiedKFold` `skf`) по выборке `(X_train, y_train)` и отдельно на выборке `(X_valid, y_valid)`.**"
   ]
  },
  {
   "cell_type": "code",
   "execution_count": 10,
   "metadata": {},
   "outputs": [],
   "source": [
    "from sklearn.neighbors import KNeighborsClassifier"
   ]
  },
  {
   "cell_type": "code",
   "execution_count": 11,
   "metadata": {},
   "outputs": [],
   "source": [
    "knn = KNeighborsClassifier(n_neighbors=100, n_jobs=-1)"
   ]
  },
  {
   "cell_type": "code",
   "execution_count": 12,
   "metadata": {},
   "outputs": [
    {
     "data": {
      "text/plain": [
       "0.5647188870063362"
      ]
     },
     "execution_count": 12,
     "metadata": {},
     "output_type": "execute_result"
    }
   ],
   "source": [
    "scores_train = cross_val_score(knn, X_train, y_train, cv=skf)\n",
    "score_train = scores_train.mean()\n",
    "score_train"
   ]
  },
  {
   "cell_type": "code",
   "execution_count": 13,
   "metadata": {},
   "outputs": [
    {
     "data": {
      "text/plain": [
       "0.584024650391088"
      ]
     },
     "execution_count": 13,
     "metadata": {},
     "output_type": "execute_result"
    }
   ],
   "source": [
    "knn.fit(X_train, y_train)\n",
    "score_valid = knn.score(X_valid, y_valid)\n",
    "score_valid"
   ]
  },
  {
   "cell_type": "markdown",
   "metadata": {},
   "source": [
    "**<font color='red'>Вопрос 1. </font> Посчитайте доли правильных ответов для KNeighborsClassifier на кросс-валидации и отложенной выборке. Округлите каждое до 3 знаков после запятой и введите через пробел.**"
   ]
  },
  {
   "cell_type": "code",
   "execution_count": 14,
   "metadata": {},
   "outputs": [],
   "source": [
    "# Функция сохранения в файл ответа, представленного массивом\n",
    "def write_answer_to_file(array, fname):\n",
    "    with open(fname,\"w\") as fout:\n",
    "        fout.write(\" \".join([str(el) for el in array]))"
   ]
  },
  {
   "cell_type": "code",
   "execution_count": 15,
   "metadata": {},
   "outputs": [
    {
     "name": "stdout",
     "output_type": "stream",
     "text": [
      "0.565 0.584\n"
     ]
    }
   ],
   "source": [
    "print(round(score_train, 3), round(score_valid, 3))"
   ]
  },
  {
   "cell_type": "code",
   "execution_count": 16,
   "metadata": {},
   "outputs": [],
   "source": [
    "write_answer_to_file([round(score_train, 3), round(score_valid, 3)],\n",
    "                     'answer4_1.txt')"
   ]
  },
  {
   "cell_type": "markdown",
   "metadata": {},
   "source": [
    "**2. Обучите случайный лес (`RandomForestClassifier`) из 100 деревьев (для воспроизводимости `random_state`=17). Посмотрите на OOB-оценку (для этого надо сразу установить `oob_score`=True) и на долю правильных ответов на выборке `(X_valid, y_valid)`. Для распараллеливания задайте `n_jobs`=-1.**"
   ]
  },
  {
   "cell_type": "code",
   "execution_count": 17,
   "metadata": {},
   "outputs": [],
   "source": [
    "from sklearn.ensemble import RandomForestClassifier"
   ]
  },
  {
   "cell_type": "code",
   "execution_count": 18,
   "metadata": {},
   "outputs": [
    {
     "data": {
      "text/plain": [
       "RandomForestClassifier(bootstrap=True, class_weight=None, criterion='gini',\n",
       "            max_depth=None, max_features='auto', max_leaf_nodes=None,\n",
       "            min_impurity_decrease=0.0, min_impurity_split=None,\n",
       "            min_samples_leaf=1, min_samples_split=2,\n",
       "            min_weight_fraction_leaf=0.0, n_estimators=100, n_jobs=-1,\n",
       "            oob_score=True, random_state=17, verbose=0, warm_start=False)"
      ]
     },
     "execution_count": 18,
     "metadata": {},
     "output_type": "execute_result"
    }
   ],
   "source": [
    "forest = RandomForestClassifier(n_estimators=100, random_state=17, oob_score=True, n_jobs=-1)\n",
    "forest.fit(X_train, y_train)"
   ]
  },
  {
   "cell_type": "markdown",
   "metadata": {},
   "source": [
    "**<font color='red'>Вопрос 2. </font> Посчитайте доли правильных ответов для `RandomForestClassifier` при Out-of-Bag оценке и на отложенной выборке. Округлите каждое до 3 знаков после запятой и введите через пробел.**"
   ]
  },
  {
   "cell_type": "code",
   "execution_count": 19,
   "metadata": {},
   "outputs": [
    {
     "data": {
      "text/plain": [
       "0.7225157488315384"
      ]
     },
     "execution_count": 19,
     "metadata": {},
     "output_type": "execute_result"
    }
   ],
   "source": [
    "forest_train = forest.oob_score_\n",
    "forest_train"
   ]
  },
  {
   "cell_type": "code",
   "execution_count": 20,
   "metadata": {},
   "outputs": [],
   "source": [
    "forest_valid = forest.score(X_valid, y_valid)"
   ]
  },
  {
   "cell_type": "code",
   "execution_count": 21,
   "metadata": {},
   "outputs": [
    {
     "name": "stdout",
     "output_type": "stream",
     "text": [
      "0.723 0.735\n"
     ]
    }
   ],
   "source": [
    "print(round(forest_train, 3), round(forest_valid, 3))"
   ]
  },
  {
   "cell_type": "code",
   "execution_count": 22,
   "metadata": {},
   "outputs": [],
   "source": [
    "write_answer_to_file([round(forest_train, 3), round(forest_valid, 3)],\n",
    "                     'answer4_2.txt')"
   ]
  },
  {
   "cell_type": "code",
   "execution_count": 23,
   "metadata": {},
   "outputs": [],
   "source": [
    "#!cat answer4_2.txt #hangs on my win10"
   ]
  },
  {
   "cell_type": "markdown",
   "metadata": {},
   "source": [
    "**3. Обучите логистическую регрессию (`LogisticRegression`) с параметром `C` по умолчанию и `random_state`=17 (для воспроизводимости). Посмотрите на долю правильных ответов на кросс-валидации (используйте объект `skf`, созданный ранее) и на выборке `(X_valid, y_valid)`. Для распараллеливания задайте `n_jobs=-1`.**"
   ]
  },
  {
   "cell_type": "code",
   "execution_count": 24,
   "metadata": {},
   "outputs": [],
   "source": [
    "from sklearn.linear_model import LogisticRegression, LogisticRegressionCV"
   ]
  },
  {
   "cell_type": "code",
   "execution_count": 32,
   "metadata": {},
   "outputs": [],
   "source": [
    "logit = LogisticRegression(random_state=17, n_jobs=-1)"
   ]
  },
  {
   "cell_type": "code",
   "execution_count": 33,
   "metadata": {},
   "outputs": [
    {
     "data": {
      "text/plain": [
       "0.5647188870063362"
      ]
     },
     "execution_count": 33,
     "metadata": {},
     "output_type": "execute_result"
    }
   ],
   "source": [
    "logit_scores_train = cross_val_score(logit, X_train, y_train, cv=skf)\n",
    "logit_score_train = scores_train.mean()\n",
    "logit_score_train"
   ]
  },
  {
   "cell_type": "code",
   "execution_count": 34,
   "metadata": {},
   "outputs": [
    {
     "data": {
      "text/plain": [
       "0.7817018250770325"
      ]
     },
     "execution_count": 34,
     "metadata": {},
     "output_type": "execute_result"
    }
   ],
   "source": [
    "logit.fit(X_train, y_train)\n",
    "logit_score_valid = logit.score(X_valid, y_valid)\n",
    "logit_score_valid"
   ]
  },
  {
   "cell_type": "markdown",
   "metadata": {},
   "source": [
    "**Почитайте документацию к [LogisticRegressionCV](http://scikit-learn.org/stable/modules/generated/sklearn.linear_model.LogisticRegressionCV.html). Логистическая регрессия хорошо изучена, и для нее существуют алгоритмы быстрого подбора параметра регуляризации `C` (быстрее, чем с `GridSearchCV`).**\n",
    "\n",
    "**С помощью `LogisticRegressionCV` подберите параметр `C` для `LogisticRegression` сначала в широком диапазоне: 10 значений от 1e-4 до 1e2, используйте `logspace` из `NumPy`. Укажите у `LogisticRegressionCV` параметры `multi_class`='multinomial' и `random_state`=17. Для кросс-валидации используйте объект `skf`, созданный ранее. Для распараллеливания задайте `n_jobs=-1`.**\n",
    "\n",
    "**Нарисуйте кривые валидации по параметру `C`.**"
   ]
  },
  {
   "cell_type": "code",
   "execution_count": 36,
   "metadata": {},
   "outputs": [
    {
     "name": "stdout",
     "output_type": "stream",
     "text": [
      "Wall time: 19.2 s\n"
     ]
    }
   ],
   "source": [
    "%%time\n",
    "logit_c_values1 = np.logspace(-4, 2, 10)\n",
    "\n",
    "logit_grid_searcher1 = LogisticRegressionCV(Cs=logit_c_values1, random_state=17, n_jobs=-1, cv=skf, multi_class='multinomial')\n",
    "logit_grid_searcher1.fit(X_train, y_train)"
   ]
  },
  {
   "cell_type": "code",
   "execution_count": 39,
   "metadata": {},
   "outputs": [
    {
     "data": {
      "text/plain": [
       "array([1.00000000e-04, 4.64158883e-04, 2.15443469e-03, 1.00000000e-02,\n",
       "       4.64158883e-02, 2.15443469e-01, 1.00000000e+00, 4.64158883e+00,\n",
       "       2.15443469e+01, 1.00000000e+02])"
      ]
     },
     "execution_count": 39,
     "metadata": {},
     "output_type": "execute_result"
    }
   ],
   "source": [
    "logit_c_values1"
   ]
  },
  {
   "cell_type": "markdown",
   "metadata": {},
   "source": [
    "Средние значения доли правильных ответов на кросс-валидации по каждому из 10 параметров `C`."
   ]
  },
  {
   "cell_type": "code",
   "execution_count": 63,
   "metadata": {},
   "outputs": [
    {
     "data": {
      "text/plain": [
       "array([0.31822225, 0.47337913, 0.55273512, 0.65119285, 0.71297117,\n",
       "       0.75137565, 0.75919919, 0.75655945, 0.75036202, 0.73888041])"
      ]
     },
     "execution_count": 63,
     "metadata": {},
     "output_type": "execute_result"
    }
   ],
   "source": [
    "#If the ‘multi_class’ option given is ‘multinomial’ then \n",
    "#the same scores are repeated across all classes, since this is the multinomial class\n",
    "logit_mean_cv_scores1 = logit_grid_searcher1.scores_.get(31).mean(axis=0)\n",
    "logit_mean_cv_scores1"
   ]
  },
  {
   "cell_type": "code",
   "execution_count": 74,
   "metadata": {},
   "outputs": [
    {
     "data": {
      "text/plain": [
       "array([1., 1., 1., 1., 1., 1., 1., 1., 1., 1.])"
      ]
     },
     "execution_count": 74,
     "metadata": {},
     "output_type": "execute_result"
    }
   ],
   "source": [
    "logit_grid_searcher1.C_"
   ]
  },
  {
   "cell_type": "markdown",
   "metadata": {},
   "source": [
    "Выведите лучшее значение доли правильных ответов на кросс-валидации и соответствующее значение `C`."
   ]
  },
  {
   "cell_type": "code",
   "execution_count": 64,
   "metadata": {},
   "outputs": [
    {
     "name": "stdout",
     "output_type": "stream",
     "text": [
      "0.7591991869143073 1.0\n"
     ]
    }
   ],
   "source": [
    "index = np.argmax(logit_mean_cv_scores1)\n",
    "print(logit_mean_cv_scores1[index], logit_c_values1[index])"
   ]
  },
  {
   "cell_type": "markdown",
   "metadata": {},
   "source": [
    "Нарисуйте график зависимости доли правильных ответов на кросс-валидации от `C`."
   ]
  },
  {
   "cell_type": "code",
   "execution_count": 65,
   "metadata": {},
   "outputs": [
    {
     "data": {
      "image/png": "[encoded data removed]",
      "text/plain": [
       "<matplotlib.figure.Figure at 0xc9938264e0>"
      ]
     },
     "metadata": {},
     "output_type": "display_data"
    }
   ],
   "source": [
    "plt.plot(logit_c_values1, logit_mean_cv_scores1);"
   ]
  },
  {
   "cell_type": "markdown",
   "metadata": {},
   "source": [
    "**Теперь то же самое, только значения параметра `C` перебирайте в диапазоне `np.linspace`(0.1, 7, 20). Опять нарисуйте кривые валидации, определите максимальное значение доли правильных ответов на кросс-валидации.**"
   ]
  },
  {
   "cell_type": "code",
   "execution_count": 66,
   "metadata": {},
   "outputs": [
    {
     "name": "stdout",
     "output_type": "stream",
     "text": [
      "Wall time: 1min\n"
     ]
    }
   ],
   "source": [
    "%%time\n",
    "logit_c_values2 = np.linspace(0.1, 7, 20)\n",
    "\n",
    "logit_grid_searcher2 = LogisticRegressionCV(Cs=logit_c_values2, random_state=17, n_jobs=-1, cv=skf, multi_class='multinomial')\n",
    "logit_grid_searcher2.fit(X_train, y_train)"
   ]
  },
  {
   "cell_type": "markdown",
   "metadata": {},
   "source": [
    "Средние значения доли правильных ответов на кросс-валидации по каждому из 10 параметров `C`."
   ]
  },
  {
   "cell_type": "code",
   "execution_count": 67,
   "metadata": {},
   "outputs": [
    {
     "name": "stdout",
     "output_type": "stream",
     "text": [
      "[0.1        0.46315789 0.82631579 1.18947368 1.55263158 1.91578947\n",
      " 2.27894737 2.64210526 3.00526316 3.36842105 3.73157895 4.09473684\n",
      " 4.45789474 4.82105263 5.18421053 5.54736842 5.91052632 6.27368421\n",
      " 6.63684211 7.        ]\n"
     ]
    },
    {
     "data": {
      "text/plain": [
       "array([0.7354267 , 0.75879135, 0.75838615, 0.75767464, 0.75818317,\n",
       "       0.75838717, 0.75808238, 0.75747318, 0.75706727, 0.75676347,\n",
       "       0.75716964, 0.75676347, 0.75595074, 0.75574774, 0.75513903,\n",
       "       0.75473337, 0.75483549, 0.75483549, 0.75432754, 0.75392104])"
      ]
     },
     "execution_count": 67,
     "metadata": {},
     "output_type": "execute_result"
    }
   ],
   "source": [
    "print(logit_c_values2)\n",
    "logit_mean_cv_scores2 = logit_grid_searcher2.scores_.get(31).mean(axis=0)\n",
    "logit_mean_cv_scores2"
   ]
  },
  {
   "cell_type": "markdown",
   "metadata": {},
   "source": [
    "Выведите лучшее значение доли правильных ответов на кросс-валидации и соответствующее значение `C`."
   ]
  },
  {
   "cell_type": "code",
   "execution_count": 68,
   "metadata": {},
   "outputs": [
    {
     "name": "stdout",
     "output_type": "stream",
     "text": [
      "0.7587913513956875 0.4631578947368421\n"
     ]
    }
   ],
   "source": [
    "index = np.argmax(logit_mean_cv_scores2)\n",
    "print(logit_mean_cv_scores2[index], logit_c_values2[index])"
   ]
  },
  {
   "cell_type": "code",
   "execution_count": 75,
   "metadata": {},
   "outputs": [
    {
     "data": {
      "text/plain": [
       "array([0.46315789, 0.46315789, 0.46315789, 0.46315789, 0.46315789,\n",
       "       0.46315789, 0.46315789, 0.46315789, 0.46315789, 0.46315789])"
      ]
     },
     "execution_count": 75,
     "metadata": {},
     "output_type": "execute_result"
    }
   ],
   "source": [
    "logit_grid_searcher2.C_"
   ]
  },
  {
   "cell_type": "markdown",
   "metadata": {},
   "source": [
    "Нарисуйте график зависимости доли правильных ответов на кросс-валидации от `C`."
   ]
  },
  {
   "cell_type": "code",
   "execution_count": 69,
   "metadata": {},
   "outputs": [
    {
     "data": {
      "image/png": "[encoded data removed]",
      "text/plain": [
       "<matplotlib.figure.Figure at 0xc9938b4ef0>"
      ]
     },
     "metadata": {},
     "output_type": "display_data"
    }
   ],
   "source": [
    "plt.plot(logit_c_values2, logit_mean_cv_scores2);"
   ]
  },
  {
   "cell_type": "markdown",
   "metadata": {},
   "source": [
    "Выведите долю правильных ответов на выборке `(X_valid, y_valid)` для логистической регрессии с лучшим найденным значением `C`."
   ]
  },
  {
   "cell_type": "code",
   "execution_count": 73,
   "metadata": {},
   "outputs": [
    {
     "data": {
      "text/plain": [
       "0.7748281583313581"
      ]
     },
     "execution_count": 73,
     "metadata": {},
     "output_type": "execute_result"
    }
   ],
   "source": [
    "logit_cv_acc = accuracy_score(y_valid, logit_grid_searcher2.predict(X_valid))\n",
    "logit_cv_acc"
   ]
  },
  {
   "cell_type": "markdown",
   "metadata": {},
   "source": [
    "**<font color='red'>Вопрос 3. </font>Посчитайте доли правильных ответов для `logit_grid_searcher2` на кросс-валидации для лучшего значения параметра `C` и на отложенной выборке. Округлите каждое до 3 знаков после запятой и выведите через пробел.**"
   ]
  },
  {
   "cell_type": "code",
   "execution_count": 79,
   "metadata": {},
   "outputs": [
    {
     "data": {
      "text/plain": [
       "0.7573693909666952"
      ]
     },
     "execution_count": 79,
     "metadata": {},
     "output_type": "execute_result"
    }
   ],
   "source": [
    "logit_grid2_scores_train = cross_val_score(logit_grid_searcher2, X_train, y_train, cv=skf)\n",
    "logit_grid2_score_train = logit_grid2_scores_train.mean()\n",
    "logit_grid2_score_train"
   ]
  },
  {
   "cell_type": "code",
   "execution_count": 80,
   "metadata": {},
   "outputs": [],
   "source": [
    "write_answer_to_file([round(logit_grid2_score_train, 3), round(logit_cv_acc, 3)],\n",
    "                     'answer4_3.txt')"
   ]
  },
  {
   "cell_type": "markdown",
   "metadata": {},
   "source": [
    "**4. Обучите линейный SVM (`LinearSVC`) с параметром `C`=1 и `random_state`=17 (для воспроизводимости). Посмотрите на долю правильных ответов на кросс-валидации (используйте объект `skf`, созданный ранее) и на выборке `(X_valid, y_valid)`.**"
   ]
  },
  {
   "cell_type": "code",
   "execution_count": 81,
   "metadata": {},
   "outputs": [],
   "source": [
    "from sklearn.svm import LinearSVC"
   ]
  },
  {
   "cell_type": "code",
   "execution_count": 83,
   "metadata": {},
   "outputs": [],
   "source": [
    "svm = LinearSVC(C=1, random_state=17)"
   ]
  },
  {
   "cell_type": "code",
   "execution_count": 84,
   "metadata": {},
   "outputs": [
    {
     "data": {
      "text/plain": [
       "0.7527976723012523"
      ]
     },
     "execution_count": 84,
     "metadata": {},
     "output_type": "execute_result"
    }
   ],
   "source": [
    "svm_scores_train = cross_val_score(svm, X_train, y_train, cv=skf)\n",
    "svm_score_train = svm_scores_train.mean()\n",
    "svm_score_train"
   ]
  },
  {
   "cell_type": "code",
   "execution_count": 86,
   "metadata": {},
   "outputs": [
    {
     "data": {
      "text/plain": [
       "0.7769613652524295"
      ]
     },
     "execution_count": 86,
     "metadata": {},
     "output_type": "execute_result"
    }
   ],
   "source": [
    "svm.fit(X_train, y_train)\n",
    "svm_score_test = svm.score(X_valid, y_valid)\n",
    "svm_score_test"
   ]
  },
  {
   "cell_type": "markdown",
   "metadata": {},
   "source": [
    "**С помощью `GridSearchCV` подберите параметр `C` для SVM сначала в широком диапазоне: 10 значений от 1e-4 до 1e4, используйте `linspace` из NumPy. Нарисуйте кривые валидации.**"
   ]
  },
  {
   "cell_type": "code",
   "execution_count": 87,
   "metadata": {},
   "outputs": [
    {
     "name": "stdout",
     "output_type": "stream",
     "text": [
      "Wall time: 39.5 s\n"
     ]
    }
   ],
   "source": [
    "%%time\n",
    "svm_params1 = {'C': np.linspace(1e-4, 1e4, 10)}\n",
    "\n",
    "svm_grid_searcher1 = GridSearchCV(svm, svm_params1, n_jobs=-1)\n",
    "svm_grid_searcher1.fit(X_train, y_train)"
   ]
  },
  {
   "cell_type": "markdown",
   "metadata": {},
   "source": [
    "Выведите лучшее значение доли правильных ответов на кросс-валидации и соответствующее значение `C`."
   ]
  },
  {
   "cell_type": "code",
   "execution_count": 94,
   "metadata": {},
   "outputs": [
    {
     "name": "stdout",
     "output_type": "stream",
     "text": [
      "0.692237350132087 LinearSVC(C=3333.3334000000004, class_weight=None, dual=True,\n",
      "     fit_intercept=True, intercept_scaling=1, loss='squared_hinge',\n",
      "     max_iter=1000, multi_class='ovr', penalty='l2', random_state=17,\n",
      "     tol=0.0001, verbose=0)\n"
     ]
    }
   ],
   "source": [
    "''' ВАШ КОД ЗДЕСЬ '''\n",
    "print(svm_grid_searcher1.best_score_, svm_grid_searcher1.best_estimator_)"
   ]
  },
  {
   "cell_type": "markdown",
   "metadata": {},
   "source": [
    "Нарисуйте график зависимости доли правильных ответов на кросс-валидации от `C`."
   ]
  },
  {
   "cell_type": "code",
   "execution_count": 88,
   "metadata": {},
   "outputs": [
    {
     "data": {
      "image/png": "[encoded data removed]",
      "text/plain": [
       "<matplotlib.figure.Figure at 0xc9938a3550>"
      ]
     },
     "metadata": {},
     "output_type": "display_data"
    }
   ],
   "source": [
    "plot_validation_curves(svm_params1['C'], svm_grid_searcher1.cv_results_)"
   ]
  },
  {
   "cell_type": "markdown",
   "metadata": {},
   "source": [
    "**Но мы помним, что с параметром регуляризации по умолчанию (С=1) на кросс-валидации доля правильных ответов выше. Это тот случай (не редкий), когда можно ошибиться и перебирать параметры не в том диапазоне (причина в том, что мы взяли равномерную сетку на большом интервале и упустили действительно хороший интервал значений `C`). Здесь намного осмысленней подбирать `C` в районе 1, к тому же, так модель быстрее обучается, чем при больших `C`. **\n",
    "\n",
    "**С помощью `GridSearchCV` подберите параметр `C` для SVM в диапазоне (1e-3, 1), 30 значений, используйте `linspace` из NumPy. Нарисуйте кривые валидации.**"
   ]
  },
  {
   "cell_type": "code",
   "execution_count": 95,
   "metadata": {},
   "outputs": [
    {
     "name": "stdout",
     "output_type": "stream",
     "text": [
      "Wall time: 1min 13s\n"
     ]
    }
   ],
   "source": [
    "%%time\n",
    "svm_params2 = {'C': np.linspace(1e-3, 1, 30)}\n",
    "\n",
    "svm_grid_searcher2 = GridSearchCV(svm, svm_params2, n_jobs=-1)\n",
    "svm_grid_searcher2.fit(X_train, y_train)"
   ]
  },
  {
   "cell_type": "markdown",
   "metadata": {},
   "source": [
    "Выведите лучшее значение доли правильных ответов на кросс-валидации и соответствующее значение `C`."
   ]
  },
  {
   "cell_type": "code",
   "execution_count": 96,
   "metadata": {},
   "outputs": [
    {
     "name": "stdout",
     "output_type": "stream",
     "text": [
      "0.7661044503149766 LinearSVC(C=0.13879310344827586, class_weight=None, dual=True,\n",
      "     fit_intercept=True, intercept_scaling=1, loss='squared_hinge',\n",
      "     max_iter=1000, multi_class='ovr', penalty='l2', random_state=17,\n",
      "     tol=0.0001, verbose=0)\n"
     ]
    }
   ],
   "source": [
    "print(svm_grid_searcher2.best_score_, svm_grid_searcher2.best_estimator_)"
   ]
  },
  {
   "cell_type": "markdown",
   "metadata": {},
   "source": [
    "Нарисуйте график зависимости доли правильных ответов на кросс-валидации от С."
   ]
  },
  {
   "cell_type": "code",
   "execution_count": 97,
   "metadata": {},
   "outputs": [
    {
     "data": {
      "image/png": "[encoded data removed]",
      "text/plain": [
       "<matplotlib.figure.Figure at 0xc988da65c0>"
      ]
     },
     "metadata": {},
     "output_type": "display_data"
    }
   ],
   "source": [
    "plot_validation_curves(svm_params2['C'], svm_grid_searcher2.cv_results_)"
   ]
  },
  {
   "cell_type": "markdown",
   "metadata": {},
   "source": [
    "Выведите долю правильных ответов на выборке `(X_valid, y_valid)` для `LinearSVC` с лучшим найденным значением `C`."
   ]
  },
  {
   "cell_type": "code",
   "execution_count": 98,
   "metadata": {},
   "outputs": [
    {
     "data": {
      "text/plain": [
       "0.7817018250770325"
      ]
     },
     "execution_count": 98,
     "metadata": {},
     "output_type": "execute_result"
    }
   ],
   "source": [
    "svm_cv_acc = accuracy_score(y_valid, svm_grid_searcher2.best_estimator_.predict(X_valid))\n",
    "svm_cv_acc"
   ]
  },
  {
   "cell_type": "markdown",
   "metadata": {},
   "source": [
    "**<font color='red'>Вопрос 4. </font> Посчитайте доли правильных ответов для `svm_grid_searcher2` на кросс-валидации для лучшего значения параметра `C` и на отложенной выборке. Округлите каждое до 3 знаков после запятой и выведите через пробел.**"
   ]
  },
  {
   "cell_type": "code",
   "execution_count": 99,
   "metadata": {},
   "outputs": [],
   "source": [
    "write_answer_to_file([round(svm_grid_searcher2.best_score_, 3), round(svm_cv_acc, 3)],\n",
    "                     'answer4_4.txt')"
   ]
  },
  {
   "cell_type": "markdown",
   "metadata": {},
   "source": [
    "## Часть 2. Выбор параметров – длины сессии и ширины окна"
   ]
  },
  {
   "cell_type": "markdown",
   "metadata": {},
   "source": [
    "**Возьмем `LinearSVC`, показавший лучшее качество на кросс-валидации в 1 части, и проверим его работу еще на 8 выборках для 10 пользователей (с разными сочетаниями параметров *session_length* и *window_size*). Поскольку тут уже вычислений побольше, мы не будем каждый раз заново подбирать параметр регуляризации `C`.**\n",
    "\n",
    "**Определите функцию `model_assessment`, ее документация описана ниже. Обратите внимание на все детали. Например, на то, что разбиение  выборки с `train_test_split` должно быть стратифицированным. Не теряйте нигде `random_state`.**"
   ]
  },
  {
   "cell_type": "code",
   "execution_count": 138,
   "metadata": {},
   "outputs": [],
   "source": [
    "import time\n",
    "\n",
    "def model_assessment(estimator, path_to_X_pickle, path_to_y_pickle, cv, random_state=17, test_size=0.3):\n",
    "    '''\n",
    "    Estimates CV-accuracy for (1 - test_size) share of (X_sparse, y) \n",
    "    loaded from path_to_X_pickle and path_to_y_pickle and holdout accuracy for (test_size) share of (X_sparse, y).\n",
    "    The split is made with stratified train_test_split with params random_state and test_size.\n",
    "    \n",
    "    :param estimator – Scikit-learn estimator (classifier or regressor)\n",
    "    :param path_to_X_pickle – path to pickled sparse X (instances and their features)\n",
    "    :param path_to_y_pickle – path to pickled y (responses)\n",
    "    :param cv – cross-validation as in cross_val_score (use StratifiedKFold here)\n",
    "    :param random_state –  for train_test_split\n",
    "    :param test_size –  for train_test_split\n",
    "    \n",
    "    :returns mean CV-accuracy for (X_train, y_train) and accuracy for (X_valid, y_valid) where (X_train, y_train)\n",
    "    and (X_valid, y_valid) are (1 - test_size) and (testsize) shares of (X_sparse, y).\n",
    "    '''\n",
    "    start = time.time()\n",
    "    with open(path_to_X_pickle, 'rb') as X_sparse_10users_pkl:\n",
    "        X_sparse = pickle.load(X_sparse_10users_pkl)\n",
    "    with open(path_to_y_pickle, 'rb') as y_10users_pkl:\n",
    "        y = pickle.load(y_10users_pkl)\n",
    "    print(\"SHAPE:\", X_sparse.shape, y.shape)  \n",
    "    \n",
    "    X_train, X_valid, y_train, y_valid = train_test_split(X_sparse, y, \n",
    "                    test_size=test_size, random_state=random_state, stratify=y)\n",
    "    \n",
    "    print(\"Split shape:\", X_train.shape, y_train.shape, X_valid.shape, y_valid.shape)\n",
    "\n",
    "    cv_score = cross_val_score(estimator, X_train, y_train, cv=cv).mean()    \n",
    "    y_predict = estimator.predict(X_valid)\n",
    "    \n",
    "    holdout_score = accuracy_score(y_valid, y_predict)\n",
    "    return (cv_score, holdout_score, (time.time() - start))"
   ]
  },
  {
   "cell_type": "markdown",
   "metadata": {},
   "source": [
    "**Убедитесь, что функция работает.**"
   ]
  },
  {
   "cell_type": "code",
   "execution_count": 139,
   "metadata": {},
   "outputs": [
    {
     "name": "stdout",
     "output_type": "stream",
     "text": [
      "SHAPE: (14061, 4913) (14061,)\n",
      "Split shape: (9842, 4913) (9842,) (4219, 4913) (4219,)\n",
      "Wall time: 1.96 s\n"
     ]
    },
    {
     "data": {
      "text/plain": [
       "(0.7633649590115557, 0.7817018250770325, 1.9565691947937012)"
      ]
     },
     "execution_count": 139,
     "metadata": {},
     "output_type": "execute_result"
    }
   ],
   "source": [
    "%%time\n",
    "model_assessment(svm_grid_searcher2.best_estimator_, \n",
    "                 os.path.join(PATH_TO_DATA, 'X_sparse_10users.pkl'),\n",
    "        os.path.join(PATH_TO_DATA, 'y_10users.pkl'), skf, random_state=17, test_size=0.3)"
   ]
  },
  {
   "cell_type": "markdown",
   "metadata": {},
   "source": [
    "**Примените функцию *model_assessment* для лучшего алгоритма из предыдущей части (а именно, `svm_grid_searcher2.best_estimator_`) и 9 выборок вида с разными сочетаниями параметров *session_length* и *window_size* для 10 пользователей. Выведите в цикле параметры *session_length* и *window_size*, а также результат вывода функции *model_assessment*. \n",
    "Удобно сделать так, чтоб *model_assessment* возвращала 3-им элементом время, за которое она выполнилась. На моем ноуте этот участок кода выполнился за 20 секунд. Но со 150 пользователями каждая итерация занимает уже несколько минут.**"
   ]
  },
  {
   "cell_type": "markdown",
   "metadata": {},
   "source": [
    "Здесь для удобства стоит создать копии ранее созданных pickle-файлов X_sparse_10users.pkl, X_sparse_150users.pkl, y_10users.pkl и y_150users.pkl, добавив к их названиям s10_w10, что означает длину сессии 10 и ширину окна 10. "
   ]
  },
  {
   "cell_type": "code",
   "execution_count": 102,
   "metadata": {},
   "outputs": [
    {
     "name": "stderr",
     "output_type": "stream",
     "text": [
      "\"cp\" ­Ґ пў«пҐвбп ў­гваҐ­­Ґ© Ё«Ё ў­Ґи­Ґ©\n",
      "Є®¬ ­¤®©, ЁбЇ®«­пҐ¬®© Їа®Ја ¬¬®© Ё«Ё Ї ЄҐв­л¬ д ©«®¬.\n",
      "\"cp\" ­Ґ пў«пҐвбп ў­гваҐ­­Ґ© Ё«Ё ў­Ґи­Ґ©\n",
      "Є®¬ ­¤®©, ЁбЇ®«­пҐ¬®© Їа®Ја ¬¬®© Ё«Ё Ї ЄҐв­л¬ д ©«®¬.\n",
      "\"cp\" ­Ґ пў«пҐвбп ў­гваҐ­­Ґ© Ё«Ё ў­Ґи­Ґ©\n",
      "Є®¬ ­¤®©, ЁбЇ®«­пҐ¬®© Їа®Ја ¬¬®© Ё«Ё Ї ЄҐв­л¬ д ©«®¬.\n",
      "\"cp\" ­Ґ пў«пҐвбп ў­гваҐ­­Ґ© Ё«Ё ў­Ґи­Ґ©\n",
      "Є®¬ ­¤®©, ЁбЇ®«­пҐ¬®© Їа®Ја ¬¬®© Ё«Ё Ї ЄҐв­л¬ д ©«®¬.\n"
     ]
    }
   ],
   "source": [
    "!cp $PATH_TO_DATA/X_sparse_10users.pkl $PATH_TO_DATA/X_sparse_10users_s10_w10.pkl \n",
    "!cp $PATH_TO_DATA/X_sparse_150users.pkl $PATH_TO_DATA/X_sparse_150users_s10_w10.pkl \n",
    "!cp $PATH_TO_DATA/y_10users.pkl $PATH_TO_DATA/y_10users_s10_w10.pkl \n",
    "!cp $PATH_TO_DATA/y_150users.pkl $PATH_TO_DATA/y_150users_s10_w10.pkl "
   ]
  },
  {
   "cell_type": "code",
   "execution_count": 134,
   "metadata": {},
   "outputs": [
    {
     "name": "stdout",
     "output_type": "stream",
     "text": [
      "SHAPE: (14061, 4913) (14061,)\n",
      "Split shape: (9842, 4913) (9842,) (4219, 4913) (4219,)\n",
      "Expected shape: (4219,) Predicted shape: (4219,)\n",
      "s:15 w:10 cv score:0.8217896546706148 holdout_score:0.8307655842616734 time:3.1757609844207764\n",
      "SHAPE: (14061, 4913) (14061,)\n",
      "Split shape: (9842, 4913) (9842,) (4219, 4913) (4219,)\n",
      "Expected shape: (4219,) Predicted shape: (4219,)\n",
      "s:10 w:10 cv score:0.7633649590115557 holdout_score:0.7817018250770325 time:1.679896354675293\n",
      "SHAPE: (20087, 4913) (20087,)\n",
      "Split shape: (14060, 4913) (14060,) (6027, 4913) (6027,)\n",
      "Expected shape: (6027,) Predicted shape: (6027,)\n",
      "s:15 w:7 cv score:0.8470874683536852 holdout_score:0.863447818151651 time:4.736433982849121\n",
      "SHAPE: (20087, 4913) (20087,)\n",
      "Split shape: (14060, 4913) (14060,) (6027, 4913) (6027,)\n",
      "Expected shape: (6027,) Predicted shape: (6027,)\n",
      "s:10 w:7 cv score:0.7975853695418165 holdout_score:0.8324207731873237 time:2.742100954055786\n",
      "SHAPE: (20087, 4913) (20087,)\n",
      "Split shape: (14060, 4913) (14060,) (6027, 4913) (6027,)\n",
      "Expected shape: (6027,) Predicted shape: (6027,)\n",
      "s:7 w:7 cv score:0.7544123057721982 holdout_score:0.7975775676124108 time:1.6994538307189941\n",
      "SHAPE: (28118, 4913) (28118,)\n",
      "Split shape: (19682, 4913) (19682,) (8436, 4913) (8436,)\n",
      "Expected shape: (8436,) Predicted shape: (8436,)\n",
      "s:15 w:5 cv score:0.8689670755674888 holdout_score:0.8691322901849218 time:6.313070774078369\n",
      "SHAPE: (28118, 4913) (28118,)\n",
      "Split shape: (19682, 4913) (19682,) (8436, 4913) (8436,)\n",
      "Expected shape: (8436,) Predicted shape: (8436,)\n",
      "s:10 w:5 cv score:0.8179570941042811 holdout_score:0.8398530109056425 time:3.4754045009613037\n",
      "SHAPE: (28118, 4913) (28118,)\n",
      "Split shape: (19682, 4913) (19682,) (8436, 4913) (8436,)\n",
      "Expected shape: (8436,) Predicted shape: (8436,)\n",
      "s:7 w:5 cv score:0.7753290851849481 holdout_score:0.8027501185395922 time:2.0248939990997314\n",
      "SHAPE: (28118, 4913) (28118,)\n",
      "Split shape: (19682, 4913) (19682,) (8436, 4913) (8436,)\n",
      "Expected shape: (8436,) Predicted shape: (8436,)\n",
      "s:5 w:5 cv score:0.7267058295650503 holdout_score:0.7607871028923661 time:1.3205766677856445\n",
      "Wall time: 27.2 s\n"
     ]
    }
   ],
   "source": [
    "%%time\n",
    "estimator = svm_grid_searcher2.best_estimator_\n",
    "\n",
    "for window_size, session_length in itertools.product([10, 7, 5], [15, 10, 7, 5]):\n",
    "    if window_size <= session_length:\n",
    "        path_to_X_pkl = os.path.join(PATH_TO_DATA, f'X_sparse_10users_s{session_length}_w{window_size}.pkl')\n",
    "        path_to_y_pkl = os.path.join(PATH_TO_DATA, f'y_10users_s{session_length}_w{window_size}.pkl')\n",
    "        (cv, hold, t) = model_assessment(estimator, path_to_X_pkl, path_to_y_pkl, skf, random_state=17, test_size=0.3)\n",
    "        print(f\"s:{session_length}\", f\"w:{window_size}\", f\"cv score:{cv}\", f\"holdout_score:{hold}\", f\"time:{t}\")"
   ]
  },
  {
   "cell_type": "markdown",
   "metadata": {},
   "source": [
    "**<font color='red'>Вопрос 5. </font> Посчитайте доли правильных ответов для `LinearSVC` с настроенным параметром `C` и выборки `X_sparse_10users_s15_w5`. Укажите доли правильных ответов на кросс-валидации и на отложенной выборке. Округлите каждое до 3 знаков после запятой и выведите через пробел.**"
   ]
  },
  {
   "cell_type": "code",
   "execution_count": 120,
   "metadata": {},
   "outputs": [],
   "source": [
    "write_answer_to_file([round(0.8689670755674888, 3), round(0.8691322901849218, 3)],\n",
    "                     'answer4_5.txt')"
   ]
  },
  {
   "cell_type": "markdown",
   "metadata": {},
   "source": [
    "**Прокомментируйте полученные результаты. Сравните для 150 пользователей доли правильных ответов на кросс-валидации и оставленной выборке для сочетаний параметров (*session_length, window_size*): (5,5), (7,7) и (10,10). На среднем ноуте это может занять до часа – запаситесь терпением, это Data Science :) **\n",
    "\n",
    "**Сделайте вывод о том, как качество классификации зависит от длины сессии и ширины окна.**"
   ]
  },
  {
   "cell_type": "code",
   "execution_count": 145,
   "metadata": {},
   "outputs": [],
   "source": [
    "# not recommended to use, takes hours and hours\n",
    "with open(os.path.join(PATH_TO_DATA, \n",
    "         'X_sparse_150users.pkl'), 'rb') as X_sparse_150users_pkl:\n",
    "    X_sparse_150users = pickle.load(X_sparse_150users_pkl)\n",
    "with open(os.path.join(PATH_TO_DATA, \n",
    "                       'y_150users.pkl'), 'rb') as y_150users_pkl:\n",
    "    y_150users = pickle.load(y_150users_pkl)\n",
    "\n",
    "X_train, X_valid, y_train, y_valid = train_test_split(X_sparse_150users, y_150users, \n",
    "                                                      test_size=0.3, \n",
    "                                                     random_state=17, stratify=y_150users)\n",
    "#svm_params3 = {'C': np.linspace(1e-3, 1, 30)}\n",
    "\n",
    "#svm_grid_searcher3 = GridSearchCV(svm, svm_params3, n_jobs=-1)\n",
    "#svm_grid_searcher3.fit(X_train, y_train)\n",
    "\n",
    "#estimator = svm_grid_searcher3.best_estimator_"
   ]
  },
  {
   "cell_type": "code",
   "execution_count": 146,
   "metadata": {},
   "outputs": [
    {
     "name": "stdout",
     "output_type": "stream",
     "text": [
      "SHAPE: (137019, 27797) (137019,)\n",
      "Split shape: (95913, 27797) (95913,) (41106, 27797) (41106,)\n",
      "s:10 w:10 cv score:0.46131133117144474 holdout_score:0.48447915146207365 time:269.0458962917328\n",
      "Wall time: 7min 13s\n"
     ]
    }
   ],
   "source": [
    "%%time\n",
    "estimator = LinearSVC(C=0.13879310344827586, random_state=17)\n",
    "estimator.fit(X_train, y_train)\n",
    "\n",
    "for window_size, session_length in [(10,10)]:\n",
    "        path_to_X_pkl = os.path.join(PATH_TO_DATA, f'X_sparse_150users_s{session_length}_w{window_size}.pkl')\n",
    "        path_to_y_pkl = os.path.join(PATH_TO_DATA, f'y_150users_s{session_length}_w{window_size}.pkl')\n",
    "        (cv, hold, t) = model_assessment(estimator, path_to_X_pkl, path_to_y_pkl, skf, random_state=17, test_size=0.3)\n",
    "        print(f\"s:{session_length}\", f\"w:{window_size}\", f\"cv score:{cv}\", f\"holdout_score:{hold}\", f\"time:{t}\")"
   ]
  },
  {
   "cell_type": "markdown",
   "metadata": {},
   "source": [
    "**<font color='red'>Вопрос 6. </font> Посчитайте доли правильных ответов для `LinearSVC` с настроенным параметром `C` и выборки `X_sparse_150users`. Укажите доли правильных ответов на кросс-валидации и на отложенной выборке. Округлите каждое до 3 знаков после запятой и выведите через пробел.**"
   ]
  },
  {
   "cell_type": "code",
   "execution_count": 147,
   "metadata": {},
   "outputs": [],
   "source": [
    "write_answer_to_file([round(0.46131133117144474, 3), round(0.48447915146207365, 3)],\n",
    "                     'answer4_6.txt')"
   ]
  },
  {
   "cell_type": "markdown",
   "metadata": {},
   "source": [
    "## Часть 3. Идентификация  конкретного пользователя и кривые обучения"
   ]
  },
  {
   "cell_type": "markdown",
   "metadata": {},
   "source": [
    "**Поскольку может разочаровать, что многоклассовая доля правильных ответов на выборке из 150 пользовалей невелика, порадуемся тому, что конкретного пользователя можно идентифицировать достаточно хорошо. **"
   ]
  },
  {
   "cell_type": "markdown",
   "metadata": {},
   "source": [
    "**Загрузим сериализованные ранее объекты *X_sparse_150users* и *y_150users*, соответствующие обучающей выборке для 150 пользователей с параметрами (*session_length, window_size*) = (10,10). Так же точно разобьем их на 70% и 30%.**"
   ]
  },
  {
   "cell_type": "code",
   "execution_count": 148,
   "metadata": {},
   "outputs": [],
   "source": [
    "with open(os.path.join(PATH_TO_DATA, 'X_sparse_150users.pkl'), 'rb') as X_sparse_150users_pkl:\n",
    "     X_sparse_150users = pickle.load(X_sparse_150users_pkl)\n",
    "with open(os.path.join(PATH_TO_DATA, 'y_150users.pkl'), 'rb') as y_150users_pkl:\n",
    "    y_150users = pickle.load(y_150users_pkl)"
   ]
  },
  {
   "cell_type": "code",
   "execution_count": 149,
   "metadata": {},
   "outputs": [],
   "source": [
    "X_train_150, X_valid_150, y_train_150, y_valid_150 = train_test_split(X_sparse_150users, \n",
    "                                                                      y_150users, test_size=0.3, \n",
    "                                                     random_state=17, stratify=y_150users)"
   ]
  },
  {
   "cell_type": "markdown",
   "metadata": {},
   "source": [
    "**Обучите `LogisticRegressionCV` для одного значения параметра `C` (лучшего на кросс-валидации в 1 части, используйте точное значение, не на глаз). Теперь будем решать 150 задач \"Один-против-Всех\", поэтому укажите аргумент `multi_class`='ovr'. Как всегда, где возможно, указывайте `n_jobs=-1` и `random_state`=17.**"
   ]
  },
  {
   "cell_type": "code",
   "execution_count": 176,
   "metadata": {},
   "outputs": [
    {
     "name": "stdout",
     "output_type": "stream",
     "text": [
      "0.4631578947368421\n",
      "3.7315789473684213\n"
     ]
    }
   ],
   "source": [
    "print(logit_grid_searcher2.C_[0])\n",
    "print(logit_grid_searcher2.Cs_[10])"
   ]
  },
  {
   "cell_type": "code",
   "execution_count": 190,
   "metadata": {},
   "outputs": [
    {
     "name": "stdout",
     "output_type": "stream",
     "text": [
      "Wall time: 7min 8s\n"
     ]
    }
   ],
   "source": [
    "%%time\n",
    "logit_cv_150users = LogisticRegressionCV(Cs=[logit_grid_searcher2.Cs_[10]], random_state=17, n_jobs=-1, multi_class='ovr', cv=skf)\n",
    "logit_cv_150users.fit(X_train_150, y_train_150)"
   ]
  },
  {
   "cell_type": "markdown",
   "metadata": {},
   "source": [
    "**Посмотрите на средние доли правильных ответов на кросс-валидации в задаче идентификации каждого пользователя по отдельности.**"
   ]
  },
  {
   "cell_type": "code",
   "execution_count": 191,
   "metadata": {},
   "outputs": [
    {
     "name": "stdout",
     "output_type": "stream",
     "text": [
      "User 6, CV score: 0.9958396485310578\n",
      "User 13, CV score: 0.996236159606072\n",
      "User 15, CV score: 0.9951414156621485\n",
      "User 16, CV score: 0.9917629636028263\n",
      "User 28, CV score: 0.990032646749408\n",
      "User 31, CV score: 0.9945992933895361\n",
      "User 33, CV score: 0.9936295923347456\n",
      "User 39, CV score: 0.9857474441964414\n",
      "User 46, CV score: 0.9979773735144889\n",
      "User 49, CV score: 0.9949328849394247\n",
      "User 50, CV score: 0.9944847392709221\n",
      "User 53, CV score: 0.9936087227963695\n",
      "User 65, CV score: 0.9969973347781819\n",
      "User 66, CV score: 0.9949640742212859\n",
      "User 82, CV score: 0.9963612639936241\n",
      "User 85, CV score: 0.9963196987839488\n",
      "User 89, CV score: 0.9905122649916512\n",
      "User 92, CV score: 0.9943596252032839\n",
      "User 100, CV score: 0.9947138940123931\n",
      "User 102, CV score: 0.991190153815365\n",
      "User 103, CV score: 0.9798572049408728\n",
      "User 105, CV score: 0.9968201105460203\n",
      "User 106, CV score: 0.9945051894225921\n",
      "User 118, CV score: 0.9906581115547454\n",
      "User 119, CV score: 0.9966011573912393\n",
      "User 120, CV score: 0.9942028893690901\n",
      "User 126, CV score: 0.9949953666657659\n",
      "User 127, CV score: 0.9910646256751109\n",
      "User 128, CV score: 0.9845800139956307\n",
      "User 138, CV score: 0.997195338958136\n",
      "User 158, CV score: 0.9970494778749127\n",
      "User 160, CV score: 0.9968616573436172\n",
      "User 165, CV score: 0.9972996440377231\n",
      "User 172, CV score: 0.996538553616154\n",
      "User 177, CV score: 0.996840961672318\n",
      "User 203, CV score: 0.9973101662144965\n",
      "User 207, CV score: 0.9874161297727787\n",
      "User 223, CV score: 0.9964863587010901\n",
      "User 233, CV score: 0.9963194919846642\n",
      "User 235, CV score: 0.9967053544681646\n",
      "User 236, CV score: 0.9900851341623905\n",
      "User 237, CV score: 0.9891879280334254\n",
      "User 238, CV score: 0.9962986602185385\n",
      "User 240, CV score: 0.995808619544238\n",
      "User 241, CV score: 0.9960276434034773\n",
      "User 242, CV score: 0.9949952775492292\n",
      "User 245, CV score: 0.9960172059772443\n",
      "User 246, CV score: 0.9970390317166872\n",
      "User 249, CV score: 0.9951415052527319\n",
      "User 252, CV score: 0.996434272262735\n",
      "User 254, CV score: 0.9916382113154247\n",
      "User 256, CV score: 0.9961109849881087\n",
      "User 258, CV score: 0.9957876604152786\n",
      "User 259, CV score: 0.9950894139743337\n",
      "User 260, CV score: 0.9972787933854722\n",
      "User 261, CV score: 0.9896577670195402\n",
      "User 263, CV score: 0.9926391771965775\n",
      "User 264, CV score: 0.9966739206147682\n",
      "User 269, CV score: 0.9870403061111178\n",
      "User 270, CV score: 0.9889581882961168\n",
      "User 273, CV score: 0.9944220459052531\n",
      "User 287, CV score: 0.990355863793623\n",
      "User 294, CV score: 0.9959443207049712\n",
      "User 298, CV score: 0.9910332867263878\n",
      "User 301, CV score: 0.99707028591487\n",
      "User 308, CV score: 0.9956836183193051\n",
      "User 315, CV score: 0.9974141652241295\n",
      "User 318, CV score: 0.9957356393672918\n",
      "User 327, CV score: 0.9966741138420175\n",
      "User 332, CV score: 0.9967992647338124\n",
      "User 333, CV score: 0.9960903556552715\n",
      "User 339, CV score: 0.9969970853666035\n",
      "User 340, CV score: 0.9967261910743334\n",
      "User 342, CV score: 0.9922431078122971\n",
      "User 344, CV score: 0.9967365248639005\n",
      "User 351, CV score: 0.9923784133124925\n",
      "User 356, CV score: 0.99753947204497\n",
      "User 361, CV score: 0.9965801469179936\n",
      "User 363, CV score: 0.9964135339791422\n",
      "User 411, CV score: 0.9908042772857825\n",
      "User 417, CV score: 0.9968514271907155\n",
      "User 425, CV score: 0.9942969037454504\n",
      "User 430, CV score: 0.9961838470082602\n",
      "User 435, CV score: 0.9971224672578982\n",
      "User 436, CV score: 0.9951413735239018\n",
      "User 440, CV score: 0.9971326882047608\n",
      "User 444, CV score: 0.9974665155941921\n",
      "User 475, CV score: 0.9892924873646338\n",
      "User 476, CV score: 0.9968304685358027\n",
      "User 486, CV score: 0.9953915343726223\n",
      "User 515, CV score: 0.9941927255546505\n",
      "User 533, CV score: 0.9936610257140952\n",
      "User 561, CV score: 0.984496138759448\n",
      "User 563, CV score: 0.9968825312479894\n",
      "User 564, CV score: 0.9955167143046754\n",
      "User 568, CV score: 0.991909247490658\n",
      "User 569, CV score: 0.9892926282995034\n",
      "User 570, CV score: 0.9982589832107817\n",
      "User 573, CV score: 0.9910124694803913\n",
      "User 575, CV score: 0.9900432347905967\n",
      "User 576, CV score: 0.9943594702223323\n",
      "User 580, CV score: 0.9865084082032703\n",
      "User 583, CV score: 0.9803776735643112\n",
      "User 584, CV score: 0.9813368805344925\n",
      "User 600, CV score: 0.991502599745275\n",
      "User 603, CV score: 0.9956001784120979\n",
      "User 605, CV score: 0.9972996120536092\n",
      "User 640, CV score: 0.9971537597023783\n",
      "User 647, CV score: 0.9973620133954061\n",
      "User 653, CV score: 0.9973934322546268\n",
      "User 664, CV score: 0.9952979490630538\n",
      "User 665, CV score: 0.9969972693878134\n",
      "User 677, CV score: 0.9966322711285994\n",
      "User 692, CV score: 0.9969451117709535\n",
      "User 697, CV score: 0.9957460530673566\n",
      "User 705, CV score: 0.9964655128888822\n",
      "User 722, CV score: 0.9945053400375478\n",
      "User 740, CV score: 0.996747206387622\n",
      "User 741, CV score: 0.9970493461460824\n",
      "User 756, CV score: 0.995454161873876\n",
      "User 780, CV score: 0.9964136240437725\n",
      "User 784, CV score: 0.996423942839164\n",
      "User 785, CV score: 0.9972369792382656\n",
      "User 797, CV score: 0.9957357720442158\n",
      "User 812, CV score: 0.994568000945056\n",
      "User 844, CV score: 0.9969867801432476\n",
      "User 859, CV score: 0.9980712280698544\n",
      "User 868, CV score: 0.9967470983849599\n",
      "User 875, CV score: 0.9954232466778551\n",
      "User 932, CV score: 0.9902203176138418\n",
      "User 996, CV score: 0.9925973015509518\n",
      "User 1014, CV score: 0.9969761969421019\n",
      "User 1040, CV score: 0.9969032593774493\n",
      "User 1054, CV score: 0.9964760200714798\n",
      "User 1248, CV score: 0.9977063382873491\n",
      "User 1267, CV score: 0.9973829013458609\n",
      "User 1299, CV score: 0.9968931473813426\n",
      "User 1371, CV score: 0.9933270292976298\n",
      "User 1797, CV score: 0.9944010920903833\n",
      "User 1798, CV score: 0.9962677576464595\n",
      "User 1993, CV score: 0.9967159236232278\n",
      "User 2118, CV score: 0.9976020612999265\n",
      "User 2174, CV score: 0.995579318079761\n",
      "User 2191, CV score: 0.9951934744823858\n",
      "User 2250, CV score: 0.9974143298851675\n",
      "User 2355, CV score: 0.9954957823197867\n",
      "User 2408, CV score: 0.9934319416770822\n",
      "User 2493, CV score: 0.9965384596595742\n",
      "User 2625, CV score: 0.9958609466621792\n",
      "User 2902, CV score: 0.9970597128678573\n"
     ]
    }
   ],
   "source": [
    "cv_scores_by_user = {}\n",
    "for user_id in logit_cv_150users.scores_:    \n",
    "    #scores is a dict where key is user and value is scores?\n",
    "    mean = logit_cv_150users.scores_[user_id].mean()\n",
    "    cv_scores_by_user[user_id] = mean\n",
    "    print(f'User {user_id}, CV score: {mean}')"
   ]
  },
  {
   "cell_type": "markdown",
   "metadata": {},
   "source": [
    "**Результаты кажутся впечатляющими, но возможно, мы забываем про дисбаланс классов, и высокую долю правильных ответов можно получить константным прогнозом. Посчитайте для каждого пользователя разницу между долей правильных ответов на кросс-валидации (только что посчитанную с помощью `LogisticRegressionCV`) и долей меток в *y_train_150*, отличных от ID \n",
    " этого пользователя (именно такую долю правильных ответов можно получить, если классификатор всегда \"говорит\", что это не пользователь с номером $i$ в задаче классификации $i$-vs-All).**"
   ]
  },
  {
   "cell_type": "code",
   "execution_count": 192,
   "metadata": {},
   "outputs": [],
   "source": [
    "class_distr = np.bincount(y_train_150.astype('int'))\n",
    "all = np.sum(class_distr)\n",
    "\n",
    "acc_diff_vs_constant = {}\n",
    "for user_id in np.unique(y_train_150):\n",
    "    acc_diff_vs_constant[user_id] = cv_scores_by_user[user_id] - (all - class_distr[user_id])/len(y_train_150)"
   ]
  },
  {
   "cell_type": "code",
   "execution_count": 193,
   "metadata": {},
   "outputs": [
    {
     "data": {
      "text/plain": [
       "{6: 0.011437117070254743,\n",
       " 13: 0.0005317191235514329,\n",
       " 15: 0.0007402395963388431,\n",
       " 16: 0.007047648682012686,\n",
       " 28: 0.002085236075151209,\n",
       " 31: 0.0001459867470580134,\n",
       " 33: 0.0010842647983323461,\n",
       " 39: 0.001834940156321796,\n",
       " 46: 0.0008549813465866807,\n",
       " 49: 0.0011051452169678067,\n",
       " 50: 0.00033378997312094594,\n",
       " 53: 0.001563848795973266,\n",
       " 65: 7.303880161979581e-05,\n",
       " 66: 0.00010414908079392493,\n",
       " 82: 1.0404360414884017e-05,\n",
       " 85: 0.0001252308807447866,\n",
       " 89: 0.00043792678932208506,\n",
       " 92: 0.00020867590548279136,\n",
       " 100: -3.1343859428267784e-05,\n",
       " 102: 0.0007509015763567106,\n",
       " 103: 0.0028572153669881306,\n",
       " 105: 0.0008028866034890392,\n",
       " 106: 0.007287606821693382,\n",
       " 118: 0.0006567561597520255,\n",
       " 119: 0.0006569162560439157,\n",
       " 120: 0.0005419674919722173,\n",
       " 126: 0.0009382524059680097,\n",
       " 127: 0.0035551118448688968,\n",
       " 128: 0.00498392170365769,\n",
       " 138: 8.337290556748034e-05,\n",
       " 158: 0.0002711475130222629,\n",
       " 160: 0.00032312763440156544,\n",
       " 165: 0.00021895633115565083,\n",
       " 172: 0.00028152902094791266,\n",
       " 177: 0.00034413642443709147,\n",
       " 203: 0.001126124426626296,\n",
       " 207: 0.0010534886292423717,\n",
       " 223: 2.0811799210318505e-05,\n",
       " 233: 8.331962012553262e-05,\n",
       " 235: -4.169754772487266e-05,\n",
       " 236: 0.0013036342614386465,\n",
       " 237: 0.0011779606671663556,\n",
       " 238: 3.120950799873068e-05,\n",
       " 240: 3.119625438163798e-05,\n",
       " 241: -7.298946172351606e-05,\n",
       " 242: 0.00033344860007744614,\n",
       " 245: 0.0002502088027215299,\n",
       " 246: -8.33604512150421e-05,\n",
       " 249: 4.177945956518325e-05,\n",
       " 252: 0.00013554320619413307,\n",
       " 254: 0.0017202648431008383,\n",
       " 256: 0.0005525101202596971,\n",
       " 258: 3.1089356089530895e-05,\n",
       " 259: -9.372074150248988e-05,\n",
       " 260: 0.0001981056789047697,\n",
       " 261: 0.0005530575432439733,\n",
       " 263: 0.0010426261555298577,\n",
       " 264: 0.00046902659623060394,\n",
       " 269: 0.00129280577226909,\n",
       " 270: 0.0038362548772893357,\n",
       " 273: 0.0006881412207994098,\n",
       " 287: 0.00211652189002276,\n",
       " 294: -1.034654555798209e-05,\n",
       " 298: 0.0012613058687355183,\n",
       " 301: 0.0015952199696904756,\n",
       " 308: 0.0007090059101425572,\n",
       " 315: 0.00030219917156104614,\n",
       " 318: 0.00039611292145025345,\n",
       " 327: 4.1749094798704256e-05,\n",
       " 332: -2.0770089412813775e-05,\n",
       " 333: 0.001115743246108969,\n",
       " 339: 0.0010736964620754463,\n",
       " 340: 0.00021893971111874855,\n",
       " 342: 0.0003337733112388497,\n",
       " 344: -4.180549798993294e-05,\n",
       " 351: 0.0013448724994640227,\n",
       " 356: 0.0003232448390646514,\n",
       " 361: -5.221782922526508e-05,\n",
       " 363: 0.0011157119946354488,\n",
       " 411: 0.0015744544254819859,\n",
       " 417: 0.00021906244349667592,\n",
       " 425: 0.00013552833231555983,\n",
       " 430: 0.000938155600421875,\n",
       " 435: -3.1203256005030156e-05,\n",
       " 436: 0.00012505665340456495,\n",
       " 440: 4.157438285967707e-05,\n",
       " 444: 0.0004483845796268149,\n",
       " 475: 0.001303372229042199,\n",
       " 476: 0.0006985573246008903,\n",
       " 486: 0.00014584296478392655,\n",
       " 515: 0.00020859410218843077,\n",
       " 533: 0.0010218631396787803,\n",
       " 561: 0.0035237992434282717,\n",
       " 563: 0.000573376076114962,\n",
       " 564: 0.0003857101655075912,\n",
       " 568: 8.332191226922969e-05,\n",
       " 569: 0.004243677688011704,\n",
       " 570: 0.0025545427282610556,\n",
       " 573: 5.1911474698740356e-05,\n",
       " 575: 0.0014389788503175183,\n",
       " 576: -3.127972814365165e-05,\n",
       " 580: 0.00602609610793392,\n",
       " 583: 0.014335531206132401,\n",
       " 584: 0.0028980870445589613,\n",
       " 600: 0.0009069557762614311,\n",
       " 603: 0.0005421570802659481,\n",
       " 605: 0.0022311646064434587,\n",
       " 640: 0.00011477645714563778,\n",
       " 647: 0.0013447894528748616,\n",
       " 653: 0.00014592670272040031,\n",
       " 664: 0.0007195290365714646,\n",
       " 665: 0.00032320017925979716,\n",
       " 677: 0.0007297344547387841,\n",
       " 692: 7.294637105981217e-05,\n",
       " 697: 0.000500361659518278,\n",
       " 705: 0.00028147110101195416,\n",
       " 722: 0.0008861226217646845,\n",
       " 740: 0.0008863741750960719,\n",
       " 741: 0.0002710157841919747,\n",
       " 756: 0.00014591377403549988,\n",
       " 780: 0.0006466268692497668,\n",
       " 784: 0.001470182660668895,\n",
       " 785: 0.00019799599303294002,\n",
       " 797: 0.0005213589823784837,\n",
       " 812: 0.005067099086079718,\n",
       " 844: 2.077970535074858e-05,\n",
       " 859: 0.001157358208625947,\n",
       " 868: -3.1231976930556904e-05,\n",
       " 875: 0.005286351783523768,\n",
       " 932: 0.0021165152095795614,\n",
       " 996: 0.0021163448506088534,\n",
       " 1014: 0.0011883475369117713,\n",
       " 1040: 0.0017305507769467265,\n",
       " 1054: 0.00012516043827059953,\n",
       " 1248: 0.00037542381277322345,\n",
       " 1267: 0.00038562256196306155,\n",
       " 1299: 6.268644278373259e-05,\n",
       " 1371: 0.00459765997334638,\n",
       " 1797: 0.002658575434664079,\n",
       " 1798: 0.0008343961626147145,\n",
       " 1993: 0.0007925347186997778,\n",
       " 2118: 0.001261627782050856,\n",
       " 2174: 0.00022936551858576681,\n",
       " 2191: 0.00036482768789503073,\n",
       " 2250: -2.0845742745301266e-05,\n",
       " 2355: 0.008059251296880565,\n",
       " 2408: 0.001011727524673156,\n",
       " 2493: 0.0002293044876997552,\n",
       " 2625: 0.0003963068323333818,\n",
       " 2902: 0.0020121176513590022}"
      ]
     },
     "execution_count": 193,
     "metadata": {},
     "output_type": "execute_result"
    }
   ],
   "source": [
    "acc_diff_vs_constant"
   ]
  },
  {
   "cell_type": "code",
   "execution_count": 194,
   "metadata": {},
   "outputs": [],
   "source": [
    "num_better_than_default = (np.array(list(acc_diff_vs_constant.values())) > 0).sum()"
   ]
  },
  {
   "cell_type": "code",
   "execution_count": 195,
   "metadata": {},
   "outputs": [
    {
     "name": "stdout",
     "output_type": "stream",
     "text": [
      "0.913\n"
     ]
    }
   ],
   "source": [
    "print(round(num_better_than_default / len(np.unique(y_train_150)), 3))"
   ]
  },
  {
   "cell_type": "markdown",
   "metadata": {},
   "source": [
    "**<font color='red'>Вопрос 7. </font> Посчитайте долю пользователей, для которых логистическая регрессия на кросс-валидации дает прогноз лучше константного. Округлите до 3 знаков после запятой.**"
   ]
  },
  {
   "cell_type": "code",
   "execution_count": 187,
   "metadata": {},
   "outputs": [],
   "source": [
    "write_answer_to_file([round(num_better_than_default / len(np.unique(y_train_150)), 3)], 'answer4_7.txt')"
   ]
  },
  {
   "cell_type": "markdown",
   "metadata": {},
   "source": [
    "**Дальше будем строить кривые обучения для конкретного пользователя, допустим, для 128-го. Составьте новый бинарный вектор на основе *y_150users*, его значения будут 1 или 0 в зависимости от того, равен ли ID-шник пользователя 128.**"
   ]
  },
  {
   "cell_type": "code",
   "execution_count": 188,
   "metadata": {},
   "outputs": [],
   "source": [
    "y_binary_128 = (y_train == 128).astype(int)"
   ]
  },
  {
   "cell_type": "code",
   "execution_count": 189,
   "metadata": {},
   "outputs": [],
   "source": [
    "from sklearn.model_selection import learning_curve\n",
    "\n",
    "def plot_learning_curve(val_train, val_test, train_sizes, \n",
    "                        xlabel='Training Set Size', ylabel='score'):\n",
    "    def plot_with_err(x, data, **kwargs):\n",
    "        mu, std = data.mean(1), data.std(1)\n",
    "        lines = plt.plot(x, mu, '-', **kwargs)\n",
    "        plt.fill_between(x, mu - std, mu + std, edgecolor='none',\n",
    "                         facecolor=lines[0].get_color(), alpha=0.2)\n",
    "    plot_with_err(train_sizes, val_train, label='train')\n",
    "    plot_with_err(train_sizes, val_test, label='valid')\n",
    "    plt.xlabel(xlabel); plt.ylabel(ylabel)\n",
    "    plt.legend(loc='lower right');"
   ]
  },
  {
   "cell_type": "markdown",
   "metadata": {},
   "source": [
    "**Посчитайте доли правильных ответов на кросс-валидации в задаче классификации \"user128-vs-All\" в зависимости от размера выборки. Не помешает посмотреть встроенную документацию для *learning_curve*.**"
   ]
  },
  {
   "cell_type": "code",
   "execution_count": 199,
   "metadata": {},
   "outputs": [
    {
     "name": "stdout",
     "output_type": "stream",
     "text": [
      "Wall time: 4min 19s\n"
     ]
    }
   ],
   "source": [
    "%%time\n",
    "train_sizes = np.linspace(0.25, 1, 20)\n",
    "estimator = logit_cv_150users\n",
    "n_train, val_train, val_test = learning_curve(estimator, X_train_150, y_binary_128, train_sizes=train_sizes, cv=skf)"
   ]
  },
  {
   "cell_type": "code",
   "execution_count": 200,
   "metadata": {},
   "outputs": [
    {
     "data": {
      "image/png": "[encoded data removed]",
      "text/plain": [
       "<matplotlib.figure.Figure at 0xc993892748>"
      ]
     },
     "metadata": {},
     "output_type": "display_data"
    }
   ],
   "source": [
    "plot_learning_curve(val_train, val_test, n_train, \n",
    "                    xlabel='train_size', ylabel='accuracy')"
   ]
  },
  {
   "cell_type": "markdown",
   "metadata": {},
   "source": [
    "**Сделайте выводы о том, помогут ли алгоритму новые размеченные данные при той же постановке задачи.**"
   ]
  },
  {
   "cell_type": "markdown",
   "metadata": {},
   "source": [
    "## Пути улучшения\n",
    "- конечно, можно проверить еще кучу алгоритмов, например, Xgboost, но в такой задаче очень маловероятно, что что-то справится лучше линейных методов\n",
    "- интересно проверить качество алгоритма на данных, где сессии выделялись не по количеству посещенных сайтов, а по времени, например, 5, 7, 10 и 15 минут. Отдельно стоит отметить данные нашего [соревнования](https://inclass.kaggle.com/c/catch-me-if-you-can-intruder-detection-through-webpage-session-tracking2) \n",
    "- опять же, если ресурсы позволяют, можно проверить, насколько хорошо можно решить задачу для 3000 пользователей\n",
    "\n",
    "\n",
    "На следующей неделе мы вспомним про линейные модели, обучаемые стохастическим градиентным спуском, и порадуемся тому, насколько быстрее они работают. Также сделаем первые (или не первые) посылки в [соревновании](https://inclass.kaggle.com/c/catch-me-if-you-can-intruder-detection-through-webpage-session-tracking2) Kaggle Inclass."
   ]
  }
 ],
 "metadata": {
  "anaconda-cloud": {},
  "kernelspec": {
   "display_name": "Python 3",
   "language": "python",
   "name": "python3"
  },
  "language_info": {
   "codemirror_mode": {
    "name": "ipython",
    "version": 3
   },
   "file_extension": ".py",
   "mimetype": "text/x-python",
   "name": "python",
   "nbconvert_exporter": "python",
   "pygments_lexer": "ipython3",
   "version": "3.6.4"
  }
 },
 "nbformat": 4,
 "nbformat_minor": 1
}
