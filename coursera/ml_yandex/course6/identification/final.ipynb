{
 "cells": [
  {
   "cell_type": "code",
   "execution_count": null,
   "metadata": {},
   "outputs": [],
   "source": []
  },
  {
   "cell_type": "code",
   "execution_count": 1,
   "metadata": {},
   "outputs": [
    {
     "name": "stdout",
     "output_type": "stream",
     "text": [
      "CPython 3.6.4\n",
      "IPython 6.2.1\n",
      "\n",
      "numpy 1.14.0\n",
      "scipy 0.19.1\n",
      "pandas 0.22.0\n",
      "matplotlib 2.1.2\n",
      "statsmodels 0.8.0\n",
      "sklearn 0.19.1\n",
      "\n",
      "compiler   : MSC v.1900 64 bit (AMD64)\n",
      "system     : Windows\n",
      "release    : 10\n",
      "machine    : AMD64\n",
      "processor  : Intel64 Family 6 Model 78 Stepping 3, GenuineIntel\n",
      "CPU cores  : 4\n",
      "interpreter: 64bit\n",
      "Git hash   : 3896ce11e3ff803864dd6294ff5e80e874b7ba3d\n"
     ]
    }
   ],
   "source": [
    "%load_ext watermark\n",
    "%watermark -v -m -p numpy,scipy,pandas,matplotlib,statsmodels,sklearn -g"
   ]
  },
  {
   "cell_type": "code",
   "execution_count": 2,
   "metadata": {},
   "outputs": [],
   "source": [
    "from __future__ import division, print_function\n",
    "# отключим всякие предупреждения Anaconda\n",
    "import warnings\n",
    "warnings.filterwarnings('ignore')\n",
    "from glob import glob, iglob\n",
    "import os\n",
    "import pickle\n",
    "#pip install tqdm\n",
    "from tqdm import tqdm_notebook as tqdm\n",
    "import numpy as np\n",
    "import pandas as pd\n",
    "from scipy.sparse import csr_matrix\n",
    "import time\n",
    "import re\n",
    "#import time"
   ]
  },
  {
   "cell_type": "code",
   "execution_count": null,
   "metadata": {},
   "outputs": [],
   "source": [
    "# Поменяйте на свой путь к данным\n",
    "PATH_TO_DATA = 'identification'"
   ]
  },
  {
   "cell_type": "code",
   "execution_count": null,
   "metadata": {},
   "outputs": [],
   "source": [
    "user_id_pattern = re.compile(\"(\\d{4}).csv\")\n",
    "def extract_user_id(filename):\n",
    "    return user_id_pattern.search(filename).group(1)\n",
    "\n",
    "def data_column_names(session_length):\n",
    "    names = []\n",
    "    for i in range(1, session_length + 1):\n",
    "        names.append(\"site\" + str(i))\n",
    "    names.append(\"user_id\")\n",
    "    return names    \n",
    "\n",
    "def prepare_train_set(path_to_csv_files, session_length=10):\n",
    "    files = iglob(os.path.join(path_to_csv_files, '*.csv'))\n",
    "    # site string -> (id, frequency)\n",
    "    dict = {}\n",
    "    data = []\n",
    "    unique_site_id = 1\n",
    "    for file in tqdm(files, desc = path_to_csv_files):\n",
    "        user_id = extract_user_id(file)\n",
    "        with open(file, 'r') as f:\n",
    "            next(f) # skip header line            \n",
    "            for index, line in enumerate(f):\n",
    "                site = line.rstrip(\"\\n\").rpartition(',')[-1]\n",
    "                                    \n",
    "                # update dictionary\n",
    "                if site in dict:\n",
    "                    freq = dict[site][1]\n",
    "                    dict[site][1] = freq + 1        \n",
    "                else: \n",
    "                    dict[site] = [unique_site_id, 1]\n",
    "                    unique_site_id += 1\n",
    "                site_id = dict[site][0]\n",
    "\n",
    "                # update data\n",
    "                if (index % session_length == 0):\n",
    "                    row = np.zeros(session_length + 1, dtype=int)\n",
    "                    row[session_length] = user_id\n",
    "                    data.append(row)\n",
    "                    \n",
    "                data[-1][index % session_length] = site_id\n",
    "    # site1, site2, ..., user_id\n",
    "    data_frame = pd.DataFrame(data, columns=data_column_names(session_length))\n",
    "    return (data_frame, dict)\n",
    "   \n",
    "#prepare_train_set(os.path.join(PATH_TO_DATA, '3users'))"
   ]
  }
 ],
 "metadata": {
  "kernelspec": {
   "display_name": "Python 3",
   "language": "python",
   "name": "python3"
  },
  "language_info": {
   "codemirror_mode": {
    "name": "ipython",
    "version": 3
   },
   "file_extension": ".py",
   "mimetype": "text/x-python",
   "name": "python",
   "nbconvert_exporter": "python",
   "pygments_lexer": "ipython3",
   "version": "3.6.4"
  }
 },
 "nbformat": 4,
 "nbformat_minor": 2
}
