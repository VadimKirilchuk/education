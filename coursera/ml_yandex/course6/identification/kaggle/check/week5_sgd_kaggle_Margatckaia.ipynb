{
 "cells": [
  {
   "cell_type": "markdown",
   "metadata": {},
   "source": [
    "<center>\n",
    "<img src=\"https://habrastorage.org/web/677/8e1/337/6778e1337c3d4b159d7e99df94227cb2.jpg\"/>\n",
    "## Специализация \"Машинное обучение и анализ данных\"\n",
    "<center>Автор материала: программист-исследователь Mail.Ru Group, старший преподаватель Факультета Компьютерных Наук ВШЭ [Юрий Кашницкий](https://yorko.github.io/)"
   ]
  },
  {
   "cell_type": "markdown",
   "metadata": {},
   "source": [
    "# <center> Capstone проект №1 <br> Идентификация пользователей по посещенным веб-страницам\n",
    "<img src='http://i.istockimg.com/file_thumbview_approve/21546327/5/stock-illustration-21546327-identification-de-l-utilisateur.jpg'>\n",
    "\n",
    "# <center>Неделя 5.  Соревнование Kaggle \"Catch Me If You Can\"\n",
    "\n",
    "На этой неделе мы вспомним про концепцию стохастического градиентного спуска и опробуем классификатор Scikit-learn SGDClassifier, который работает намного быстрее на больших выборках, чем алгоритмы, которые мы тестировали на 4 неделе. Также мы познакомимся с данными [соревнования](https://inclass.kaggle.com/c/catch-me-if-you-can-intruder-detection-through-webpage-session-tracking2) Kaggle по идентификации пользователей и сделаем в нем первые посылки. По итогам этой недели дополнительные баллы получат те, кто попадет в топ-30 публичного лидерборда соревнования.\n",
    "\n",
    "**В этой части проекта Вам могут быть полезны видеозаписи следующих лекций курса \"Обучение на размеченных данных\":**\n",
    "   - [Стохатический градиентный спуск](https://www.coursera.org/learn/supervised-learning/lecture/xRY50/stokhastichieskii-ghradiientnyi-spusk)\n",
    "   - [Линейные модели. Sklearn.linear_model. Классификация](https://www.coursera.org/learn/supervised-learning/lecture/EBg9t/linieinyie-modieli-sklearn-linear-model-klassifikatsiia)\n",
    "   \n",
    "**Также рекомендуется вернуться и просмотреть [задание](https://www.coursera.org/learn/supervised-learning/programming/t2Idc/linieinaia-rieghriessiia-i-stokhastichieskii-ghradiientnyi-spusk) \"Линейная регрессия и стохастический градиентный спуск\" 1 недели 2 курса специализации.**"
   ]
  },
  {
   "cell_type": "markdown",
   "metadata": {},
   "source": [
    "### Задание\n",
    "1. Заполните код в этой тетрадке \n",
    "2. Если вы проходите специализацию Яндеса и МФТИ, пошлите тетрадку в соответствующем Peer Review. <br> Если вы проходите курс ODS, выберите ответы в [веб-форме](https://docs.google.com/forms/d/1pLsegkAICL9PzOLyAeH9DmDOBfktte0l8JW75uWcTng). "
   ]
  },
  {
   "cell_type": "code",
   "execution_count": 336,
   "metadata": {},
   "outputs": [],
   "source": [
    "from __future__ import division, print_function\n",
    "# отключим всякие предупреждения Anaconda\n",
    "import warnings\n",
    "warnings.filterwarnings('ignore')\n",
    "import os\n",
    "import pickle\n",
    "import numpy as np\n",
    "import pandas as pd\n",
    "from scipy.sparse import csr_matrix\n",
    "from sklearn.model_selection import train_test_split\n",
    "from sklearn.linear_model import SGDClassifier\n",
    "from sklearn.metrics import roc_auc_score\n",
    "from sklearn.model_selection import cross_val_score, StratifiedKFold\n",
    "from sklearn.linear_model import LogisticRegression"
   ]
  },
  {
   "cell_type": "code",
   "execution_count": 337,
   "metadata": {},
   "outputs": [],
   "source": [
    "import re"
   ]
  },
  {
   "cell_type": "code",
   "execution_count": 338,
   "metadata": {},
   "outputs": [],
   "source": [
    "from sklearn.feature_extraction.text import TfidfTransformer, CountVectorizer, TfidfVectorizer"
   ]
  },
  {
   "cell_type": "code",
   "execution_count": 339,
   "metadata": {},
   "outputs": [],
   "source": [
    "import matplotlib.pyplot as plt\n",
    "%matplotlib inline"
   ]
  },
  {
   "cell_type": "code",
   "execution_count": 340,
   "metadata": {},
   "outputs": [],
   "source": [
    "from scipy.sparse import hstack, vstack"
   ]
  },
  {
   "cell_type": "code",
   "execution_count": 341,
   "metadata": {},
   "outputs": [],
   "source": [
    "from sklearn.ensemble import RandomForestClassifier, ExtraTreesClassifier\n",
    "from sklearn.svm import SVC\n",
    "from sklearn.ensemble import GradientBoostingClassifier\n",
    "from sklearn.naive_bayes import BernoulliNB, ComplementNB, MultinomialNB"
   ]
  },
  {
   "cell_type": "markdown",
   "metadata": {},
   "source": [
    "**Считаем данные [соревнования](https://inclass.kaggle.com/c/catch-me-if-you-can-intruder-detection-through-webpage-session-tracking2) в DataFrame train_df и test_df (обучающая и тестовая выборки).**"
   ]
  },
  {
   "cell_type": "code",
   "execution_count": 342,
   "metadata": {},
   "outputs": [],
   "source": [
    "# Поменяйте на свой путь к данным\n",
    "PATH_TO_DATA = 'capstone_user_identification'"
   ]
  },
  {
   "cell_type": "code",
   "execution_count": 343,
   "metadata": {},
   "outputs": [],
   "source": [
    "train_df = pd.read_csv(os.path.join(PATH_TO_DATA, 'train_sessions.csv'),\n",
    "                       index_col='session_id')\n",
    "test_df = pd.read_csv(os.path.join(PATH_TO_DATA, 'test_sessions.csv'),\n",
    "                      index_col='session_id')"
   ]
  },
  {
   "cell_type": "code",
   "execution_count": 344,
   "metadata": {},
   "outputs": [
    {
     "data": {
      "text/html": [
       "<div>\n",
       "<style scoped>\n",
       "    .dataframe tbody tr th:only-of-type {\n",
       "        vertical-align: middle;\n",
       "    }\n",
       "\n",
       "    .dataframe tbody tr th {\n",
       "        vertical-align: top;\n",
       "    }\n",
       "\n",
       "    .dataframe thead th {\n",
       "        text-align: right;\n",
       "    }\n",
       "</style>\n",
       "<table border=\"1\" class=\"dataframe\">\n",
       "  <thead>\n",
       "    <tr style=\"text-align: right;\">\n",
       "      <th></th>\n",
       "      <th>site1</th>\n",
       "      <th>time1</th>\n",
       "      <th>site2</th>\n",
       "      <th>time2</th>\n",
       "      <th>site3</th>\n",
       "      <th>time3</th>\n",
       "      <th>site4</th>\n",
       "      <th>time4</th>\n",
       "      <th>site5</th>\n",
       "      <th>time5</th>\n",
       "      <th>...</th>\n",
       "      <th>time6</th>\n",
       "      <th>site7</th>\n",
       "      <th>time7</th>\n",
       "      <th>site8</th>\n",
       "      <th>time8</th>\n",
       "      <th>site9</th>\n",
       "      <th>time9</th>\n",
       "      <th>site10</th>\n",
       "      <th>time10</th>\n",
       "      <th>target</th>\n",
       "    </tr>\n",
       "    <tr>\n",
       "      <th>session_id</th>\n",
       "      <th></th>\n",
       "      <th></th>\n",
       "      <th></th>\n",
       "      <th></th>\n",
       "      <th></th>\n",
       "      <th></th>\n",
       "      <th></th>\n",
       "      <th></th>\n",
       "      <th></th>\n",
       "      <th></th>\n",
       "      <th></th>\n",
       "      <th></th>\n",
       "      <th></th>\n",
       "      <th></th>\n",
       "      <th></th>\n",
       "      <th></th>\n",
       "      <th></th>\n",
       "      <th></th>\n",
       "      <th></th>\n",
       "      <th></th>\n",
       "      <th></th>\n",
       "    </tr>\n",
       "  </thead>\n",
       "  <tbody>\n",
       "    <tr>\n",
       "      <th>1</th>\n",
       "      <td>718</td>\n",
       "      <td>2014-02-20 10:02:45</td>\n",
       "      <td>NaN</td>\n",
       "      <td>NaN</td>\n",
       "      <td>NaN</td>\n",
       "      <td>NaN</td>\n",
       "      <td>NaN</td>\n",
       "      <td>NaN</td>\n",
       "      <td>NaN</td>\n",
       "      <td>NaN</td>\n",
       "      <td>...</td>\n",
       "      <td>NaN</td>\n",
       "      <td>NaN</td>\n",
       "      <td>NaN</td>\n",
       "      <td>NaN</td>\n",
       "      <td>NaN</td>\n",
       "      <td>NaN</td>\n",
       "      <td>NaN</td>\n",
       "      <td>NaN</td>\n",
       "      <td>NaN</td>\n",
       "      <td>0</td>\n",
       "    </tr>\n",
       "    <tr>\n",
       "      <th>2</th>\n",
       "      <td>890</td>\n",
       "      <td>2014-02-22 11:19:50</td>\n",
       "      <td>941.0</td>\n",
       "      <td>2014-02-22 11:19:50</td>\n",
       "      <td>3847.0</td>\n",
       "      <td>2014-02-22 11:19:51</td>\n",
       "      <td>941.0</td>\n",
       "      <td>2014-02-22 11:19:51</td>\n",
       "      <td>942.0</td>\n",
       "      <td>2014-02-22 11:19:51</td>\n",
       "      <td>...</td>\n",
       "      <td>2014-02-22 11:19:51</td>\n",
       "      <td>3847.0</td>\n",
       "      <td>2014-02-22 11:19:52</td>\n",
       "      <td>3846.0</td>\n",
       "      <td>2014-02-22 11:19:52</td>\n",
       "      <td>1516.0</td>\n",
       "      <td>2014-02-22 11:20:15</td>\n",
       "      <td>1518.0</td>\n",
       "      <td>2014-02-22 11:20:16</td>\n",
       "      <td>0</td>\n",
       "    </tr>\n",
       "    <tr>\n",
       "      <th>3</th>\n",
       "      <td>14769</td>\n",
       "      <td>2013-12-16 16:40:17</td>\n",
       "      <td>39.0</td>\n",
       "      <td>2013-12-16 16:40:18</td>\n",
       "      <td>14768.0</td>\n",
       "      <td>2013-12-16 16:40:19</td>\n",
       "      <td>14769.0</td>\n",
       "      <td>2013-12-16 16:40:19</td>\n",
       "      <td>37.0</td>\n",
       "      <td>2013-12-16 16:40:19</td>\n",
       "      <td>...</td>\n",
       "      <td>2013-12-16 16:40:19</td>\n",
       "      <td>14768.0</td>\n",
       "      <td>2013-12-16 16:40:20</td>\n",
       "      <td>14768.0</td>\n",
       "      <td>2013-12-16 16:40:21</td>\n",
       "      <td>14768.0</td>\n",
       "      <td>2013-12-16 16:40:22</td>\n",
       "      <td>14768.0</td>\n",
       "      <td>2013-12-16 16:40:24</td>\n",
       "      <td>0</td>\n",
       "    </tr>\n",
       "    <tr>\n",
       "      <th>4</th>\n",
       "      <td>782</td>\n",
       "      <td>2014-03-28 10:52:12</td>\n",
       "      <td>782.0</td>\n",
       "      <td>2014-03-28 10:52:42</td>\n",
       "      <td>782.0</td>\n",
       "      <td>2014-03-28 10:53:12</td>\n",
       "      <td>782.0</td>\n",
       "      <td>2014-03-28 10:53:42</td>\n",
       "      <td>782.0</td>\n",
       "      <td>2014-03-28 10:54:12</td>\n",
       "      <td>...</td>\n",
       "      <td>2014-03-28 10:54:42</td>\n",
       "      <td>782.0</td>\n",
       "      <td>2014-03-28 10:55:12</td>\n",
       "      <td>782.0</td>\n",
       "      <td>2014-03-28 10:55:42</td>\n",
       "      <td>782.0</td>\n",
       "      <td>2014-03-28 10:56:12</td>\n",
       "      <td>782.0</td>\n",
       "      <td>2014-03-28 10:56:42</td>\n",
       "      <td>0</td>\n",
       "    </tr>\n",
       "    <tr>\n",
       "      <th>5</th>\n",
       "      <td>22</td>\n",
       "      <td>2014-02-28 10:53:05</td>\n",
       "      <td>177.0</td>\n",
       "      <td>2014-02-28 10:55:22</td>\n",
       "      <td>175.0</td>\n",
       "      <td>2014-02-28 10:55:22</td>\n",
       "      <td>178.0</td>\n",
       "      <td>2014-02-28 10:55:23</td>\n",
       "      <td>177.0</td>\n",
       "      <td>2014-02-28 10:55:23</td>\n",
       "      <td>...</td>\n",
       "      <td>2014-02-28 10:55:59</td>\n",
       "      <td>175.0</td>\n",
       "      <td>2014-02-28 10:55:59</td>\n",
       "      <td>177.0</td>\n",
       "      <td>2014-02-28 10:55:59</td>\n",
       "      <td>177.0</td>\n",
       "      <td>2014-02-28 10:57:06</td>\n",
       "      <td>178.0</td>\n",
       "      <td>2014-02-28 10:57:11</td>\n",
       "      <td>0</td>\n",
       "    </tr>\n",
       "  </tbody>\n",
       "</table>\n",
       "<p>5 rows × 21 columns</p>\n",
       "</div>"
      ],
      "text/plain": [
       "            site1                time1  site2                time2    site3  \\\n",
       "session_id                                                                    \n",
       "1             718  2014-02-20 10:02:45    NaN                  NaN      NaN   \n",
       "2             890  2014-02-22 11:19:50  941.0  2014-02-22 11:19:50   3847.0   \n",
       "3           14769  2013-12-16 16:40:17   39.0  2013-12-16 16:40:18  14768.0   \n",
       "4             782  2014-03-28 10:52:12  782.0  2014-03-28 10:52:42    782.0   \n",
       "5              22  2014-02-28 10:53:05  177.0  2014-02-28 10:55:22    175.0   \n",
       "\n",
       "                          time3    site4                time4  site5  \\\n",
       "session_id                                                             \n",
       "1                           NaN      NaN                  NaN    NaN   \n",
       "2           2014-02-22 11:19:51    941.0  2014-02-22 11:19:51  942.0   \n",
       "3           2013-12-16 16:40:19  14769.0  2013-12-16 16:40:19   37.0   \n",
       "4           2014-03-28 10:53:12    782.0  2014-03-28 10:53:42  782.0   \n",
       "5           2014-02-28 10:55:22    178.0  2014-02-28 10:55:23  177.0   \n",
       "\n",
       "                          time5  ...                time6    site7  \\\n",
       "session_id                       ...                                 \n",
       "1                           NaN  ...                  NaN      NaN   \n",
       "2           2014-02-22 11:19:51  ...  2014-02-22 11:19:51   3847.0   \n",
       "3           2013-12-16 16:40:19  ...  2013-12-16 16:40:19  14768.0   \n",
       "4           2014-03-28 10:54:12  ...  2014-03-28 10:54:42    782.0   \n",
       "5           2014-02-28 10:55:23  ...  2014-02-28 10:55:59    175.0   \n",
       "\n",
       "                          time7    site8                time8    site9  \\\n",
       "session_id                                                               \n",
       "1                           NaN      NaN                  NaN      NaN   \n",
       "2           2014-02-22 11:19:52   3846.0  2014-02-22 11:19:52   1516.0   \n",
       "3           2013-12-16 16:40:20  14768.0  2013-12-16 16:40:21  14768.0   \n",
       "4           2014-03-28 10:55:12    782.0  2014-03-28 10:55:42    782.0   \n",
       "5           2014-02-28 10:55:59    177.0  2014-02-28 10:55:59    177.0   \n",
       "\n",
       "                          time9   site10               time10 target  \n",
       "session_id                                                            \n",
       "1                           NaN      NaN                  NaN      0  \n",
       "2           2014-02-22 11:20:15   1518.0  2014-02-22 11:20:16      0  \n",
       "3           2013-12-16 16:40:22  14768.0  2013-12-16 16:40:24      0  \n",
       "4           2014-03-28 10:56:12    782.0  2014-03-28 10:56:42      0  \n",
       "5           2014-02-28 10:57:06    178.0  2014-02-28 10:57:11      0  \n",
       "\n",
       "[5 rows x 21 columns]"
      ]
     },
     "execution_count": 344,
     "metadata": {},
     "output_type": "execute_result"
    }
   ],
   "source": [
    "train_df.head()"
   ]
  },
  {
   "cell_type": "markdown",
   "metadata": {},
   "source": [
    "**Объединим обучающую и тестовую выборки – это понадобится, чтоб вместе потом привести их к разреженному формату.**"
   ]
  },
  {
   "cell_type": "code",
   "execution_count": 345,
   "metadata": {},
   "outputs": [],
   "source": [
    "train_test_df = pd.concat([train_df, test_df])"
   ]
  },
  {
   "cell_type": "markdown",
   "metadata": {},
   "source": [
    "В обучающей выборке видим следующие признаки:\n",
    "    - site1 – индекс первого посещенного сайта в сессии\n",
    "    - time1 – время посещения первого сайта в сессии\n",
    "    - ...\n",
    "    - site10 – индекс 10-го посещенного сайта в сессии\n",
    "    - time10 – время посещения 10-го сайта в сессии\n",
    "    - user_id – ID пользователя\n",
    "    \n",
    "Сессии пользователей выделены таким образом, что они не могут быть длинее получаса или 10 сайтов. То есть сессия считается оконченной либо когда пользователь посетил 10 сайтов подряд, либо когда сессия заняла по времени более 30 минут. "
   ]
  },
  {
   "cell_type": "markdown",
   "metadata": {},
   "source": [
    "**Посмотрим на статистику признаков.**\n",
    "\n",
    "Пропуски возникают там, где сессии короткие (менее 10 сайтов). Скажем, если человек 1 января 2015 года посетил *vk.com* в 20:01, потом *yandex.ru* в 20:29, затем *google.com* в 20:33, то первая его сессия будет состоять только из двух сайтов (site1 – ID сайта *vk.com*, time1 – 2015-01-01 20:01:00, site2 – ID сайта  *yandex.ru*, time2 – 2015-01-01 20:29:00, остальные признаки – NaN), а начиная с *google.com* пойдет новая сессия, потому что уже прошло более 30 минут с момента посещения *vk.com*."
   ]
  },
  {
   "cell_type": "code",
   "execution_count": 11,
   "metadata": {},
   "outputs": [
    {
     "name": "stdout",
     "output_type": "stream",
     "text": [
      "<class 'pandas.core.frame.DataFrame'>\n",
      "Int64Index: 253561 entries, 1 to 253561\n",
      "Data columns (total 21 columns):\n",
      "site1     253561 non-null int64\n",
      "time1     253561 non-null object\n",
      "site2     250098 non-null float64\n",
      "time2     250098 non-null object\n",
      "site3     246919 non-null float64\n",
      "time3     246919 non-null object\n",
      "site4     244321 non-null float64\n",
      "time4     244321 non-null object\n",
      "site5     241829 non-null float64\n",
      "time5     241829 non-null object\n",
      "site6     239495 non-null float64\n",
      "time6     239495 non-null object\n",
      "site7     237297 non-null float64\n",
      "time7     237297 non-null object\n",
      "site8     235224 non-null float64\n",
      "time8     235224 non-null object\n",
      "site9     233084 non-null float64\n",
      "time9     233084 non-null object\n",
      "site10    231052 non-null float64\n",
      "time10    231052 non-null object\n",
      "target    253561 non-null int64\n",
      "dtypes: float64(9), int64(2), object(10)\n",
      "memory usage: 42.6+ MB\n"
     ]
    }
   ],
   "source": [
    "train_df.info()"
   ]
  },
  {
   "cell_type": "code",
   "execution_count": 346,
   "metadata": {},
   "outputs": [
    {
     "data": {
      "text/html": [
       "<div>\n",
       "<style scoped>\n",
       "    .dataframe tbody tr th:only-of-type {\n",
       "        vertical-align: middle;\n",
       "    }\n",
       "\n",
       "    .dataframe tbody tr th {\n",
       "        vertical-align: top;\n",
       "    }\n",
       "\n",
       "    .dataframe thead th {\n",
       "        text-align: right;\n",
       "    }\n",
       "</style>\n",
       "<table border=\"1\" class=\"dataframe\">\n",
       "  <thead>\n",
       "    <tr style=\"text-align: right;\">\n",
       "      <th></th>\n",
       "      <th>site1</th>\n",
       "      <th>time1</th>\n",
       "      <th>site2</th>\n",
       "      <th>time2</th>\n",
       "      <th>site3</th>\n",
       "      <th>time3</th>\n",
       "      <th>site4</th>\n",
       "      <th>time4</th>\n",
       "      <th>site5</th>\n",
       "      <th>time5</th>\n",
       "      <th>site6</th>\n",
       "      <th>time6</th>\n",
       "      <th>site7</th>\n",
       "      <th>time7</th>\n",
       "      <th>site8</th>\n",
       "      <th>time8</th>\n",
       "      <th>site9</th>\n",
       "      <th>time9</th>\n",
       "      <th>site10</th>\n",
       "      <th>time10</th>\n",
       "    </tr>\n",
       "    <tr>\n",
       "      <th>session_id</th>\n",
       "      <th></th>\n",
       "      <th></th>\n",
       "      <th></th>\n",
       "      <th></th>\n",
       "      <th></th>\n",
       "      <th></th>\n",
       "      <th></th>\n",
       "      <th></th>\n",
       "      <th></th>\n",
       "      <th></th>\n",
       "      <th></th>\n",
       "      <th></th>\n",
       "      <th></th>\n",
       "      <th></th>\n",
       "      <th></th>\n",
       "      <th></th>\n",
       "      <th></th>\n",
       "      <th></th>\n",
       "      <th></th>\n",
       "      <th></th>\n",
       "    </tr>\n",
       "  </thead>\n",
       "  <tbody>\n",
       "    <tr>\n",
       "      <th>1</th>\n",
       "      <td>29</td>\n",
       "      <td>2014-10-04 11:19:53</td>\n",
       "      <td>35.0</td>\n",
       "      <td>2014-10-04 11:19:53</td>\n",
       "      <td>22.0</td>\n",
       "      <td>2014-10-04 11:19:54</td>\n",
       "      <td>321.0</td>\n",
       "      <td>2014-10-04 11:19:54</td>\n",
       "      <td>23.0</td>\n",
       "      <td>2014-10-04 11:19:54</td>\n",
       "      <td>2211.0</td>\n",
       "      <td>2014-10-04 11:19:54</td>\n",
       "      <td>6730.0</td>\n",
       "      <td>2014-10-04 11:19:54</td>\n",
       "      <td>21.0</td>\n",
       "      <td>2014-10-04 11:19:54</td>\n",
       "      <td>44582.0</td>\n",
       "      <td>2014-10-04 11:20:00</td>\n",
       "      <td>15336.0</td>\n",
       "      <td>2014-10-04 11:20:00</td>\n",
       "    </tr>\n",
       "    <tr>\n",
       "      <th>2</th>\n",
       "      <td>782</td>\n",
       "      <td>2014-07-03 11:00:28</td>\n",
       "      <td>782.0</td>\n",
       "      <td>2014-07-03 11:00:53</td>\n",
       "      <td>782.0</td>\n",
       "      <td>2014-07-03 11:00:58</td>\n",
       "      <td>782.0</td>\n",
       "      <td>2014-07-03 11:01:06</td>\n",
       "      <td>782.0</td>\n",
       "      <td>2014-07-03 11:01:09</td>\n",
       "      <td>782.0</td>\n",
       "      <td>2014-07-03 11:01:10</td>\n",
       "      <td>782.0</td>\n",
       "      <td>2014-07-03 11:01:23</td>\n",
       "      <td>782.0</td>\n",
       "      <td>2014-07-03 11:01:29</td>\n",
       "      <td>782.0</td>\n",
       "      <td>2014-07-03 11:01:30</td>\n",
       "      <td>782.0</td>\n",
       "      <td>2014-07-03 11:01:53</td>\n",
       "    </tr>\n",
       "    <tr>\n",
       "      <th>3</th>\n",
       "      <td>55</td>\n",
       "      <td>2014-12-05 15:55:12</td>\n",
       "      <td>55.0</td>\n",
       "      <td>2014-12-05 15:55:13</td>\n",
       "      <td>55.0</td>\n",
       "      <td>2014-12-05 15:55:14</td>\n",
       "      <td>55.0</td>\n",
       "      <td>2014-12-05 15:56:15</td>\n",
       "      <td>55.0</td>\n",
       "      <td>2014-12-05 15:56:16</td>\n",
       "      <td>55.0</td>\n",
       "      <td>2014-12-05 15:56:17</td>\n",
       "      <td>55.0</td>\n",
       "      <td>2014-12-05 15:56:18</td>\n",
       "      <td>55.0</td>\n",
       "      <td>2014-12-05 15:56:19</td>\n",
       "      <td>1445.0</td>\n",
       "      <td>2014-12-05 15:56:33</td>\n",
       "      <td>1445.0</td>\n",
       "      <td>2014-12-05 15:56:36</td>\n",
       "    </tr>\n",
       "    <tr>\n",
       "      <th>4</th>\n",
       "      <td>1023</td>\n",
       "      <td>2014-11-04 10:03:19</td>\n",
       "      <td>1022.0</td>\n",
       "      <td>2014-11-04 10:03:19</td>\n",
       "      <td>50.0</td>\n",
       "      <td>2014-11-04 10:03:20</td>\n",
       "      <td>222.0</td>\n",
       "      <td>2014-11-04 10:03:21</td>\n",
       "      <td>202.0</td>\n",
       "      <td>2014-11-04 10:03:21</td>\n",
       "      <td>3374.0</td>\n",
       "      <td>2014-11-04 10:03:22</td>\n",
       "      <td>50.0</td>\n",
       "      <td>2014-11-04 10:03:22</td>\n",
       "      <td>48.0</td>\n",
       "      <td>2014-11-04 10:03:22</td>\n",
       "      <td>48.0</td>\n",
       "      <td>2014-11-04 10:03:23</td>\n",
       "      <td>3374.0</td>\n",
       "      <td>2014-11-04 10:03:23</td>\n",
       "    </tr>\n",
       "    <tr>\n",
       "      <th>5</th>\n",
       "      <td>301</td>\n",
       "      <td>2014-05-16 15:05:31</td>\n",
       "      <td>301.0</td>\n",
       "      <td>2014-05-16 15:05:32</td>\n",
       "      <td>301.0</td>\n",
       "      <td>2014-05-16 15:05:33</td>\n",
       "      <td>66.0</td>\n",
       "      <td>2014-05-16 15:05:39</td>\n",
       "      <td>67.0</td>\n",
       "      <td>2014-05-16 15:05:40</td>\n",
       "      <td>69.0</td>\n",
       "      <td>2014-05-16 15:05:40</td>\n",
       "      <td>70.0</td>\n",
       "      <td>2014-05-16 15:05:40</td>\n",
       "      <td>68.0</td>\n",
       "      <td>2014-05-16 15:05:40</td>\n",
       "      <td>71.0</td>\n",
       "      <td>2014-05-16 15:05:40</td>\n",
       "      <td>167.0</td>\n",
       "      <td>2014-05-16 15:05:44</td>\n",
       "    </tr>\n",
       "  </tbody>\n",
       "</table>\n",
       "</div>"
      ],
      "text/plain": [
       "            site1                time1   site2                time2  site3  \\\n",
       "session_id                                                                   \n",
       "1              29  2014-10-04 11:19:53    35.0  2014-10-04 11:19:53   22.0   \n",
       "2             782  2014-07-03 11:00:28   782.0  2014-07-03 11:00:53  782.0   \n",
       "3              55  2014-12-05 15:55:12    55.0  2014-12-05 15:55:13   55.0   \n",
       "4            1023  2014-11-04 10:03:19  1022.0  2014-11-04 10:03:19   50.0   \n",
       "5             301  2014-05-16 15:05:31   301.0  2014-05-16 15:05:32  301.0   \n",
       "\n",
       "                          time3  site4                time4  site5  \\\n",
       "session_id                                                           \n",
       "1           2014-10-04 11:19:54  321.0  2014-10-04 11:19:54   23.0   \n",
       "2           2014-07-03 11:00:58  782.0  2014-07-03 11:01:06  782.0   \n",
       "3           2014-12-05 15:55:14   55.0  2014-12-05 15:56:15   55.0   \n",
       "4           2014-11-04 10:03:20  222.0  2014-11-04 10:03:21  202.0   \n",
       "5           2014-05-16 15:05:33   66.0  2014-05-16 15:05:39   67.0   \n",
       "\n",
       "                          time5   site6                time6   site7  \\\n",
       "session_id                                                             \n",
       "1           2014-10-04 11:19:54  2211.0  2014-10-04 11:19:54  6730.0   \n",
       "2           2014-07-03 11:01:09   782.0  2014-07-03 11:01:10   782.0   \n",
       "3           2014-12-05 15:56:16    55.0  2014-12-05 15:56:17    55.0   \n",
       "4           2014-11-04 10:03:21  3374.0  2014-11-04 10:03:22    50.0   \n",
       "5           2014-05-16 15:05:40    69.0  2014-05-16 15:05:40    70.0   \n",
       "\n",
       "                          time7  site8                time8    site9  \\\n",
       "session_id                                                             \n",
       "1           2014-10-04 11:19:54   21.0  2014-10-04 11:19:54  44582.0   \n",
       "2           2014-07-03 11:01:23  782.0  2014-07-03 11:01:29    782.0   \n",
       "3           2014-12-05 15:56:18   55.0  2014-12-05 15:56:19   1445.0   \n",
       "4           2014-11-04 10:03:22   48.0  2014-11-04 10:03:22     48.0   \n",
       "5           2014-05-16 15:05:40   68.0  2014-05-16 15:05:40     71.0   \n",
       "\n",
       "                          time9   site10               time10  \n",
       "session_id                                                     \n",
       "1           2014-10-04 11:20:00  15336.0  2014-10-04 11:20:00  \n",
       "2           2014-07-03 11:01:30    782.0  2014-07-03 11:01:53  \n",
       "3           2014-12-05 15:56:33   1445.0  2014-12-05 15:56:36  \n",
       "4           2014-11-04 10:03:23   3374.0  2014-11-04 10:03:23  \n",
       "5           2014-05-16 15:05:40    167.0  2014-05-16 15:05:44  "
      ]
     },
     "execution_count": 346,
     "metadata": {},
     "output_type": "execute_result"
    }
   ],
   "source": [
    "test_df.head()"
   ]
  },
  {
   "cell_type": "code",
   "execution_count": 13,
   "metadata": {},
   "outputs": [
    {
     "name": "stdout",
     "output_type": "stream",
     "text": [
      "<class 'pandas.core.frame.DataFrame'>\n",
      "Int64Index: 82797 entries, 1 to 82797\n",
      "Data columns (total 20 columns):\n",
      "site1     82797 non-null int64\n",
      "time1     82797 non-null object\n",
      "site2     81308 non-null float64\n",
      "time2     81308 non-null object\n",
      "site3     80075 non-null float64\n",
      "time3     80075 non-null object\n",
      "site4     79182 non-null float64\n",
      "time4     79182 non-null object\n",
      "site5     78341 non-null float64\n",
      "time5     78341 non-null object\n",
      "site6     77566 non-null float64\n",
      "time6     77566 non-null object\n",
      "site7     76840 non-null float64\n",
      "time7     76840 non-null object\n",
      "site8     76151 non-null float64\n",
      "time8     76151 non-null object\n",
      "site9     75484 non-null float64\n",
      "time9     75484 non-null object\n",
      "site10    74806 non-null float64\n",
      "time10    74806 non-null object\n",
      "dtypes: float64(9), int64(1), object(10)\n",
      "memory usage: 13.3+ MB\n"
     ]
    }
   ],
   "source": [
    "test_df.info()"
   ]
  },
  {
   "cell_type": "markdown",
   "metadata": {},
   "source": [
    "**В обучающей выборке – 2297 сессий одного пользователя (Alice) и 251264 сессий – других пользователей, не Элис. Дисбаланс классов очень сильный, и смотреть на долю верных ответов (accuracy) непоказательно.**"
   ]
  },
  {
   "cell_type": "code",
   "execution_count": 347,
   "metadata": {},
   "outputs": [
    {
     "data": {
      "text/plain": [
       "0    251264\n",
       "1      2297\n",
       "Name: target, dtype: int64"
      ]
     },
     "execution_count": 347,
     "metadata": {},
     "output_type": "execute_result"
    }
   ],
   "source": [
    "train_df['target'].value_counts()"
   ]
  },
  {
   "cell_type": "markdown",
   "metadata": {},
   "source": [
    "**Пока для прогноза будем использовать только индексы посещенных сайтов. Индексы нумеровались с 1, так что заменим пропуски на нули.**"
   ]
  },
  {
   "cell_type": "code",
   "execution_count": 348,
   "metadata": {},
   "outputs": [],
   "source": [
    "train_test_df_sites = train_test_df[['site%d' % i for i in range(1, 11)]].fillna(0).astype('int')"
   ]
  },
  {
   "cell_type": "code",
   "execution_count": 292,
   "metadata": {},
   "outputs": [
    {
     "data": {
      "text/html": [
       "<div>\n",
       "<style scoped>\n",
       "    .dataframe tbody tr th:only-of-type {\n",
       "        vertical-align: middle;\n",
       "    }\n",
       "\n",
       "    .dataframe tbody tr th {\n",
       "        vertical-align: top;\n",
       "    }\n",
       "\n",
       "    .dataframe thead th {\n",
       "        text-align: right;\n",
       "    }\n",
       "</style>\n",
       "<table border=\"1\" class=\"dataframe\">\n",
       "  <thead>\n",
       "    <tr style=\"text-align: right;\">\n",
       "      <th></th>\n",
       "      <th>site1</th>\n",
       "      <th>site2</th>\n",
       "      <th>site3</th>\n",
       "      <th>site4</th>\n",
       "      <th>site5</th>\n",
       "      <th>site6</th>\n",
       "      <th>site7</th>\n",
       "      <th>site8</th>\n",
       "      <th>site9</th>\n",
       "      <th>site10</th>\n",
       "    </tr>\n",
       "    <tr>\n",
       "      <th>session_id</th>\n",
       "      <th></th>\n",
       "      <th></th>\n",
       "      <th></th>\n",
       "      <th></th>\n",
       "      <th></th>\n",
       "      <th></th>\n",
       "      <th></th>\n",
       "      <th></th>\n",
       "      <th></th>\n",
       "      <th></th>\n",
       "    </tr>\n",
       "  </thead>\n",
       "  <tbody>\n",
       "    <tr>\n",
       "      <th>1</th>\n",
       "      <td>718</td>\n",
       "      <td>0</td>\n",
       "      <td>0</td>\n",
       "      <td>0</td>\n",
       "      <td>0</td>\n",
       "      <td>0</td>\n",
       "      <td>0</td>\n",
       "      <td>0</td>\n",
       "      <td>0</td>\n",
       "      <td>0</td>\n",
       "    </tr>\n",
       "    <tr>\n",
       "      <th>2</th>\n",
       "      <td>890</td>\n",
       "      <td>941</td>\n",
       "      <td>3847</td>\n",
       "      <td>941</td>\n",
       "      <td>942</td>\n",
       "      <td>3846</td>\n",
       "      <td>3847</td>\n",
       "      <td>3846</td>\n",
       "      <td>1516</td>\n",
       "      <td>1518</td>\n",
       "    </tr>\n",
       "    <tr>\n",
       "      <th>3</th>\n",
       "      <td>14769</td>\n",
       "      <td>39</td>\n",
       "      <td>14768</td>\n",
       "      <td>14769</td>\n",
       "      <td>37</td>\n",
       "      <td>39</td>\n",
       "      <td>14768</td>\n",
       "      <td>14768</td>\n",
       "      <td>14768</td>\n",
       "      <td>14768</td>\n",
       "    </tr>\n",
       "    <tr>\n",
       "      <th>4</th>\n",
       "      <td>782</td>\n",
       "      <td>782</td>\n",
       "      <td>782</td>\n",
       "      <td>782</td>\n",
       "      <td>782</td>\n",
       "      <td>782</td>\n",
       "      <td>782</td>\n",
       "      <td>782</td>\n",
       "      <td>782</td>\n",
       "      <td>782</td>\n",
       "    </tr>\n",
       "    <tr>\n",
       "      <th>5</th>\n",
       "      <td>22</td>\n",
       "      <td>177</td>\n",
       "      <td>175</td>\n",
       "      <td>178</td>\n",
       "      <td>177</td>\n",
       "      <td>178</td>\n",
       "      <td>175</td>\n",
       "      <td>177</td>\n",
       "      <td>177</td>\n",
       "      <td>178</td>\n",
       "    </tr>\n",
       "    <tr>\n",
       "      <th>6</th>\n",
       "      <td>570</td>\n",
       "      <td>21</td>\n",
       "      <td>570</td>\n",
       "      <td>21</td>\n",
       "      <td>21</td>\n",
       "      <td>0</td>\n",
       "      <td>0</td>\n",
       "      <td>0</td>\n",
       "      <td>0</td>\n",
       "      <td>0</td>\n",
       "    </tr>\n",
       "    <tr>\n",
       "      <th>7</th>\n",
       "      <td>803</td>\n",
       "      <td>23</td>\n",
       "      <td>5956</td>\n",
       "      <td>17513</td>\n",
       "      <td>37</td>\n",
       "      <td>21</td>\n",
       "      <td>803</td>\n",
       "      <td>17514</td>\n",
       "      <td>17514</td>\n",
       "      <td>17514</td>\n",
       "    </tr>\n",
       "    <tr>\n",
       "      <th>8</th>\n",
       "      <td>22</td>\n",
       "      <td>21</td>\n",
       "      <td>29</td>\n",
       "      <td>5041</td>\n",
       "      <td>14422</td>\n",
       "      <td>23</td>\n",
       "      <td>21</td>\n",
       "      <td>5041</td>\n",
       "      <td>14421</td>\n",
       "      <td>14421</td>\n",
       "    </tr>\n",
       "    <tr>\n",
       "      <th>9</th>\n",
       "      <td>668</td>\n",
       "      <td>940</td>\n",
       "      <td>942</td>\n",
       "      <td>941</td>\n",
       "      <td>941</td>\n",
       "      <td>942</td>\n",
       "      <td>940</td>\n",
       "      <td>23</td>\n",
       "      <td>21</td>\n",
       "      <td>22</td>\n",
       "    </tr>\n",
       "    <tr>\n",
       "      <th>10</th>\n",
       "      <td>3700</td>\n",
       "      <td>229</td>\n",
       "      <td>570</td>\n",
       "      <td>21</td>\n",
       "      <td>229</td>\n",
       "      <td>21</td>\n",
       "      <td>21</td>\n",
       "      <td>21</td>\n",
       "      <td>2336</td>\n",
       "      <td>2044</td>\n",
       "    </tr>\n",
       "  </tbody>\n",
       "</table>\n",
       "</div>"
      ],
      "text/plain": [
       "            site1  site2  site3  site4  site5  site6  site7  site8  site9  \\\n",
       "session_id                                                                  \n",
       "1             718      0      0      0      0      0      0      0      0   \n",
       "2             890    941   3847    941    942   3846   3847   3846   1516   \n",
       "3           14769     39  14768  14769     37     39  14768  14768  14768   \n",
       "4             782    782    782    782    782    782    782    782    782   \n",
       "5              22    177    175    178    177    178    175    177    177   \n",
       "6             570     21    570     21     21      0      0      0      0   \n",
       "7             803     23   5956  17513     37     21    803  17514  17514   \n",
       "8              22     21     29   5041  14422     23     21   5041  14421   \n",
       "9             668    940    942    941    941    942    940     23     21   \n",
       "10           3700    229    570     21    229     21     21     21   2336   \n",
       "\n",
       "            site10  \n",
       "session_id          \n",
       "1                0  \n",
       "2             1518  \n",
       "3            14768  \n",
       "4              782  \n",
       "5              178  \n",
       "6                0  \n",
       "7            17514  \n",
       "8            14421  \n",
       "9               22  \n",
       "10            2044  "
      ]
     },
     "execution_count": 292,
     "metadata": {},
     "output_type": "execute_result"
    }
   ],
   "source": [
    "train_test_df_sites.head(10)"
   ]
  },
  {
   "cell_type": "markdown",
   "metadata": {},
   "source": [
    "**Создайте разреженные матрицы *X_train_sparse* и *X_test_sparse* аналогично тому, как мы это делали ранее. Используйте объединенную матрицу *train_test_df_sites*, потом разделите обратно на обучающую и тестовую части.**\n",
    "\n",
    "Обратите внимание на то, что в  сессиях меньше 10 сайтов  у нас остались нули, так что первый признак (сколько раз попался 0) по смыслу отличен от остальных (сколько раз попался сайт с индексом $i$). Поэтому первый столбец разреженной матрицы надо будет удалить.\n",
    "\n",
    "**Выделите в отдельный вектор *y* ответы на обучающей выборке.**"
   ]
  },
  {
   "cell_type": "code",
   "execution_count": 356,
   "metadata": {},
   "outputs": [],
   "source": [
    "site_dict = pickle.load(open(os.path.join(PATH_TO_DATA, 'site_dic.pkl'), 'rb')) # исходный словарь"
   ]
  },
  {
   "cell_type": "code",
   "execution_count": 358,
   "metadata": {},
   "outputs": [],
   "source": [
    "def to_sparse_matrix(X, site_dict):\n",
    "    M = max(site_dict.values())\n",
    "    row_ind = []\n",
    "    col_ind = []\n",
    "    data = []\n",
    "    i, j = 0, 0\n",
    "    for line in X.values:\n",
    "        for e in line:\n",
    "            if e != 0:\n",
    "                data.append(1)\n",
    "                row_ind.append(i)\n",
    "                col_ind.append(e-1)\n",
    "        i += 1\n",
    "    return csr_matrix((data, (row_ind, col_ind)), shape=(i, M))"
   ]
  },
  {
   "cell_type": "code",
   "execution_count": 360,
   "metadata": {},
   "outputs": [
    {
     "data": {
      "text/plain": [
       "(336358, 48371)"
      ]
     },
     "execution_count": 360,
     "metadata": {},
     "output_type": "execute_result"
    }
   ],
   "source": [
    "train_test_sparse = to_sparse_matrix(train_test_df_sites, site_dict)\n",
    "train_test_sparse.shape"
   ]
  },
  {
   "cell_type": "code",
   "execution_count": 361,
   "metadata": {},
   "outputs": [],
   "source": [
    "X_train_sparse = train_test_sparse[:train_df.shape[0]]\n",
    "X_test_sparse = train_test_sparse[train_df.shape[0]:]\n",
    "y = train_df.target"
   ]
  },
  {
   "cell_type": "markdown",
   "metadata": {},
   "source": [
    "**<font color='red'>Вопрос 1. </font> Выведите размерности матриц *X_train_sparse* и *X_test_sparse* – 4 числа на одной строке через пробел: число строк и столбцов матрицы *X_train_sparse*, затем число строк и столбцов матрицы *X_test_sparse*.**"
   ]
  },
  {
   "cell_type": "code",
   "execution_count": 374,
   "metadata": {},
   "outputs": [
    {
     "name": "stdout",
     "output_type": "stream",
     "text": [
      "253561 , 48371 , 82797 , 48371\n"
     ]
    }
   ],
   "source": [
    "print(X_train_sparse.shape[0], ',', X_train_sparse.shape[1], ',', X_test_sparse.shape[0], ',',X_test_sparse.shape[1])"
   ]
  },
  {
   "cell_type": "markdown",
   "metadata": {},
   "source": [
    "**Сохраним в pickle-файлы объекты *X_train_sparse*, *X_test_sparse* и *y* (последний – в файл *kaggle_data/train_target.pkl*).**"
   ]
  },
  {
   "cell_type": "code",
   "execution_count": 18,
   "metadata": {},
   "outputs": [],
   "source": [
    "with open(os.path.join(PATH_TO_DATA, 'X_train_sparse.pkl'), 'wb') as X_train_sparse_pkl:\n",
    "    pickle.dump(X_train_sparse, X_train_sparse_pkl, protocol=2)\n",
    "with open(os.path.join(PATH_TO_DATA, 'X_test_sparse.pkl'), 'wb') as X_test_sparse_pkl:\n",
    "    pickle.dump(X_test_sparse, X_test_sparse_pkl, protocol=2)\n",
    "with open(os.path.join(PATH_TO_DATA, 'train_target.pkl'), 'wb') as train_target_pkl:\n",
    "    pickle.dump(y, train_target_pkl, protocol=2)"
   ]
  },
  {
   "cell_type": "markdown",
   "metadata": {},
   "source": [
    "**Разобьем обучающую выборку на 2 части в пропорции 7/3, причем не перемешивая. Исходные данные упорядочены по времени, тестовая выборка по времени четко отделена от обучающей, это же соблюдем и здесь.**"
   ]
  },
  {
   "cell_type": "code",
   "execution_count": 363,
   "metadata": {},
   "outputs": [],
   "source": [
    "train_share = int(.7 * X_train_sparse.shape[0])\n",
    "X_train, y_train = X_train_sparse[:train_share, :], y[:train_share]\n",
    "X_valid, y_valid  = X_train_sparse[train_share:, :], y[train_share:]"
   ]
  },
  {
   "cell_type": "markdown",
   "metadata": {
    "collapsed": true
   },
   "source": [
    "**Создайте объект `sklearn.linear_model.SGDClassifier` с логистической функцией потерь и параметром *random_state*=17. Остальные параметры оставьте по умолчанию, разве что *n_jobs*=-1 никогда не помешает. Обучите  модель на выборке `(X_train, y_train)`.**"
   ]
  },
  {
   "cell_type": "code",
   "execution_count": 364,
   "metadata": {},
   "outputs": [
    {
     "data": {
      "text/plain": [
       "SGDClassifier(alpha=0.0001, average=False, class_weight=None,\n",
       "       early_stopping=False, epsilon=0.1, eta0=0.0, fit_intercept=True,\n",
       "       l1_ratio=0.15, learning_rate='optimal', loss='log', max_iter=None,\n",
       "       n_iter=None, n_iter_no_change=5, n_jobs=-1, penalty='l2',\n",
       "       power_t=0.5, random_state=17, shuffle=True, tol=None,\n",
       "       validation_fraction=0.1, verbose=0, warm_start=False)"
      ]
     },
     "execution_count": 364,
     "metadata": {},
     "output_type": "execute_result"
    }
   ],
   "source": [
    "sgd_logit = SGDClassifier(loss = 'log', random_state=17, n_jobs=-1)\n",
    "sgd_logit.fit(X_train, y_train)"
   ]
  },
  {
   "cell_type": "markdown",
   "metadata": {},
   "source": [
    "**Сделайте прогноз в виде предсказанных вероятностей того, что это сессия Элис, на отложенной выборке *(X_valid, y_valid)*.**"
   ]
  },
  {
   "cell_type": "code",
   "execution_count": 365,
   "metadata": {},
   "outputs": [],
   "source": [
    "logit_valid_pred_proba = sgd_logit.predict_proba(X_valid)"
   ]
  },
  {
   "cell_type": "markdown",
   "metadata": {},
   "source": [
    "**<font color='red'>Вопрос 2. </font> Посчитайте ROC AUC логистической регрессии, обученной с помощью стохастического градиентного спуска, на отложенной выборке. Округлите до 3 знаков после разделителя.**"
   ]
  },
  {
   "cell_type": "code",
   "execution_count": 366,
   "metadata": {},
   "outputs": [
    {
     "data": {
      "text/plain": [
       "0.934"
      ]
     },
     "execution_count": 366,
     "metadata": {},
     "output_type": "execute_result"
    }
   ],
   "source": [
    "round(roc_auc_score(y_valid, logit_valid_pred_proba[:, 1]), 3)"
   ]
  },
  {
   "cell_type": "markdown",
   "metadata": {},
   "source": [
    "**Сделайте прогноз в виде предсказанных вероятностей отнесения к классу 1 для тестовой выборки с помощью той же *sgd_logit*, обученной уже на всей обучающей выборке (а не на 70%).**"
   ]
  },
  {
   "cell_type": "code",
   "execution_count": 367,
   "metadata": {},
   "outputs": [
    {
     "name": "stdout",
     "output_type": "stream",
     "text": [
      "Wall time: 462 ms\n"
     ]
    },
    {
     "data": {
      "text/plain": [
       "SGDClassifier(alpha=0.0001, average=False, class_weight=None,\n",
       "       early_stopping=False, epsilon=0.1, eta0=0.0, fit_intercept=True,\n",
       "       l1_ratio=0.15, learning_rate='optimal', loss='log', max_iter=None,\n",
       "       n_iter=None, n_iter_no_change=5, n_jobs=-1, penalty='l2',\n",
       "       power_t=0.5, random_state=17, shuffle=True, tol=None,\n",
       "       validation_fraction=0.1, verbose=0, warm_start=False)"
      ]
     },
     "execution_count": 367,
     "metadata": {},
     "output_type": "execute_result"
    }
   ],
   "source": [
    "%%time\n",
    "sgd_logit.fit(X_train_sparse, y)"
   ]
  },
  {
   "cell_type": "code",
   "execution_count": 368,
   "metadata": {},
   "outputs": [],
   "source": [
    "logit_test_pred_proba = sgd_logit.predict_proba(X_test_sparse)"
   ]
  },
  {
   "cell_type": "code",
   "execution_count": 369,
   "metadata": {},
   "outputs": [],
   "source": [
    "skf = StratifiedKFold(n_splits=3, shuffle=True, random_state=42)"
   ]
  },
  {
   "cell_type": "code",
   "execution_count": 370,
   "metadata": {},
   "outputs": [
    {
     "name": "stdout",
     "output_type": "stream",
     "text": [
      "ROC AUC score:  0.9361\n"
     ]
    }
   ],
   "source": [
    "score = cross_val_score(estimator=sgd_logit, X=X_train_sparse, y=y, cv=skf, scoring='roc_auc').mean()\n",
    "print('ROC AUC score: ', round(score, 4))"
   ]
  },
  {
   "cell_type": "markdown",
   "metadata": {},
   "source": [
    "**Запишите ответы в файл и сделайте посылку на Kaggle. Дайте своей команде (из одного человека) на Kaggle говорящее название – по шаблону \"[YDF & MIPT] Coursera_Username\", чтоб можно было легко идентифицировать Вашу посылку на [лидерборде](https://inclass.kaggle.com/c/catch-me-if-you-can-intruder-detection-through-webpage-session-tracking2/leaderboard/public).**\n",
    "\n",
    "**Результат, который мы только что получили, соответствует бейзлайну \"SGDCLassifer\" на лидерборде, задача на эту неделю – как минимум его побить.**"
   ]
  },
  {
   "cell_type": "code",
   "execution_count": 371,
   "metadata": {},
   "outputs": [],
   "source": [
    "def write_to_submission_file(predicted_labels, out_file,\n",
    "                             target='target', index_label=\"session_id\"):\n",
    "    # turn predictions into data frame and save as csv file\n",
    "    predicted_df = pd.DataFrame(predicted_labels,\n",
    "                                index = np.arange(1, predicted_labels.shape[0] + 1),\n",
    "                                columns=[target])\n",
    "    predicted_df.to_csv(out_file, index_label=index_label)"
   ]
  },
  {
   "cell_type": "code",
   "execution_count": 372,
   "metadata": {},
   "outputs": [],
   "source": [
    "write_to_submission_file(logit_test_pred_proba[:,1], 'Alice2')"
   ]
  },
  {
   "cell_type": "code",
   "execution_count": 30,
   "metadata": {},
   "outputs": [
    {
     "data": {
      "text/plain": [
       "array([[9.89878924e-01, 1.01210764e-02],\n",
       "       [9.99950477e-01, 4.95226822e-05],\n",
       "       [9.99971777e-01, 2.82233605e-05],\n",
       "       ...,\n",
       "       [9.89120103e-01, 1.08798970e-02],\n",
       "       [9.96875723e-01, 3.12427652e-03],\n",
       "       [9.99069979e-01, 9.30021210e-04]])"
      ]
     },
     "execution_count": 30,
     "metadata": {},
     "output_type": "execute_result"
    }
   ],
   "source": [
    "logit_test_pred_proba"
   ]
  },
  {
   "cell_type": "markdown",
   "metadata": {},
   "source": [
    "#### На лидерборде получился результат - 0.91273 - уровень бенчмарка \"sgd_logit_benchmark.csv\""
   ]
  },
  {
   "cell_type": "markdown",
   "metadata": {},
   "source": [
    "## 2. Попробуем преобразовать данные о сайтах"
   ]
  },
  {
   "cell_type": "markdown",
   "metadata": {},
   "source": [
    "### 2.1. Вернем датафрейму исходные имена"
   ]
  },
  {
   "cell_type": "code",
   "execution_count": 31,
   "metadata": {},
   "outputs": [],
   "source": [
    "L = pickle.load(open(os.path.join(PATH_TO_DATA, 'site_dic.pkl'), 'rb')) # исходный словарь"
   ]
  },
  {
   "cell_type": "code",
   "execution_count": 32,
   "metadata": {},
   "outputs": [],
   "source": [
    "def reverse_dict(L):\n",
    "    L_new = {}\n",
    "    for k, v in L.items():\n",
    "        L_new[v] = k\n",
    "    return L_new"
   ]
  },
  {
   "cell_type": "code",
   "execution_count": 33,
   "metadata": {},
   "outputs": [],
   "source": [
    "def initial_names(X, L):\n",
    "    X_init_names = X\n",
    "    for i in range (1, 11):\n",
    "        X_init_names['site'+str(i)] = X['site'+str(i)].map(L)\n",
    "    \n",
    "    return (X_init_names)"
   ]
  },
  {
   "cell_type": "code",
   "execution_count": 34,
   "metadata": {},
   "outputs": [],
   "source": [
    "X_init = initial_names(train_test_df_sites, reverse_dict(L))"
   ]
  },
  {
   "cell_type": "code",
   "execution_count": 35,
   "metadata": {},
   "outputs": [
    {
     "data": {
      "text/html": [
       "<div>\n",
       "<style scoped>\n",
       "    .dataframe tbody tr th:only-of-type {\n",
       "        vertical-align: middle;\n",
       "    }\n",
       "\n",
       "    .dataframe tbody tr th {\n",
       "        vertical-align: top;\n",
       "    }\n",
       "\n",
       "    .dataframe thead th {\n",
       "        text-align: right;\n",
       "    }\n",
       "</style>\n",
       "<table border=\"1\" class=\"dataframe\">\n",
       "  <thead>\n",
       "    <tr style=\"text-align: right;\">\n",
       "      <th></th>\n",
       "      <th>site1</th>\n",
       "      <th>site2</th>\n",
       "      <th>site3</th>\n",
       "      <th>site4</th>\n",
       "      <th>site5</th>\n",
       "      <th>site6</th>\n",
       "      <th>site7</th>\n",
       "      <th>site8</th>\n",
       "      <th>site9</th>\n",
       "      <th>site10</th>\n",
       "    </tr>\n",
       "    <tr>\n",
       "      <th>session_id</th>\n",
       "      <th></th>\n",
       "      <th></th>\n",
       "      <th></th>\n",
       "      <th></th>\n",
       "      <th></th>\n",
       "      <th></th>\n",
       "      <th></th>\n",
       "      <th></th>\n",
       "      <th></th>\n",
       "      <th></th>\n",
       "    </tr>\n",
       "  </thead>\n",
       "  <tbody>\n",
       "    <tr>\n",
       "      <th>1</th>\n",
       "      <td>rr.office.microsoft.com</td>\n",
       "      <td>NaN</td>\n",
       "      <td>NaN</td>\n",
       "      <td>NaN</td>\n",
       "      <td>NaN</td>\n",
       "      <td>NaN</td>\n",
       "      <td>NaN</td>\n",
       "      <td>NaN</td>\n",
       "      <td>NaN</td>\n",
       "      <td>NaN</td>\n",
       "    </tr>\n",
       "    <tr>\n",
       "      <th>2</th>\n",
       "      <td>maps.google.com</td>\n",
       "      <td>mts0.google.com</td>\n",
       "      <td>khms0.google.com</td>\n",
       "      <td>mts0.google.com</td>\n",
       "      <td>mts1.google.com</td>\n",
       "      <td>khms1.google.com</td>\n",
       "      <td>khms0.google.com</td>\n",
       "      <td>khms1.google.com</td>\n",
       "      <td>193.164.197.30</td>\n",
       "      <td>193.164.196.60</td>\n",
       "    </tr>\n",
       "    <tr>\n",
       "      <th>3</th>\n",
       "      <td>cbk1.googleapis.com</td>\n",
       "      <td>accounts.google.com</td>\n",
       "      <td>cbk0.googleapis.com</td>\n",
       "      <td>cbk1.googleapis.com</td>\n",
       "      <td>twitter.com</td>\n",
       "      <td>accounts.google.com</td>\n",
       "      <td>cbk0.googleapis.com</td>\n",
       "      <td>cbk0.googleapis.com</td>\n",
       "      <td>cbk0.googleapis.com</td>\n",
       "      <td>cbk0.googleapis.com</td>\n",
       "    </tr>\n",
       "    <tr>\n",
       "      <th>4</th>\n",
       "      <td>annotathon.org</td>\n",
       "      <td>annotathon.org</td>\n",
       "      <td>annotathon.org</td>\n",
       "      <td>annotathon.org</td>\n",
       "      <td>annotathon.org</td>\n",
       "      <td>annotathon.org</td>\n",
       "      <td>annotathon.org</td>\n",
       "      <td>annotathon.org</td>\n",
       "      <td>annotathon.org</td>\n",
       "      <td>annotathon.org</td>\n",
       "    </tr>\n",
       "    <tr>\n",
       "      <th>5</th>\n",
       "      <td>apis.google.com</td>\n",
       "      <td>fr.wikipedia.org</td>\n",
       "      <td>bits.wikimedia.org</td>\n",
       "      <td>meta.wikimedia.org</td>\n",
       "      <td>fr.wikipedia.org</td>\n",
       "      <td>meta.wikimedia.org</td>\n",
       "      <td>bits.wikimedia.org</td>\n",
       "      <td>fr.wikipedia.org</td>\n",
       "      <td>fr.wikipedia.org</td>\n",
       "      <td>meta.wikimedia.org</td>\n",
       "    </tr>\n",
       "  </tbody>\n",
       "</table>\n",
       "</div>"
      ],
      "text/plain": [
       "                              site1                site2                site3  \\\n",
       "session_id                                                                      \n",
       "1           rr.office.microsoft.com                  NaN                  NaN   \n",
       "2                   maps.google.com      mts0.google.com     khms0.google.com   \n",
       "3               cbk1.googleapis.com  accounts.google.com  cbk0.googleapis.com   \n",
       "4                    annotathon.org       annotathon.org       annotathon.org   \n",
       "5                   apis.google.com     fr.wikipedia.org   bits.wikimedia.org   \n",
       "\n",
       "                          site4             site5                site6  \\\n",
       "session_id                                                               \n",
       "1                           NaN               NaN                  NaN   \n",
       "2               mts0.google.com   mts1.google.com     khms1.google.com   \n",
       "3           cbk1.googleapis.com       twitter.com  accounts.google.com   \n",
       "4                annotathon.org    annotathon.org       annotathon.org   \n",
       "5            meta.wikimedia.org  fr.wikipedia.org   meta.wikimedia.org   \n",
       "\n",
       "                          site7                site8                site9  \\\n",
       "session_id                                                                  \n",
       "1                           NaN                  NaN                  NaN   \n",
       "2              khms0.google.com     khms1.google.com       193.164.197.30   \n",
       "3           cbk0.googleapis.com  cbk0.googleapis.com  cbk0.googleapis.com   \n",
       "4                annotathon.org       annotathon.org       annotathon.org   \n",
       "5            bits.wikimedia.org     fr.wikipedia.org     fr.wikipedia.org   \n",
       "\n",
       "                         site10  \n",
       "session_id                       \n",
       "1                           NaN  \n",
       "2                193.164.196.60  \n",
       "3           cbk0.googleapis.com  \n",
       "4                annotathon.org  \n",
       "5            meta.wikimedia.org  "
      ]
     },
     "execution_count": 35,
     "metadata": {},
     "output_type": "execute_result"
    }
   ],
   "source": [
    "X_init.head()# Вернули исходному датафрейму имена сайтов"
   ]
  },
  {
   "cell_type": "markdown",
   "metadata": {},
   "source": [
    "### 1.2. Заменим Nan на Unknown"
   ]
  },
  {
   "cell_type": "code",
   "execution_count": 36,
   "metadata": {},
   "outputs": [
    {
     "data": {
      "text/html": [
       "<div>\n",
       "<style scoped>\n",
       "    .dataframe tbody tr th:only-of-type {\n",
       "        vertical-align: middle;\n",
       "    }\n",
       "\n",
       "    .dataframe tbody tr th {\n",
       "        vertical-align: top;\n",
       "    }\n",
       "\n",
       "    .dataframe thead th {\n",
       "        text-align: right;\n",
       "    }\n",
       "</style>\n",
       "<table border=\"1\" class=\"dataframe\">\n",
       "  <thead>\n",
       "    <tr style=\"text-align: right;\">\n",
       "      <th></th>\n",
       "      <th>site1</th>\n",
       "      <th>site2</th>\n",
       "      <th>site3</th>\n",
       "      <th>site4</th>\n",
       "      <th>site5</th>\n",
       "      <th>site6</th>\n",
       "      <th>site7</th>\n",
       "      <th>site8</th>\n",
       "      <th>site9</th>\n",
       "      <th>site10</th>\n",
       "    </tr>\n",
       "    <tr>\n",
       "      <th>session_id</th>\n",
       "      <th></th>\n",
       "      <th></th>\n",
       "      <th></th>\n",
       "      <th></th>\n",
       "      <th></th>\n",
       "      <th></th>\n",
       "      <th></th>\n",
       "      <th></th>\n",
       "      <th></th>\n",
       "      <th></th>\n",
       "    </tr>\n",
       "  </thead>\n",
       "  <tbody>\n",
       "    <tr>\n",
       "      <th>1</th>\n",
       "      <td>rr.office.microsoft.com</td>\n",
       "      <td>Unknown</td>\n",
       "      <td>Unknown</td>\n",
       "      <td>Unknown</td>\n",
       "      <td>Unknown</td>\n",
       "      <td>Unknown</td>\n",
       "      <td>Unknown</td>\n",
       "      <td>Unknown</td>\n",
       "      <td>Unknown</td>\n",
       "      <td>Unknown</td>\n",
       "    </tr>\n",
       "    <tr>\n",
       "      <th>2</th>\n",
       "      <td>maps.google.com</td>\n",
       "      <td>mts0.google.com</td>\n",
       "      <td>khms0.google.com</td>\n",
       "      <td>mts0.google.com</td>\n",
       "      <td>mts1.google.com</td>\n",
       "      <td>khms1.google.com</td>\n",
       "      <td>khms0.google.com</td>\n",
       "      <td>khms1.google.com</td>\n",
       "      <td>193.164.197.30</td>\n",
       "      <td>193.164.196.60</td>\n",
       "    </tr>\n",
       "  </tbody>\n",
       "</table>\n",
       "</div>"
      ],
      "text/plain": [
       "                              site1            site2             site3  \\\n",
       "session_id                                                               \n",
       "1           rr.office.microsoft.com          Unknown           Unknown   \n",
       "2                   maps.google.com  mts0.google.com  khms0.google.com   \n",
       "\n",
       "                      site4            site5             site6  \\\n",
       "session_id                                                       \n",
       "1                   Unknown          Unknown           Unknown   \n",
       "2           mts0.google.com  mts1.google.com  khms1.google.com   \n",
       "\n",
       "                       site7             site8           site9          site10  \n",
       "session_id                                                                      \n",
       "1                    Unknown           Unknown         Unknown         Unknown  \n",
       "2           khms0.google.com  khms1.google.com  193.164.197.30  193.164.196.60  "
      ]
     },
     "execution_count": 36,
     "metadata": {},
     "output_type": "execute_result"
    }
   ],
   "source": [
    "X_init = X_init.applymap(lambda site: 'Unknown' if (type(site) == float) else site)\n",
    "X_init.head(2)"
   ]
  },
  {
   "cell_type": "code",
   "execution_count": 114,
   "metadata": {},
   "outputs": [],
   "source": [
    "with open(os.path.join(PATH_TO_DATA, 'X_init.pkl'), 'wb') as X_init_pkl:\n",
    "    pickle.dump(X_init, X_init_pkl, protocol=2)"
   ]
  },
  {
   "cell_type": "markdown",
   "metadata": {},
   "source": [
    "### 1.3. Избавимся от лишних www."
   ]
  },
  {
   "cell_type": "code",
   "execution_count": 37,
   "metadata": {},
   "outputs": [
    {
     "data": {
      "text/html": [
       "<div>\n",
       "<style scoped>\n",
       "    .dataframe tbody tr th:only-of-type {\n",
       "        vertical-align: middle;\n",
       "    }\n",
       "\n",
       "    .dataframe tbody tr th {\n",
       "        vertical-align: top;\n",
       "    }\n",
       "\n",
       "    .dataframe thead th {\n",
       "        text-align: right;\n",
       "    }\n",
       "</style>\n",
       "<table border=\"1\" class=\"dataframe\">\n",
       "  <thead>\n",
       "    <tr style=\"text-align: right;\">\n",
       "      <th></th>\n",
       "      <th>site1</th>\n",
       "      <th>site2</th>\n",
       "      <th>site3</th>\n",
       "      <th>site4</th>\n",
       "      <th>site5</th>\n",
       "      <th>site6</th>\n",
       "      <th>site7</th>\n",
       "      <th>site8</th>\n",
       "      <th>site9</th>\n",
       "      <th>site10</th>\n",
       "    </tr>\n",
       "    <tr>\n",
       "      <th>session_id</th>\n",
       "      <th></th>\n",
       "      <th></th>\n",
       "      <th></th>\n",
       "      <th></th>\n",
       "      <th></th>\n",
       "      <th></th>\n",
       "      <th></th>\n",
       "      <th></th>\n",
       "      <th></th>\n",
       "      <th></th>\n",
       "    </tr>\n",
       "  </thead>\n",
       "  <tbody>\n",
       "    <tr>\n",
       "      <th>1</th>\n",
       "      <td>rr.office.microsoft.com</td>\n",
       "      <td>Unknown</td>\n",
       "      <td>Unknown</td>\n",
       "      <td>Unknown</td>\n",
       "      <td>Unknown</td>\n",
       "      <td>Unknown</td>\n",
       "      <td>Unknown</td>\n",
       "      <td>Unknown</td>\n",
       "      <td>Unknown</td>\n",
       "      <td>Unknown</td>\n",
       "    </tr>\n",
       "    <tr>\n",
       "      <th>2</th>\n",
       "      <td>maps.google.com</td>\n",
       "      <td>mts0.google.com</td>\n",
       "      <td>khms0.google.com</td>\n",
       "      <td>mts0.google.com</td>\n",
       "      <td>mts1.google.com</td>\n",
       "      <td>khms1.google.com</td>\n",
       "      <td>khms0.google.com</td>\n",
       "      <td>khms1.google.com</td>\n",
       "      <td>193.164.197.30</td>\n",
       "      <td>193.164.196.60</td>\n",
       "    </tr>\n",
       "    <tr>\n",
       "      <th>3</th>\n",
       "      <td>cbk1.googleapis.com</td>\n",
       "      <td>accounts.google.com</td>\n",
       "      <td>cbk0.googleapis.com</td>\n",
       "      <td>cbk1.googleapis.com</td>\n",
       "      <td>twitter.com</td>\n",
       "      <td>accounts.google.com</td>\n",
       "      <td>cbk0.googleapis.com</td>\n",
       "      <td>cbk0.googleapis.com</td>\n",
       "      <td>cbk0.googleapis.com</td>\n",
       "      <td>cbk0.googleapis.com</td>\n",
       "    </tr>\n",
       "    <tr>\n",
       "      <th>4</th>\n",
       "      <td>annotathon.org</td>\n",
       "      <td>annotathon.org</td>\n",
       "      <td>annotathon.org</td>\n",
       "      <td>annotathon.org</td>\n",
       "      <td>annotathon.org</td>\n",
       "      <td>annotathon.org</td>\n",
       "      <td>annotathon.org</td>\n",
       "      <td>annotathon.org</td>\n",
       "      <td>annotathon.org</td>\n",
       "      <td>annotathon.org</td>\n",
       "    </tr>\n",
       "    <tr>\n",
       "      <th>5</th>\n",
       "      <td>apis.google.com</td>\n",
       "      <td>fr.wikipedia.org</td>\n",
       "      <td>bits.wikimedia.org</td>\n",
       "      <td>meta.wikimedia.org</td>\n",
       "      <td>fr.wikipedia.org</td>\n",
       "      <td>meta.wikimedia.org</td>\n",
       "      <td>bits.wikimedia.org</td>\n",
       "      <td>fr.wikipedia.org</td>\n",
       "      <td>fr.wikipedia.org</td>\n",
       "      <td>meta.wikimedia.org</td>\n",
       "    </tr>\n",
       "  </tbody>\n",
       "</table>\n",
       "</div>"
      ],
      "text/plain": [
       "                              site1                site2                site3  \\\n",
       "session_id                                                                      \n",
       "1           rr.office.microsoft.com              Unknown              Unknown   \n",
       "2                   maps.google.com      mts0.google.com     khms0.google.com   \n",
       "3               cbk1.googleapis.com  accounts.google.com  cbk0.googleapis.com   \n",
       "4                    annotathon.org       annotathon.org       annotathon.org   \n",
       "5                   apis.google.com     fr.wikipedia.org   bits.wikimedia.org   \n",
       "\n",
       "                          site4             site5                site6  \\\n",
       "session_id                                                               \n",
       "1                       Unknown           Unknown              Unknown   \n",
       "2               mts0.google.com   mts1.google.com     khms1.google.com   \n",
       "3           cbk1.googleapis.com       twitter.com  accounts.google.com   \n",
       "4                annotathon.org    annotathon.org       annotathon.org   \n",
       "5            meta.wikimedia.org  fr.wikipedia.org   meta.wikimedia.org   \n",
       "\n",
       "                          site7                site8                site9  \\\n",
       "session_id                                                                  \n",
       "1                       Unknown              Unknown              Unknown   \n",
       "2              khms0.google.com     khms1.google.com       193.164.197.30   \n",
       "3           cbk0.googleapis.com  cbk0.googleapis.com  cbk0.googleapis.com   \n",
       "4                annotathon.org       annotathon.org       annotathon.org   \n",
       "5            bits.wikimedia.org     fr.wikipedia.org     fr.wikipedia.org   \n",
       "\n",
       "                         site10  \n",
       "session_id                       \n",
       "1                       Unknown  \n",
       "2                193.164.196.60  \n",
       "3           cbk0.googleapis.com  \n",
       "4                annotathon.org  \n",
       "5            meta.wikimedia.org  "
      ]
     },
     "execution_count": 37,
     "metadata": {},
     "output_type": "execute_result"
    }
   ],
   "source": [
    "X_init = X_init.applymap(lambda site: re.sub(\"^\\S*?\\.*?www\\S*?\\.\", '', site)) \n",
    "X_init.head()"
   ]
  },
  {
   "cell_type": "code",
   "execution_count": 43,
   "metadata": {},
   "outputs": [],
   "source": [
    "with open(os.path.join(PATH_TO_DATA, 'X_without_www.pkl'), 'wb') as X_without_www_pkl:\n",
    "    pickle.dump(X_init, X_without_www_pkl, protocol=2)"
   ]
  },
  {
   "cell_type": "markdown",
   "metadata": {},
   "source": [
    "### 1.3. Сделаем новый словарь"
   ]
  },
  {
   "cell_type": "code",
   "execution_count": 38,
   "metadata": {},
   "outputs": [],
   "source": [
    "def dictionary_names_full(L): # функция, которая присваивает имена id сайтов сообразно их частоте (чем выше частота, тем меньше id)\n",
    "    sorted_list = sorted(L.values())\n",
    "    D = dict()\n",
    "    L_copy = L.copy()\n",
    "    k = L_copy.keys()\n",
    "    Name = len(sorted_list) - 1\n",
    "    for i in range (0, len(sorted_list)):\n",
    "        value = sorted_list[i]\n",
    "        key = get_key(L_copy, value)\n",
    "        if (key in D) == False:\n",
    "            D[key] = Name, value\n",
    "            Name -= 1\n",
    "        else:\n",
    "            del L_copy[key]\n",
    "            key = get_key(L_copy, value)\n",
    "            D[key] = Name, value\n",
    "            Name -= 1\n",
    "    return D"
   ]
  },
  {
   "cell_type": "code",
   "execution_count": 39,
   "metadata": {},
   "outputs": [],
   "source": [
    "def dictionary_new(data): # id сайтов соответствуют частотам - чем больше частота, тем меньше id\n",
    "    L = dict()\n",
    "    X = data\n",
    "    \n",
    "    for n in range(0, len(X)):\n",
    "        for i in range (0, len(X.iloc[n])):\n",
    "            if (L.get(X.iloc[n][i], ['None'])) == ['None']: ## Проверяем, есть ли такой ключ в словаре\n",
    "                L[X.iloc[n][i]] = 1                 ## Если нет, то присваиваем этому сайту уникальный id и отметили, что встетили его 1 раз\n",
    "    \n",
    "            else:\n",
    "                L[X.iloc[n][i]] += 1 ## Если есть, то инкрементируем счетчик вхождений, id не трогаем\n",
    "    \n",
    "    L_new = dictionary_names_full(L)\n",
    "    \n",
    "    return L_new  "
   ]
  },
  {
   "cell_type": "code",
   "execution_count": 40,
   "metadata": {},
   "outputs": [],
   "source": [
    "def get_key(d, value):\n",
    "    for k, v in d.items():\n",
    "        if v == value:\n",
    "            return k"
   ]
  },
  {
   "cell_type": "code",
   "execution_count": 41,
   "metadata": {},
   "outputs": [
    {
     "data": {
      "text/html": [
       "<div>\n",
       "<style scoped>\n",
       "    .dataframe tbody tr th:only-of-type {\n",
       "        vertical-align: middle;\n",
       "    }\n",
       "\n",
       "    .dataframe tbody tr th {\n",
       "        vertical-align: top;\n",
       "    }\n",
       "\n",
       "    .dataframe thead th {\n",
       "        text-align: right;\n",
       "    }\n",
       "</style>\n",
       "<table border=\"1\" class=\"dataframe\">\n",
       "  <thead>\n",
       "    <tr style=\"text-align: right;\">\n",
       "      <th></th>\n",
       "      <th>site1</th>\n",
       "      <th>site2</th>\n",
       "      <th>site3</th>\n",
       "      <th>site4</th>\n",
       "      <th>site5</th>\n",
       "      <th>site6</th>\n",
       "      <th>site7</th>\n",
       "      <th>site8</th>\n",
       "      <th>site9</th>\n",
       "      <th>site10</th>\n",
       "    </tr>\n",
       "    <tr>\n",
       "      <th>session_id</th>\n",
       "      <th></th>\n",
       "      <th></th>\n",
       "      <th></th>\n",
       "      <th></th>\n",
       "      <th></th>\n",
       "      <th></th>\n",
       "      <th></th>\n",
       "      <th></th>\n",
       "      <th></th>\n",
       "      <th></th>\n",
       "    </tr>\n",
       "  </thead>\n",
       "  <tbody>\n",
       "    <tr>\n",
       "      <th>1</th>\n",
       "      <td>rr.office.microsoft.com</td>\n",
       "      <td>Unknown</td>\n",
       "      <td>Unknown</td>\n",
       "      <td>Unknown</td>\n",
       "      <td>Unknown</td>\n",
       "      <td>Unknown</td>\n",
       "      <td>Unknown</td>\n",
       "      <td>Unknown</td>\n",
       "      <td>Unknown</td>\n",
       "      <td>Unknown</td>\n",
       "    </tr>\n",
       "    <tr>\n",
       "      <th>2</th>\n",
       "      <td>maps.google.com</td>\n",
       "      <td>mts0.google.com</td>\n",
       "      <td>khms0.google.com</td>\n",
       "      <td>mts0.google.com</td>\n",
       "      <td>mts1.google.com</td>\n",
       "      <td>khms1.google.com</td>\n",
       "      <td>khms0.google.com</td>\n",
       "      <td>khms1.google.com</td>\n",
       "      <td>193.164.197.30</td>\n",
       "      <td>193.164.196.60</td>\n",
       "    </tr>\n",
       "    <tr>\n",
       "      <th>3</th>\n",
       "      <td>cbk1.googleapis.com</td>\n",
       "      <td>accounts.google.com</td>\n",
       "      <td>cbk0.googleapis.com</td>\n",
       "      <td>cbk1.googleapis.com</td>\n",
       "      <td>twitter.com</td>\n",
       "      <td>accounts.google.com</td>\n",
       "      <td>cbk0.googleapis.com</td>\n",
       "      <td>cbk0.googleapis.com</td>\n",
       "      <td>cbk0.googleapis.com</td>\n",
       "      <td>cbk0.googleapis.com</td>\n",
       "    </tr>\n",
       "    <tr>\n",
       "      <th>4</th>\n",
       "      <td>annotathon.org</td>\n",
       "      <td>annotathon.org</td>\n",
       "      <td>annotathon.org</td>\n",
       "      <td>annotathon.org</td>\n",
       "      <td>annotathon.org</td>\n",
       "      <td>annotathon.org</td>\n",
       "      <td>annotathon.org</td>\n",
       "      <td>annotathon.org</td>\n",
       "      <td>annotathon.org</td>\n",
       "      <td>annotathon.org</td>\n",
       "    </tr>\n",
       "    <tr>\n",
       "      <th>5</th>\n",
       "      <td>apis.google.com</td>\n",
       "      <td>fr.wikipedia.org</td>\n",
       "      <td>bits.wikimedia.org</td>\n",
       "      <td>meta.wikimedia.org</td>\n",
       "      <td>fr.wikipedia.org</td>\n",
       "      <td>meta.wikimedia.org</td>\n",
       "      <td>bits.wikimedia.org</td>\n",
       "      <td>fr.wikipedia.org</td>\n",
       "      <td>fr.wikipedia.org</td>\n",
       "      <td>meta.wikimedia.org</td>\n",
       "    </tr>\n",
       "  </tbody>\n",
       "</table>\n",
       "</div>"
      ],
      "text/plain": [
       "                              site1                site2                site3  \\\n",
       "session_id                                                                      \n",
       "1           rr.office.microsoft.com              Unknown              Unknown   \n",
       "2                   maps.google.com      mts0.google.com     khms0.google.com   \n",
       "3               cbk1.googleapis.com  accounts.google.com  cbk0.googleapis.com   \n",
       "4                    annotathon.org       annotathon.org       annotathon.org   \n",
       "5                   apis.google.com     fr.wikipedia.org   bits.wikimedia.org   \n",
       "\n",
       "                          site4             site5                site6  \\\n",
       "session_id                                                               \n",
       "1                       Unknown           Unknown              Unknown   \n",
       "2               mts0.google.com   mts1.google.com     khms1.google.com   \n",
       "3           cbk1.googleapis.com       twitter.com  accounts.google.com   \n",
       "4                annotathon.org    annotathon.org       annotathon.org   \n",
       "5            meta.wikimedia.org  fr.wikipedia.org   meta.wikimedia.org   \n",
       "\n",
       "                          site7                site8                site9  \\\n",
       "session_id                                                                  \n",
       "1                       Unknown              Unknown              Unknown   \n",
       "2              khms0.google.com     khms1.google.com       193.164.197.30   \n",
       "3           cbk0.googleapis.com  cbk0.googleapis.com  cbk0.googleapis.com   \n",
       "4                annotathon.org       annotathon.org       annotathon.org   \n",
       "5            bits.wikimedia.org     fr.wikipedia.org     fr.wikipedia.org   \n",
       "\n",
       "                         site10  \n",
       "session_id                       \n",
       "1                       Unknown  \n",
       "2                193.164.196.60  \n",
       "3           cbk0.googleapis.com  \n",
       "4                annotathon.org  \n",
       "5            meta.wikimedia.org  "
      ]
     },
     "execution_count": 41,
     "metadata": {},
     "output_type": "execute_result"
    }
   ],
   "source": [
    "X_init = pickle.load(open(os.path.join(PATH_TO_DATA, 'X_without_www.pkl'), 'rb'))\n",
    "X_init.head()"
   ]
  },
  {
   "cell_type": "code",
   "execution_count": 32,
   "metadata": {},
   "outputs": [],
   "source": [
    "L_new_zero = dictionary_new(X_init) # создали новый словарь, где имя сайту присваивается по частотам вхождения"
   ]
  },
  {
   "cell_type": "code",
   "execution_count": 33,
   "metadata": {},
   "outputs": [
    {
     "data": {
      "text/plain": [
       "47135"
      ]
     },
     "execution_count": 33,
     "metadata": {},
     "output_type": "execute_result"
    }
   ],
   "source": [
    "len(L_new_zero) # в сравнении с исхдным словарем уже удалось уменьшить простанство признаков"
   ]
  },
  {
   "cell_type": "code",
   "execution_count": 34,
   "metadata": {},
   "outputs": [
    {
     "data": {
      "text/plain": [
       "(0, 168150)"
      ]
     },
     "execution_count": 34,
     "metadata": {},
     "output_type": "execute_result"
    }
   ],
   "source": [
    "L_new_zero['Unknown'] # Убедились, что сайтам \"NaN\" соответствует имя 0"
   ]
  },
  {
   "cell_type": "code",
   "execution_count": 35,
   "metadata": {},
   "outputs": [],
   "source": [
    "with open(os.path.join(PATH_TO_DATA, 'L_new_zero.pkl'), 'wb') as L_new_zero_pkl:\n",
    "    pickle.dump(L_new_zero, L_new_zero_pkl, protocol=2)"
   ]
  },
  {
   "cell_type": "code",
   "execution_count": 36,
   "metadata": {},
   "outputs": [
    {
     "data": {
      "text/plain": [
       "23546"
      ]
     },
     "execution_count": 36,
     "metadata": {},
     "output_type": "execute_result"
    }
   ],
   "source": [
    "k = 0 # подсчитаем количество сайтов, которые встретились только 1 или 2 раза\n",
    "for i in range (0, len(L_new_zero)):\n",
    "    if list(L_new_zero.items())[i][1][1] < 3:\n",
    "        k+=1\n",
    "        \n",
    "k"
   ]
  },
  {
   "cell_type": "markdown",
   "metadata": {},
   "source": [
    "#### Вероятнее всего, что у нас имеется 23546 шт. признаков, которые если не ухудшают, то точно никак не влияют на качество модели"
   ]
  },
  {
   "cell_type": "markdown",
   "metadata": {},
   "source": [
    "#### Избавимся от этих \"мусорных\" признаков - в значениях словаря сайтам, которые встречаются 1 или 2 раза поставим имя 0 и не будем их учитывать при составлении разреженной матрицы признаков"
   ]
  },
  {
   "cell_type": "code",
   "execution_count": 32,
   "metadata": {},
   "outputs": [],
   "source": [
    "def dict_without_12(L): # в значениях словаря сайтам, которые встречаются 1 или 2 раза поставим имя 0\n",
    "    L_new = {}\n",
    "    for k, v in L.items():\n",
    "        if v[1] > 2:\n",
    "            L_new[k] = v\n",
    "        else:\n",
    "            L_new[k] = [0, v[1]]\n",
    "    return L_new"
   ]
  },
  {
   "cell_type": "code",
   "execution_count": 30,
   "metadata": {},
   "outputs": [],
   "source": [
    "L_new_zero = pickle.load(open(os.path.join(PATH_TO_DATA, 'L_new_zero.pkl'), 'rb')) # исходный словарь"
   ]
  },
  {
   "cell_type": "code",
   "execution_count": 33,
   "metadata": {},
   "outputs": [],
   "source": [
    "L_12 = dict_without_12(L_new_zero)"
   ]
  },
  {
   "cell_type": "code",
   "execution_count": 34,
   "metadata": {},
   "outputs": [
    {
     "data": {
      "text/plain": [
       "47135"
      ]
     },
     "execution_count": 34,
     "metadata": {},
     "output_type": "execute_result"
    }
   ],
   "source": [
    "len(L_12) # длина нового словаря соответствует длине исходного словаря"
   ]
  },
  {
   "cell_type": "code",
   "execution_count": 35,
   "metadata": {},
   "outputs": [
    {
     "data": {
      "text/plain": [
       "47135"
      ]
     },
     "execution_count": 35,
     "metadata": {},
     "output_type": "execute_result"
    }
   ],
   "source": [
    "len(L_new_zero)"
   ]
  },
  {
   "cell_type": "markdown",
   "metadata": {},
   "source": [
    "### 1.4. Применим словарь и соберем новый dataset"
   ]
  },
  {
   "cell_type": "code",
   "execution_count": 41,
   "metadata": {},
   "outputs": [],
   "source": [
    "def short_dict(L): # в значениях словаря оставим только имя сайта, второе значение - частота вхождения\n",
    "    L_new = {}\n",
    "    for k, v in L.items():\n",
    "        L_new[k] = int(v[0])\n",
    "    return L_new"
   ]
  },
  {
   "cell_type": "code",
   "execution_count": 52,
   "metadata": {},
   "outputs": [],
   "source": [
    "L_12_short = short_dict(L_12)"
   ]
  },
  {
   "cell_type": "code",
   "execution_count": 43,
   "metadata": {},
   "outputs": [],
   "source": [
    "def apply_dict(data, dictionary):\n",
    "    train_test_new_names = data\n",
    "    for i in range (1, 11):\n",
    "        train_test_new_names['site'+str(i)] = data['site'+str(i)].map(dictionary)\n",
    "    return (train_test_new_names)"
   ]
  },
  {
   "cell_type": "code",
   "execution_count": 54,
   "metadata": {},
   "outputs": [],
   "source": [
    "X_init = pickle.load(open(os.path.join(PATH_TO_DATA, 'X_without_www.pkl'), 'rb')) # исходный dataset без www"
   ]
  },
  {
   "cell_type": "code",
   "execution_count": 55,
   "metadata": {},
   "outputs": [],
   "source": [
    "train_test_new_names = apply_dict(X_init, L_12_short)"
   ]
  },
  {
   "cell_type": "code",
   "execution_count": 56,
   "metadata": {},
   "outputs": [
    {
     "data": {
      "text/html": [
       "<div>\n",
       "<style scoped>\n",
       "    .dataframe tbody tr th:only-of-type {\n",
       "        vertical-align: middle;\n",
       "    }\n",
       "\n",
       "    .dataframe tbody tr th {\n",
       "        vertical-align: top;\n",
       "    }\n",
       "\n",
       "    .dataframe thead th {\n",
       "        text-align: right;\n",
       "    }\n",
       "</style>\n",
       "<table border=\"1\" class=\"dataframe\">\n",
       "  <thead>\n",
       "    <tr style=\"text-align: right;\">\n",
       "      <th></th>\n",
       "      <th>site1</th>\n",
       "      <th>site2</th>\n",
       "      <th>site3</th>\n",
       "      <th>site4</th>\n",
       "      <th>site5</th>\n",
       "      <th>site6</th>\n",
       "      <th>site7</th>\n",
       "      <th>site8</th>\n",
       "      <th>site9</th>\n",
       "      <th>site10</th>\n",
       "    </tr>\n",
       "    <tr>\n",
       "      <th>session_id</th>\n",
       "      <th></th>\n",
       "      <th></th>\n",
       "      <th></th>\n",
       "      <th></th>\n",
       "      <th></th>\n",
       "      <th></th>\n",
       "      <th></th>\n",
       "      <th></th>\n",
       "      <th></th>\n",
       "      <th></th>\n",
       "    </tr>\n",
       "  </thead>\n",
       "  <tbody>\n",
       "    <tr>\n",
       "      <th>1001</th>\n",
       "      <td>24</td>\n",
       "      <td>11</td>\n",
       "      <td>50</td>\n",
       "      <td>24</td>\n",
       "      <td>15</td>\n",
       "      <td>0</td>\n",
       "      <td>0</td>\n",
       "      <td>0</td>\n",
       "      <td>0</td>\n",
       "      <td>0</td>\n",
       "    </tr>\n",
       "    <tr>\n",
       "      <th>1002</th>\n",
       "      <td>8</td>\n",
       "      <td>8</td>\n",
       "      <td>8</td>\n",
       "      <td>8</td>\n",
       "      <td>8</td>\n",
       "      <td>8</td>\n",
       "      <td>8</td>\n",
       "      <td>80</td>\n",
       "      <td>6</td>\n",
       "      <td>80</td>\n",
       "    </tr>\n",
       "    <tr>\n",
       "      <th>1003</th>\n",
       "      <td>5434</td>\n",
       "      <td>2</td>\n",
       "      <td>1</td>\n",
       "      <td>4</td>\n",
       "      <td>15</td>\n",
       "      <td>29</td>\n",
       "      <td>13</td>\n",
       "      <td>0</td>\n",
       "      <td>0</td>\n",
       "      <td>0</td>\n",
       "    </tr>\n",
       "    <tr>\n",
       "      <th>1004</th>\n",
       "      <td>1</td>\n",
       "      <td>76</td>\n",
       "      <td>115</td>\n",
       "      <td>92</td>\n",
       "      <td>191</td>\n",
       "      <td>9</td>\n",
       "      <td>16</td>\n",
       "      <td>92</td>\n",
       "      <td>76</td>\n",
       "      <td>9</td>\n",
       "    </tr>\n",
       "    <tr>\n",
       "      <th>1005</th>\n",
       "      <td>40</td>\n",
       "      <td>20</td>\n",
       "      <td>581</td>\n",
       "      <td>221</td>\n",
       "      <td>5</td>\n",
       "      <td>2</td>\n",
       "      <td>341</td>\n",
       "      <td>158</td>\n",
       "      <td>5</td>\n",
       "      <td>749</td>\n",
       "    </tr>\n",
       "    <tr>\n",
       "      <th>1006</th>\n",
       "      <td>4480</td>\n",
       "      <td>4386</td>\n",
       "      <td>4386</td>\n",
       "      <td>4386</td>\n",
       "      <td>4386</td>\n",
       "      <td>4480</td>\n",
       "      <td>4386</td>\n",
       "      <td>4480</td>\n",
       "      <td>4386</td>\n",
       "      <td>4386</td>\n",
       "    </tr>\n",
       "    <tr>\n",
       "      <th>1007</th>\n",
       "      <td>99</td>\n",
       "      <td>42</td>\n",
       "      <td>526</td>\n",
       "      <td>0</td>\n",
       "      <td>0</td>\n",
       "      <td>0</td>\n",
       "      <td>0</td>\n",
       "      <td>0</td>\n",
       "      <td>0</td>\n",
       "      <td>0</td>\n",
       "    </tr>\n",
       "    <tr>\n",
       "      <th>1008</th>\n",
       "      <td>8</td>\n",
       "      <td>49</td>\n",
       "      <td>49</td>\n",
       "      <td>49</td>\n",
       "      <td>49</td>\n",
       "      <td>49</td>\n",
       "      <td>49</td>\n",
       "      <td>49</td>\n",
       "      <td>49</td>\n",
       "      <td>49</td>\n",
       "    </tr>\n",
       "    <tr>\n",
       "      <th>1009</th>\n",
       "      <td>65</td>\n",
       "      <td>142</td>\n",
       "      <td>471</td>\n",
       "      <td>142</td>\n",
       "      <td>127</td>\n",
       "      <td>178</td>\n",
       "      <td>64</td>\n",
       "      <td>110</td>\n",
       "      <td>119</td>\n",
       "      <td>127</td>\n",
       "    </tr>\n",
       "    <tr>\n",
       "      <th>1010</th>\n",
       "      <td>2</td>\n",
       "      <td>1</td>\n",
       "      <td>2</td>\n",
       "      <td>4</td>\n",
       "      <td>2</td>\n",
       "      <td>1</td>\n",
       "      <td>1</td>\n",
       "      <td>2278</td>\n",
       "      <td>0</td>\n",
       "      <td>990</td>\n",
       "    </tr>\n",
       "  </tbody>\n",
       "</table>\n",
       "</div>"
      ],
      "text/plain": [
       "            site1  site2  site3  site4  site5  site6  site7  site8  site9  \\\n",
       "session_id                                                                  \n",
       "1001           24     11     50     24     15      0      0      0      0   \n",
       "1002            8      8      8      8      8      8      8     80      6   \n",
       "1003         5434      2      1      4     15     29     13      0      0   \n",
       "1004            1     76    115     92    191      9     16     92     76   \n",
       "1005           40     20    581    221      5      2    341    158      5   \n",
       "1006         4480   4386   4386   4386   4386   4480   4386   4480   4386   \n",
       "1007           99     42    526      0      0      0      0      0      0   \n",
       "1008            8     49     49     49     49     49     49     49     49   \n",
       "1009           65    142    471    142    127    178     64    110    119   \n",
       "1010            2      1      2      4      2      1      1   2278      0   \n",
       "\n",
       "            site10  \n",
       "session_id          \n",
       "1001             0  \n",
       "1002            80  \n",
       "1003             0  \n",
       "1004             9  \n",
       "1005           749  \n",
       "1006          4386  \n",
       "1007             0  \n",
       "1008            49  \n",
       "1009           127  \n",
       "1010           990  "
      ]
     },
     "execution_count": 56,
     "metadata": {},
     "output_type": "execute_result"
    }
   ],
   "source": [
    "train_test_new_names[1000:1010]"
   ]
  },
  {
   "cell_type": "markdown",
   "metadata": {},
   "source": [
    "### 1.5. Посмотрим на результат с преобразованными данными о сайтах без лишних признаков"
   ]
  },
  {
   "cell_type": "code",
   "execution_count": 59,
   "metadata": {},
   "outputs": [],
   "source": [
    "train_test_sparse = to_sparse_matrix(train_test_new_names, L_12_short)\n",
    "X_train_sparse = train_test_sparse[:train_df.shape[0]]\n",
    "X_test_sparse = train_test_sparse[train_df.shape[0]:]"
   ]
  },
  {
   "cell_type": "code",
   "execution_count": 60,
   "metadata": {},
   "outputs": [
    {
     "name": "stdout",
     "output_type": "stream",
     "text": [
      "ROC AUC score:  0.9363\n"
     ]
    }
   ],
   "source": [
    "score = cross_val_score(estimator=sgd_logit, X=X_train_sparse, y=y, cv=skf, scoring='roc_auc').mean()\n",
    "print('ROC AUC score: ', round(score, 4))"
   ]
  },
  {
   "cell_type": "code",
   "execution_count": 119,
   "metadata": {},
   "outputs": [
    {
     "data": {
      "text/plain": [
       "SGDClassifier(alpha=0.0001, average=False, class_weight=None,\n",
       "       early_stopping=False, epsilon=0.1, eta0=0.0, fit_intercept=True,\n",
       "       l1_ratio=0.15, learning_rate='optimal', loss='log', max_iter=None,\n",
       "       n_iter=None, n_iter_no_change=5, n_jobs=-1, penalty='l2',\n",
       "       power_t=0.5, random_state=17, shuffle=True, tol=None,\n",
       "       validation_fraction=0.1, verbose=0, warm_start=False)"
      ]
     },
     "execution_count": 119,
     "metadata": {},
     "output_type": "execute_result"
    }
   ],
   "source": [
    "sgd_logit.fit(X_train_sparse, y)"
   ]
  },
  {
   "cell_type": "code",
   "execution_count": 121,
   "metadata": {},
   "outputs": [],
   "source": [
    "logit_test_pred_proba2 = sgd_logit.predict_proba(X_test_sparse)"
   ]
  },
  {
   "cell_type": "code",
   "execution_count": 124,
   "metadata": {},
   "outputs": [],
   "source": [
    "write_to_submission_file(logit_test_pred_proba2[:,1], 'Alice4')"
   ]
  },
  {
   "cell_type": "markdown",
   "metadata": {},
   "source": [
    "#### Качество на лидерборде - 0.91253. Очевидно, что качество улучшилось и данный подход оправдан "
   ]
  },
  {
   "cell_type": "markdown",
   "metadata": {},
   "source": [
    "### 1.6. Посмотрим, от какого количества признаков лучше избавиться"
   ]
  },
  {
   "cell_type": "markdown",
   "metadata": {},
   "source": [
    "#### Будем избавляться о разного количества признаков, и посмотрим, после какого количества, качество начнет уменьшаться"
   ]
  },
  {
   "cell_type": "code",
   "execution_count": 38,
   "metadata": {},
   "outputs": [],
   "source": [
    "def dict_without_n_lb(L, n): # в значениях словаря сайтам, которые встречаются n раз поставим имя 0\n",
    "    L_new = {}\n",
    "    for k, v in L.items():\n",
    "        if v[1] > n:\n",
    "            L_new[k] = v\n",
    "        else:\n",
    "            L_new[k] = [0, v[1]]\n",
    "    return L_new"
   ]
  },
  {
   "cell_type": "code",
   "execution_count": 60,
   "metadata": {},
   "outputs": [],
   "source": [
    "def feats_extract (list_n, func_dict): # функция применяет словарь с уменьшенным количеством сайтов и \n",
    "    scores = []\n",
    "    scores_valid = []\n",
    "    for n in list_n:\n",
    "        L_new_zero = pickle.load(open(os.path.join(PATH_TO_DATA, 'L_new_zero.pkl'), 'rb')) # исходный словарь\n",
    "        L_n = func_dict(L_new_zero, n)\n",
    "        L_n_short = short_dict(L_n)\n",
    "        X_init = pickle.load(open(os.path.join(PATH_TO_DATA, 'X_without_www.pkl'), 'rb')) # исходный database без www.\n",
    "        train_test_new_names = apply_dict(X_init, L_n_short)\n",
    "        train_test_sparse = to_sparse_matrix(train_test_new_names, L_n_short)\n",
    "        X_train_sparse = train_test_sparse[:train_df.shape[0]]\n",
    "        #X_test_sparse = train_test_sparse[train_df.shape[0]:]\n",
    "        score = cross_val_score(estimator=sgd_logit, X=X_train_sparse, y=y, cv=skf, scoring='roc_auc').mean()\n",
    "        scores.append(round(score, 4))\n",
    "        train_share = int(.7 * X_train_sparse.shape[0])\n",
    "        X_train, y_train = X_train_sparse[:train_share, :], y[:train_share]\n",
    "        X_valid, y_valid  = X_train_sparse[train_share:, :], y[train_share:]\n",
    "        sgd_logit.fit(X_train, y_train)\n",
    "        pred = sgd_logit.predict_proba(X_valid)\n",
    "        scores_valid.append(round(roc_auc_score(y_valid, pred[:, 1]), 3))\n",
    "    return scores, scores_valid"
   ]
  },
  {
   "cell_type": "code",
   "execution_count": 61,
   "metadata": {},
   "outputs": [],
   "source": [
    "list_n = [1, 2, 3, 4, 5, 6, 7, 8, 9, 10]\n",
    "scores, scores_valid = feats_extract(list_n, dict_without_n_lb)"
   ]
  },
  {
   "cell_type": "code",
   "execution_count": 62,
   "metadata": {},
   "outputs": [
    {
     "data": {
      "text/plain": [
       "<matplotlib.legend.Legend at 0xbe8ae9b860>"
      ]
     },
     "execution_count": 62,
     "metadata": {},
     "output_type": "execute_result"
    },
    {
     "data": {
      "image/png": "[encoded data removed]",
      "text/plain": [
       "<Figure size 432x288 with 1 Axes>"
      ]
     },
     "metadata": {
      "needs_background": "light"
     },
     "output_type": "display_data"
    }
   ],
   "source": [
    "plt.plot(list_n, scores, label='train_score')\n",
    "plt.plot(list_n, scores_valid, label='valid_score')\n",
    "plt.xlabel(xlabel = 'Number dropout features')\n",
    "plt.ylabel(ylabel = 'Score')\n",
    "plt.legend()"
   ]
  },
  {
   "cell_type": "code",
   "execution_count": 52,
   "metadata": {},
   "outputs": [
    {
     "data": {
      "text/plain": [
       "27470"
      ]
     },
     "execution_count": 52,
     "metadata": {},
     "output_type": "execute_result"
    }
   ],
   "source": [
    "k = 0 # подсчитаем количество сайтов, которые встретились только 1, 2 или 3 раза\n",
    "for i in range (0, len(L_new_zero)):\n",
    "    if list(L_new_zero.items())[i][1][1] < 4:\n",
    "        k+=1\n",
    "        \n",
    "k"
   ]
  },
  {
   "cell_type": "markdown",
   "metadata": {},
   "source": [
    "#### Вывод: на графике точка 5 - переломный момент, после которого качество модели начинает ухудшаться. Т.е. без потери качества мы можем избавиться от сайтов, которые встречаются 1, 2 или 3 раза и это позволит сократить пространство признаков на 27470 шт. в сравнении с исходной моделью."
   ]
  },
  {
   "cell_type": "markdown",
   "metadata": {},
   "source": [
    "### 1.7. Проверим качество на лидерборде, после того как избавимся от сайтов, которые встречаются 1,2 или 3 раза"
   ]
  },
  {
   "cell_type": "code",
   "execution_count": 77,
   "metadata": {},
   "outputs": [],
   "source": [
    "def apply_boundaries(dict_n, n):\n",
    "    L_new_zero = pickle.load(open(os.path.join(PATH_TO_DATA, 'L_new_zero.pkl'), 'rb')) # исходный словарь\n",
    "    L_n = dict_n(L_new_zero, n)\n",
    "    L_n_short = short_dict(L_n)\n",
    "    X_init = pickle.load(open(os.path.join(PATH_TO_DATA, 'X_without_www.pkl'), 'rb')) # исходный словарь\n",
    "    train_test_new_names = apply_dict(X_init, L_n_short)\n",
    "    train_test_sparse = to_sparse_matrix(train_test_new_names, L_n_short)\n",
    "    X_train_sparse = train_test_sparse[:train_df.shape[0]]\n",
    "    X_test_sparse = train_test_sparse[train_df.shape[0]:]\n",
    "    score = cross_val_score(estimator=sgd_logit, X=X_train_sparse, y=y, cv=skf, scoring='roc_auc').mean()\n",
    "    sgd_logit.fit(X_train_sparse, y)\n",
    "    logit_test_pred_proba = sgd_logit.predict_proba(X_test_sparse)\n",
    "    return (round(score, 4), logit_test_pred_proba)"
   ]
  },
  {
   "cell_type": "code",
   "execution_count": 78,
   "metadata": {},
   "outputs": [],
   "source": [
    "score_lb, pred_lb = apply_boundaries(dict_without_n_lb, 4)"
   ]
  },
  {
   "cell_type": "code",
   "execution_count": 79,
   "metadata": {},
   "outputs": [
    {
     "data": {
      "text/plain": [
       "0.9359"
      ]
     },
     "execution_count": 79,
     "metadata": {},
     "output_type": "execute_result"
    }
   ],
   "source": [
    "score_lb"
   ]
  },
  {
   "cell_type": "code",
   "execution_count": 59,
   "metadata": {},
   "outputs": [],
   "source": [
    "write_to_submission_file(pred_lb[:,1], 'Alice6') # -4"
   ]
  },
  {
   "cell_type": "markdown",
   "metadata": {},
   "source": [
    "#### Качество на лидерборде - 0.91253. Предположение о том, что мы можем безболезненно избавиться от этих сайтов, подтвердилось"
   ]
  },
  {
   "cell_type": "markdown",
   "metadata": {},
   "source": [
    "### 1.8. Попробуем избавиться от сайтов, которые встречаются очень часто"
   ]
  },
  {
   "cell_type": "markdown",
   "metadata": {},
   "source": [
    "#### Посмотрим на частоты сайтов"
   ]
  },
  {
   "cell_type": "code",
   "execution_count": 59,
   "metadata": {},
   "outputs": [],
   "source": [
    "AA = []\n",
    "for i in range (0, len(L_12)):\n",
    "    AA.append(list(L_12.items())[i][1][1])"
   ]
  },
  {
   "cell_type": "code",
   "execution_count": 60,
   "metadata": {},
   "outputs": [
    {
     "data": {
      "text/plain": [
       "47135"
      ]
     },
     "execution_count": 60,
     "metadata": {},
     "output_type": "execute_result"
    }
   ],
   "source": [
    "len(AA)"
   ]
  },
  {
   "cell_type": "code",
   "execution_count": 70,
   "metadata": {},
   "outputs": [
    {
     "data": {
      "text/plain": [
       "168150"
      ]
     },
     "execution_count": 70,
     "metadata": {},
     "output_type": "execute_result"
    }
   ],
   "source": [
    "max(AA)"
   ]
  },
  {
   "cell_type": "code",
   "execution_count": 71,
   "metadata": {},
   "outputs": [
    {
     "data": {
      "text/plain": [
       "[168150,\n",
       " 162411,\n",
       " 112349,\n",
       " 108810,\n",
       " 75913,\n",
       " 73867,\n",
       " 64007,\n",
       " 61699,\n",
       " 51352,\n",
       " 46423,\n",
       " 45652,\n",
       " 45308,\n",
       " 38593,\n",
       " 35231,\n",
       " 33197,\n",
       " 32409,\n",
       " 31452,\n",
       " 30826,\n",
       " 29471,\n",
       " 27629,\n",
       " 25141,\n",
       " 23570,\n",
       " 22737,\n",
       " 22090,\n",
       " 20828,\n",
       " 19651,\n",
       " 18398,\n",
       " 17322,\n",
       " 16988,\n",
       " 16826,\n",
       " 16773,\n",
       " 14756,\n",
       " 14664,\n",
       " 13764,\n",
       " 13393,\n",
       " 13320,\n",
       " 13271,\n",
       " 12441,\n",
       " 12206,\n",
       " 11865,\n",
       " 11865,\n",
       " 11797,\n",
       " 11508,\n",
       " 11480,\n",
       " 11410,\n",
       " 11221,\n",
       " 11118,\n",
       " 11100,\n",
       " 11017,\n",
       " 11002,\n",
       " 10585,\n",
       " 10476,\n",
       " 10376,\n",
       " 10195,\n",
       " 10088,\n",
       " 9913,\n",
       " 9675,\n",
       " 9395,\n",
       " 8644,\n",
       " 8546,\n",
       " 8080,\n",
       " 8064,\n",
       " 8014,\n",
       " 7798,\n",
       " 7680,\n",
       " 7635,\n",
       " 7616,\n",
       " 7307,\n",
       " 7008,\n",
       " 6969,\n",
       " 6797,\n",
       " 6780,\n",
       " 6777,\n",
       " 6756,\n",
       " 6586,\n",
       " 6290,\n",
       " 6269,\n",
       " 6194,\n",
       " 6164,\n",
       " 6113,\n",
       " 6067,\n",
       " 6037,\n",
       " 6004,\n",
       " 5690,\n",
       " 5550,\n",
       " 5540,\n",
       " 5398,\n",
       " 5389,\n",
       " 5256,\n",
       " 5142,\n",
       " 5095,\n",
       " 5071,\n",
       " 5068,\n",
       " 5058,\n",
       " 4934,\n",
       " 4931,\n",
       " 4873,\n",
       " 4722,\n",
       " 4548,\n",
       " 4437,\n",
       " 4405,\n",
       " 4354,\n",
       " 4337,\n",
       " 4218,\n",
       " 4197,\n",
       " 4172,\n",
       " 4150,\n",
       " 4133,\n",
       " 4119,\n",
       " 4086,\n",
       " 4053,\n",
       " 4025,\n",
       " 4017,\n",
       " 4012,\n",
       " 4009,\n",
       " 3777,\n",
       " 3756,\n",
       " 3714,\n",
       " 3625,\n",
       " 3612,\n",
       " 3539,\n",
       " 3533,\n",
       " 3526,\n",
       " 3472,\n",
       " 3468,\n",
       " 3464,\n",
       " 3404,\n",
       " 3381,\n",
       " 3347,\n",
       " 3213,\n",
       " 3052,\n",
       " 2976,\n",
       " 2968,\n",
       " 2959,\n",
       " 2926,\n",
       " 2806,\n",
       " 2780,\n",
       " 2766,\n",
       " 2765,\n",
       " 2752,\n",
       " 2741,\n",
       " 2741,\n",
       " 2700,\n",
       " 2683,\n",
       " 2644,\n",
       " 2621,\n",
       " 2605,\n",
       " 2573,\n",
       " 2558,\n",
       " 2544,\n",
       " 2474,\n",
       " 2462,\n",
       " 2454,\n",
       " 2422,\n",
       " 2389,\n",
       " 2370,\n",
       " 2368,\n",
       " 2296,\n",
       " 2272,\n",
       " 2268,\n",
       " 2251,\n",
       " 2247,\n",
       " 2237,\n",
       " 2230,\n",
       " 2220,\n",
       " 2190,\n",
       " 2174,\n",
       " 2136,\n",
       " 2115,\n",
       " 2098,\n",
       " 2090,\n",
       " 2089,\n",
       " 2087,\n",
       " 2076,\n",
       " 2071,\n",
       " 2069,\n",
       " 2068,\n",
       " 2055,\n",
       " 2052,\n",
       " 2048,\n",
       " 2036,\n",
       " 2032,\n",
       " 2031,\n",
       " 2028,\n",
       " 2017,\n",
       " 2017,\n",
       " 2007,\n",
       " 1986,\n",
       " 1984,\n",
       " 1981,\n",
       " 1951,\n",
       " 1935,\n",
       " 1930,\n",
       " 1926,\n",
       " 1921,\n",
       " 1910,\n",
       " 1909,\n",
       " 1906,\n",
       " 1901,\n",
       " 1880,\n",
       " 1871,\n",
       " 1825,\n",
       " 1804,\n",
       " 1793,\n",
       " 1771,\n",
       " 1770,\n",
       " 1767,\n",
       " 1749,\n",
       " 1745,\n",
       " 1731,\n",
       " 1722,\n",
       " 1721,\n",
       " 1721,\n",
       " 1700,\n",
       " 1692,\n",
       " 1690,\n",
       " 1672,\n",
       " 1659,\n",
       " 1656,\n",
       " 1640,\n",
       " 1620,\n",
       " 1609,\n",
       " 1599,\n",
       " 1597,\n",
       " 1588,\n",
       " 1582,\n",
       " 1558,\n",
       " 1550,\n",
       " 1542,\n",
       " 1532,\n",
       " 1527,\n",
       " 1527,\n",
       " 1519,\n",
       " 1511,\n",
       " 1504,\n",
       " 1492,\n",
       " 1490,\n",
       " 1488,\n",
       " 1487,\n",
       " 1487,\n",
       " 1484,\n",
       " 1483,\n",
       " 1476,\n",
       " 1476,\n",
       " 1475,\n",
       " 1471,\n",
       " 1469,\n",
       " 1466,\n",
       " 1460,\n",
       " 1458,\n",
       " 1433,\n",
       " 1429,\n",
       " 1420,\n",
       " 1398,\n",
       " 1360,\n",
       " 1357,\n",
       " 1355,\n",
       " 1353,\n",
       " 1353,\n",
       " 1340,\n",
       " 1337,\n",
       " 1336,\n",
       " 1335,\n",
       " 1331,\n",
       " 1331,\n",
       " 1329,\n",
       " 1325,\n",
       " 1321,\n",
       " 1320,\n",
       " 1315,\n",
       " 1300,\n",
       " 1292,\n",
       " 1288,\n",
       " 1288,\n",
       " 1283,\n",
       " 1267,\n",
       " 1258,\n",
       " 1255,\n",
       " 1247,\n",
       " 1244,\n",
       " 1241,\n",
       " 1241,\n",
       " 1238,\n",
       " 1236,\n",
       " 1229,\n",
       " 1225,\n",
       " 1192,\n",
       " 1189,\n",
       " 1185,\n",
       " 1183,\n",
       " 1182,\n",
       " 1164,\n",
       " 1163,\n",
       " 1161,\n",
       " 1160,\n",
       " 1157,\n",
       " 1144,\n",
       " 1143,\n",
       " 1140,\n",
       " 1138,\n",
       " 1133,\n",
       " 1132,\n",
       " 1127,\n",
       " 1119,\n",
       " 1115,\n",
       " 1108,\n",
       " 1104,\n",
       " 1099,\n",
       " 1098,\n",
       " 1097,\n",
       " 1091,\n",
       " 1088,\n",
       " 1087,\n",
       " 1083,\n",
       " 1073,\n",
       " 1073,\n",
       " 1071,\n",
       " 1070,\n",
       " 1069,\n",
       " 1068,\n",
       " 1066,\n",
       " 1065,\n",
       " 1061,\n",
       " 1059,\n",
       " 1059,\n",
       " 1058,\n",
       " 1058,\n",
       " 1055,\n",
       " 1049,\n",
       " 1044,\n",
       " 1043,\n",
       " 1042,\n",
       " 1035,\n",
       " 1035,\n",
       " 1029,\n",
       " 1025,\n",
       " 1018,\n",
       " 1015,\n",
       " 1004,\n",
       " 1003,\n",
       " 1001,\n",
       " 1001,\n",
       " 992,\n",
       " 992,\n",
       " 981,\n",
       " 980,\n",
       " 978,\n",
       " 974,\n",
       " 966,\n",
       " 963,\n",
       " 961,\n",
       " 961,\n",
       " 954,\n",
       " 953,\n",
       " 953,\n",
       " 947,\n",
       " 946,\n",
       " 939,\n",
       " 938,\n",
       " 934,\n",
       " 928,\n",
       " 926,\n",
       " 923,\n",
       " 920,\n",
       " 920,\n",
       " 918,\n",
       " 915,\n",
       " 913,\n",
       " 913,\n",
       " 910,\n",
       " 909,\n",
       " 907,\n",
       " 903,\n",
       " 902,\n",
       " 900,\n",
       " 898,\n",
       " 897,\n",
       " 897,\n",
       " 894,\n",
       " 889,\n",
       " 889,\n",
       " 884,\n",
       " 884,\n",
       " 880,\n",
       " 873,\n",
       " 871,\n",
       " 868,\n",
       " 868,\n",
       " 863,\n",
       " 861,\n",
       " 861,\n",
       " 860,\n",
       " 858,\n",
       " 858,\n",
       " 855,\n",
       " 854,\n",
       " 854,\n",
       " 853,\n",
       " 853,\n",
       " 852,\n",
       " 846,\n",
       " 845,\n",
       " 843,\n",
       " 842,\n",
       " 838,\n",
       " 835,\n",
       " 833,\n",
       " 828,\n",
       " 825,\n",
       " 822,\n",
       " 821,\n",
       " 821,\n",
       " 820,\n",
       " 820,\n",
       " 818,\n",
       " 817,\n",
       " 817,\n",
       " 816,\n",
       " 815,\n",
       " 815,\n",
       " 810,\n",
       " 810,\n",
       " 805,\n",
       " 804,\n",
       " 797,\n",
       " 794,\n",
       " 793,\n",
       " 789,\n",
       " 786,\n",
       " 783,\n",
       " 781,\n",
       " 777,\n",
       " 770,\n",
       " 769,\n",
       " 768,\n",
       " 764,\n",
       " 764,\n",
       " 764,\n",
       " 759,\n",
       " 755,\n",
       " 751,\n",
       " 749,\n",
       " 749,\n",
       " 746,\n",
       " 745,\n",
       " 743,\n",
       " 742,\n",
       " 737,\n",
       " 734,\n",
       " 733,\n",
       " 731,\n",
       " 727,\n",
       " 720,\n",
       " 719,\n",
       " 719,\n",
       " 718,\n",
       " 716,\n",
       " 712,\n",
       " 711,\n",
       " 710,\n",
       " 707,\n",
       " 703,\n",
       " 703,\n",
       " 702,\n",
       " 702,\n",
       " 701,\n",
       " 700,\n",
       " 699,\n",
       " 699,\n",
       " 697,\n",
       " 697,\n",
       " 691,\n",
       " 689,\n",
       " 688,\n",
       " 686,\n",
       " 682,\n",
       " 680,\n",
       " 676,\n",
       " 675,\n",
       " 674,\n",
       " 671,\n",
       " 671,\n",
       " 671,\n",
       " 670,\n",
       " 670,\n",
       " 669,\n",
       " 669,\n",
       " 667,\n",
       " 664,\n",
       " 656,\n",
       " 654,\n",
       " 642,\n",
       " 639,\n",
       " 639,\n",
       " 638,\n",
       " 636,\n",
       " 636,\n",
       " 630,\n",
       " 629,\n",
       " 627,\n",
       " 626,\n",
       " 625,\n",
       " 625,\n",
       " 625,\n",
       " 625,\n",
       " 624,\n",
       " 622,\n",
       " 619,\n",
       " 617,\n",
       " 616,\n",
       " 613,\n",
       " 613,\n",
       " 611,\n",
       " 611,\n",
       " 607,\n",
       " 605,\n",
       " 601,\n",
       " 600,\n",
       " 598,\n",
       " 598,\n",
       " 598,\n",
       " 598,\n",
       " 595,\n",
       " 595,\n",
       " 592,\n",
       " 591,\n",
       " 591,\n",
       " 590,\n",
       " 588,\n",
       " 585,\n",
       " 585,\n",
       " 585,\n",
       " 584,\n",
       " 584,\n",
       " 583,\n",
       " 581,\n",
       " 580,\n",
       " 579,\n",
       " 576,\n",
       " 574,\n",
       " 573,\n",
       " 573,\n",
       " 572,\n",
       " 571,\n",
       " 569,\n",
       " 569,\n",
       " 569,\n",
       " 568,\n",
       " 568,\n",
       " 566,\n",
       " 565,\n",
       " 562,\n",
       " 560,\n",
       " 558,\n",
       " 557,\n",
       " 557,\n",
       " 557,\n",
       " 552,\n",
       " 548,\n",
       " 546,\n",
       " 545,\n",
       " 544,\n",
       " 542,\n",
       " 540,\n",
       " 539,\n",
       " 538,\n",
       " 537,\n",
       " 537,\n",
       " 536,\n",
       " 536,\n",
       " 533,\n",
       " 531,\n",
       " 530,\n",
       " 529,\n",
       " 528,\n",
       " 527,\n",
       " 524,\n",
       " 524,\n",
       " 524,\n",
       " 523,\n",
       " 522,\n",
       " 520,\n",
       " 518,\n",
       " 517,\n",
       " 514,\n",
       " 512,\n",
       " 512,\n",
       " 511,\n",
       " 511,\n",
       " 510,\n",
       " 509,\n",
       " 507,\n",
       " 507,\n",
       " 506,\n",
       " 506,\n",
       " 506,\n",
       " 504,\n",
       " 502,\n",
       " 502,\n",
       " 499,\n",
       " 499,\n",
       " 499,\n",
       " 499,\n",
       " 498,\n",
       " 498,\n",
       " 495,\n",
       " 493,\n",
       " 493,\n",
       " 492,\n",
       " 490,\n",
       " 489,\n",
       " 489,\n",
       " 488,\n",
       " 487,\n",
       " 487,\n",
       " 486,\n",
       " 486,\n",
       " 483,\n",
       " 483,\n",
       " 482,\n",
       " 479,\n",
       " 478,\n",
       " 478,\n",
       " 477,\n",
       " 477,\n",
       " 476,\n",
       " 475,\n",
       " 474,\n",
       " 474,\n",
       " 472,\n",
       " 471,\n",
       " 470,\n",
       " 470,\n",
       " 469,\n",
       " 469,\n",
       " 468,\n",
       " 468,\n",
       " 464,\n",
       " 463,\n",
       " 462,\n",
       " 461,\n",
       " 461,\n",
       " 460,\n",
       " 460,\n",
       " 459,\n",
       " 454,\n",
       " 454,\n",
       " 453,\n",
       " 451,\n",
       " 450,\n",
       " 450,\n",
       " 449,\n",
       " 449,\n",
       " 448,\n",
       " 448,\n",
       " 447,\n",
       " 447,\n",
       " 446,\n",
       " 446,\n",
       " 446,\n",
       " 442,\n",
       " 442,\n",
       " 441,\n",
       " 441,\n",
       " 441,\n",
       " 440,\n",
       " 439,\n",
       " 439,\n",
       " 439,\n",
       " 439,\n",
       " 438,\n",
       " 438,\n",
       " 437,\n",
       " 435,\n",
       " 433,\n",
       " 433,\n",
       " 432,\n",
       " 431,\n",
       " 430,\n",
       " 429,\n",
       " 429,\n",
       " 429,\n",
       " 429,\n",
       " 428,\n",
       " 428,\n",
       " 426,\n",
       " 424,\n",
       " 424,\n",
       " 423,\n",
       " 421,\n",
       " 420,\n",
       " 419,\n",
       " 419,\n",
       " 419,\n",
       " 419,\n",
       " 418,\n",
       " 418,\n",
       " 417,\n",
       " 414,\n",
       " 413,\n",
       " 413,\n",
       " 413,\n",
       " 413,\n",
       " 411,\n",
       " 411,\n",
       " 410,\n",
       " 410,\n",
       " 409,\n",
       " 408,\n",
       " 408,\n",
       " 408,\n",
       " 407,\n",
       " 407,\n",
       " 405,\n",
       " 405,\n",
       " 405,\n",
       " 404,\n",
       " 401,\n",
       " 401,\n",
       " 401,\n",
       " 401,\n",
       " 400,\n",
       " 394,\n",
       " 394,\n",
       " 393,\n",
       " 392,\n",
       " 392,\n",
       " 391,\n",
       " 390,\n",
       " 389,\n",
       " 389,\n",
       " 389,\n",
       " 388,\n",
       " 387,\n",
       " 387,\n",
       " 387,\n",
       " 385,\n",
       " 385,\n",
       " 384,\n",
       " 384,\n",
       " 384,\n",
       " 382,\n",
       " 381,\n",
       " 380,\n",
       " 379,\n",
       " 379,\n",
       " 379,\n",
       " 379,\n",
       " 378,\n",
       " 378,\n",
       " 377,\n",
       " 376,\n",
       " 376,\n",
       " 375,\n",
       " 375,\n",
       " 374,\n",
       " 374,\n",
       " 373,\n",
       " 372,\n",
       " 371,\n",
       " 370,\n",
       " 370,\n",
       " 369,\n",
       " 368,\n",
       " 367,\n",
       " 367,\n",
       " 366,\n",
       " 366,\n",
       " 366,\n",
       " 365,\n",
       " 365,\n",
       " 364,\n",
       " 363,\n",
       " 363,\n",
       " 361,\n",
       " 360,\n",
       " 359,\n",
       " 359,\n",
       " 358,\n",
       " 357,\n",
       " 356,\n",
       " 356,\n",
       " 356,\n",
       " 355,\n",
       " 355,\n",
       " 354,\n",
       " 354,\n",
       " 353,\n",
       " 353,\n",
       " 352,\n",
       " 352,\n",
       " 352,\n",
       " 351,\n",
       " 351,\n",
       " 349,\n",
       " 347,\n",
       " 347,\n",
       " 346,\n",
       " 346,\n",
       " 346,\n",
       " 345,\n",
       " 345,\n",
       " 343,\n",
       " 343,\n",
       " 342,\n",
       " 342,\n",
       " 341,\n",
       " 341,\n",
       " 340,\n",
       " 340,\n",
       " 340,\n",
       " 338,\n",
       " 338,\n",
       " 338,\n",
       " 338,\n",
       " 338,\n",
       " 337,\n",
       " 337,\n",
       " 337,\n",
       " 337,\n",
       " 337,\n",
       " 336,\n",
       " 336,\n",
       " 335,\n",
       " 334,\n",
       " 334,\n",
       " 334,\n",
       " 334,\n",
       " 333,\n",
       " 330,\n",
       " 330,\n",
       " 328,\n",
       " 328,\n",
       " 328,\n",
       " 327,\n",
       " 327,\n",
       " 327,\n",
       " 326,\n",
       " 326,\n",
       " 325,\n",
       " 325,\n",
       " 324,\n",
       " 324,\n",
       " 324,\n",
       " 323,\n",
       " 323,\n",
       " 323,\n",
       " 323,\n",
       " 322,\n",
       " 322,\n",
       " 321,\n",
       " 320,\n",
       " 320,\n",
       " 319,\n",
       " 318,\n",
       " 317,\n",
       " 316,\n",
       " 315,\n",
       " 315,\n",
       " 314,\n",
       " 314,\n",
       " 313,\n",
       " 312,\n",
       " 312,\n",
       " 310,\n",
       " 310,\n",
       " 310,\n",
       " 309,\n",
       " 308,\n",
       " 308,\n",
       " 307,\n",
       " 307,\n",
       " 307,\n",
       " 307,\n",
       " 306,\n",
       " 306,\n",
       " 306,\n",
       " 306,\n",
       " 305,\n",
       " 305,\n",
       " 305,\n",
       " 304,\n",
       " 304,\n",
       " 304,\n",
       " 303,\n",
       " 303,\n",
       " 303,\n",
       " 302,\n",
       " 301,\n",
       " 300,\n",
       " 299,\n",
       " 299,\n",
       " 298,\n",
       " 297,\n",
       " 297,\n",
       " 297,\n",
       " 296,\n",
       " 296,\n",
       " 296,\n",
       " 295,\n",
       " 295,\n",
       " 295,\n",
       " 295,\n",
       " 294,\n",
       " 294,\n",
       " 294,\n",
       " 293,\n",
       " 291,\n",
       " 291,\n",
       " 291,\n",
       " 290,\n",
       " 290,\n",
       " 290,\n",
       " 290,\n",
       " 289,\n",
       " 288,\n",
       " 288,\n",
       " 288,\n",
       " 287,\n",
       " 287,\n",
       " 287,\n",
       " 287,\n",
       " 287,\n",
       " 287,\n",
       " 286,\n",
       " 286,\n",
       " 285,\n",
       " 284,\n",
       " 284,\n",
       " 283,\n",
       " 282,\n",
       " 282,\n",
       " 282,\n",
       " 282,\n",
       " 282,\n",
       " 282,\n",
       " 281,\n",
       " 281,\n",
       " 280,\n",
       " 279,\n",
       " 279,\n",
       " 279,\n",
       " 279,\n",
       " 277,\n",
       " 277,\n",
       " 277,\n",
       " 277,\n",
       " 276,\n",
       " 276,\n",
       " 276,\n",
       " 275,\n",
       " 275,\n",
       " 275,\n",
       " 274,\n",
       " 274,\n",
       " 274,\n",
       " 273,\n",
       " 273,\n",
       " 273,\n",
       " 273,\n",
       " 273,\n",
       " 273,\n",
       " 273,\n",
       " 272,\n",
       " 271,\n",
       " 271,\n",
       " 270,\n",
       " 270,\n",
       " 269,\n",
       " 269,\n",
       " 269,\n",
       " 268,\n",
       " 268,\n",
       " 267,\n",
       " 267,\n",
       " 267,\n",
       " 266,\n",
       " 266,\n",
       " 266,\n",
       " 265,\n",
       " 265,\n",
       " 265,\n",
       " 265,\n",
       " 264,\n",
       " 263,\n",
       " 262,\n",
       " 262,\n",
       " 262,\n",
       " 261,\n",
       " 261,\n",
       " 261,\n",
       " 260,\n",
       " 260,\n",
       " 260,\n",
       " 260,\n",
       " 260,\n",
       " 260,\n",
       " 259,\n",
       " 258,\n",
       " 258,\n",
       " ...]"
      ]
     },
     "execution_count": 71,
     "metadata": {},
     "output_type": "execute_result"
    }
   ],
   "source": [
    "AA # Отсортированный список с частотами сайтов"
   ]
  },
  {
   "cell_type": "code",
   "execution_count": 64,
   "metadata": {},
   "outputs": [],
   "source": [
    "def dict_without_n_ub(L, n): # в значениях словаря уберем сайты, которые встречаются больше, чем n раз\n",
    "    L_new = {}\n",
    "    for k, v in L.items():\n",
    "        if v[1] < n:\n",
    "            L_new[k] = v\n",
    "        else:\n",
    "            L_new[k] = [0, v[1]]\n",
    "    return L_new"
   ]
  },
  {
   "cell_type": "code",
   "execution_count": 72,
   "metadata": {},
   "outputs": [],
   "source": [
    "list_n_ub = [200000, 100000, 90000, 80000, 70000, 60000, 50000]\n",
    "scores_ub, scores_valid_ub = feats_extract (list_n_ub, dict_without_n_ub)"
   ]
  },
  {
   "cell_type": "code",
   "execution_count": 73,
   "metadata": {},
   "outputs": [
    {
     "data": {
      "text/plain": [
       "<matplotlib.legend.Legend at 0xbe87fdf588>"
      ]
     },
     "execution_count": 73,
     "metadata": {},
     "output_type": "execute_result"
    },
    {
     "data": {
      "image/png": "[encoded data removed]",
      "text/plain": [
       "<Figure size 432x288 with 1 Axes>"
      ]
     },
     "metadata": {
      "needs_background": "light"
     },
     "output_type": "display_data"
    }
   ],
   "source": [
    "plt.plot(list_n_ub, scores_ub, label='train_score')\n",
    "plt.plot(list_n_ub, scores_valid_ub, label='valid_score')\n",
    "plt.xlabel(xlabel = 'Number dropout features')\n",
    "plt.ylabel(ylabel = 'Score')\n",
    "plt.legend()"
   ]
  },
  {
   "cell_type": "code",
   "execution_count": 74,
   "metadata": {},
   "outputs": [
    {
     "data": {
      "text/plain": [
       "[0.9363, 0.9414, 0.9414, 0.9414, 0.942, 0.9414, 0.9408]"
      ]
     },
     "execution_count": 74,
     "metadata": {},
     "output_type": "execute_result"
    }
   ],
   "source": [
    "scores_ub"
   ]
  },
  {
   "cell_type": "code",
   "execution_count": 83,
   "metadata": {},
   "outputs": [
    {
     "data": {
      "text/plain": [
       "array([0.0023, 0.0044, 0.0044, 0.0044, 0.004 , 0.0034, 0.0038])"
      ]
     },
     "execution_count": 83,
     "metadata": {},
     "output_type": "execute_result"
    }
   ],
   "source": [
    "np.array(scores_ub) - np.array(scores_valid_ub)"
   ]
  },
  {
   "cell_type": "markdown",
   "metadata": {},
   "source": [
    "#### Очевидно, что при ограничении частоты сайтов сверху качество модели будет ухудшаться, т.к. разница ROC AUC на обучении и валидации увеличивается. Проверим оценку на лидерборде"
   ]
  },
  {
   "cell_type": "code",
   "execution_count": 80,
   "metadata": {},
   "outputs": [],
   "source": [
    "score_ub, pred_ub = apply_boundaries(dict_without_n_ub, 100000)"
   ]
  },
  {
   "cell_type": "code",
   "execution_count": 81,
   "metadata": {},
   "outputs": [
    {
     "data": {
      "text/plain": [
       "0.9414"
      ]
     },
     "execution_count": 81,
     "metadata": {},
     "output_type": "execute_result"
    }
   ],
   "source": [
    "score_ub"
   ]
  },
  {
   "cell_type": "code",
   "execution_count": 82,
   "metadata": {},
   "outputs": [],
   "source": [
    "write_to_submission_file(pred_ub[:,1], 'Alice8') # -100000"
   ]
  },
  {
   "cell_type": "markdown",
   "metadata": {},
   "source": [
    "#### Качество на лидерборде - 0.90819. Качество действительно падает при ограничении частоты сайтов сверху"
   ]
  },
  {
   "cell_type": "markdown",
   "metadata": {},
   "source": [
    "### На дынный момент окончательный вариант - ограничение частоты посещения сайтов снизу на уровне 4. Сохраним этот dataFrame"
   ]
  },
  {
   "cell_type": "code",
   "execution_count": 175,
   "metadata": {},
   "outputs": [],
   "source": [
    "L_new_zero = pickle.load(open(os.path.join(PATH_TO_DATA, 'L_new_zero.pkl'), 'rb')) # исходный словарь\n",
    "L_n = dict_without_n_lb(L_new_zero, 4)\n",
    "L_n_short = short_dict(L_n)\n",
    "X_init = pickle.load(open(os.path.join(PATH_TO_DATA, 'X_without_www.pkl'), 'rb')) # исходный словарь\n",
    "train_test_new_names = apply_dict(X_init, L_n_short)\n",
    "train_test_sparse = to_sparse_matrix(train_test_new_names, L_n_short)\n",
    "X_train_sparse = train_test_sparse[:train_df.shape[0]]\n",
    "X_test_sparse = train_test_sparse[train_df.shape[0]:]"
   ]
  },
  {
   "cell_type": "code",
   "execution_count": 176,
   "metadata": {},
   "outputs": [],
   "source": [
    "with open(os.path.join(PATH_TO_DATA, 'train_test_new_names4.pkl'), 'wb') as train_test_new_names4_pkl:\n",
    "    pickle.dump(train_test_new_names, train_test_new_names4_pkl, protocol=2)\n",
    "with open(os.path.join(PATH_TO_DATA, 'X_train_sparse4.pkl'), 'wb') as X_train_sparse4_pkl:\n",
    "    pickle.dump(X_train_sparse, X_train_sparse4_pkl, protocol=2)\n",
    "with open(os.path.join(PATH_TO_DATA, 'X_test_sparse4.pkl'), 'wb') as X_test_sparse4_pkl:\n",
    "    pickle.dump(X_test_sparse, X_test_sparse4_pkl, protocol=2)"
   ]
  },
  {
   "cell_type": "markdown",
   "metadata": {},
   "source": [
    "### 1.9. Попробуем CountVectirizer b TFIDFVectorizer с разным количеством n-грамм"
   ]
  },
  {
   "cell_type": "code",
   "execution_count": 128,
   "metadata": {},
   "outputs": [],
   "source": [
    "train_test_new_names = pickle.load(open(os.path.join(PATH_TO_DATA, 'train_test_new_names4.pkl'), 'rb'))"
   ]
  },
  {
   "cell_type": "code",
   "execution_count": 93,
   "metadata": {},
   "outputs": [],
   "source": [
    "def join_columns(data):    # соединим все столбы через запятую, чтобы использовать vctorizer\n",
    "    data = pd.DataFrame(data, dtype = str)\n",
    "    combined = (data['site' + str(1)] + ',')\n",
    "    for i in range (2, 11):\n",
    "        combined += (data['site' + str(i)] + ',')\n",
    "    return combined"
   ]
  },
  {
   "cell_type": "code",
   "execution_count": 65,
   "metadata": {},
   "outputs": [
    {
     "data": {
      "text/html": [
       "<div>\n",
       "<style scoped>\n",
       "    .dataframe tbody tr th:only-of-type {\n",
       "        vertical-align: middle;\n",
       "    }\n",
       "\n",
       "    .dataframe tbody tr th {\n",
       "        vertical-align: top;\n",
       "    }\n",
       "\n",
       "    .dataframe thead th {\n",
       "        text-align: right;\n",
       "    }\n",
       "</style>\n",
       "<table border=\"1\" class=\"dataframe\">\n",
       "  <thead>\n",
       "    <tr style=\"text-align: right;\">\n",
       "      <th></th>\n",
       "      <th>site1</th>\n",
       "      <th>site2</th>\n",
       "      <th>site3</th>\n",
       "      <th>site4</th>\n",
       "      <th>site5</th>\n",
       "      <th>site6</th>\n",
       "      <th>site7</th>\n",
       "      <th>site8</th>\n",
       "      <th>site9</th>\n",
       "      <th>site10</th>\n",
       "    </tr>\n",
       "  </thead>\n",
       "  <tbody>\n",
       "    <tr>\n",
       "      <th>0</th>\n",
       "      <td>583</td>\n",
       "      <td>0</td>\n",
       "      <td>0</td>\n",
       "      <td>0</td>\n",
       "      <td>0</td>\n",
       "      <td>0</td>\n",
       "      <td>0</td>\n",
       "      <td>0</td>\n",
       "      <td>0</td>\n",
       "      <td>0</td>\n",
       "    </tr>\n",
       "    <tr>\n",
       "      <th>1</th>\n",
       "      <td>154</td>\n",
       "      <td>36</td>\n",
       "      <td>169</td>\n",
       "      <td>36</td>\n",
       "      <td>43</td>\n",
       "      <td>187</td>\n",
       "      <td>169</td>\n",
       "      <td>187</td>\n",
       "      <td>239</td>\n",
       "      <td>243</td>\n",
       "    </tr>\n",
       "    <tr>\n",
       "      <th>2</th>\n",
       "      <td>364</td>\n",
       "      <td>15</td>\n",
       "      <td>188</td>\n",
       "      <td>364</td>\n",
       "      <td>17</td>\n",
       "      <td>15</td>\n",
       "      <td>188</td>\n",
       "      <td>188</td>\n",
       "      <td>188</td>\n",
       "      <td>188</td>\n",
       "    </tr>\n",
       "    <tr>\n",
       "      <th>3</th>\n",
       "      <td>3</td>\n",
       "      <td>3</td>\n",
       "      <td>3</td>\n",
       "      <td>3</td>\n",
       "      <td>3</td>\n",
       "      <td>3</td>\n",
       "      <td>3</td>\n",
       "      <td>3</td>\n",
       "      <td>3</td>\n",
       "      <td>3</td>\n",
       "    </tr>\n",
       "    <tr>\n",
       "      <th>4</th>\n",
       "      <td>4</td>\n",
       "      <td>33</td>\n",
       "      <td>32</td>\n",
       "      <td>53</td>\n",
       "      <td>33</td>\n",
       "      <td>53</td>\n",
       "      <td>32</td>\n",
       "      <td>33</td>\n",
       "      <td>33</td>\n",
       "      <td>53</td>\n",
       "    </tr>\n",
       "  </tbody>\n",
       "</table>\n",
       "</div>"
      ],
      "text/plain": [
       "   site1  site2  site3  site4  site5  site6  site7  site8  site9  site10\n",
       "0    583      0      0      0      0      0      0      0      0       0\n",
       "1    154     36    169     36     43    187    169    187    239     243\n",
       "2    364     15    188    364     17     15    188    188    188     188\n",
       "3      3      3      3      3      3      3      3      3      3       3\n",
       "4      4     33     32     53     33     53     32     33     33      53"
      ]
     },
     "execution_count": 65,
     "metadata": {},
     "output_type": "execute_result"
    }
   ],
   "source": [
    "train_test_new_names = train_test_new_names.reset_index(drop = True)\n",
    "train_test_new_names.head()"
   ]
  },
  {
   "cell_type": "code",
   "execution_count": 114,
   "metadata": {},
   "outputs": [],
   "source": [
    "combo_train = join_columns(train_test_new_names[:train_df.shape[0]])\n",
    "#combo_valid = join_columns(train_test_new_names[train_share:train_df.shape[0]])\n",
    "combo_test = join_columns(train_test_new_names[train_df.shape[0]:])"
   ]
  },
  {
   "cell_type": "code",
   "execution_count": 98,
   "metadata": {},
   "outputs": [],
   "source": [
    "def Tf_IdfVector(train):\n",
    "    columns = []\n",
    "    score = []\n",
    "    for i in ((1, 1), (1, 2), (1, 3), (1, 4)):\n",
    "        TF = TfidfVectorizer(ngram_range= i)\n",
    "        X = TF.fit_transform(train)\n",
    "        #V = TF.transform(valid)\n",
    "        #model = SGDClassifier(loss = 'log', random_state=17, n_jobs=-1).fit(X, y)\n",
    "        #pred = model.predict_proba(V)\n",
    "        score.append(round(cross_val_score(estimator=sgd_logit, X=X, y=y, cv=skf, scoring='roc_auc').mean(), 3))\n",
    "        columns.append('n_gram = ' + str(i))\n",
    "    frame = pd.DataFrame(data = np.array([score]), columns = columns)\n",
    "    return frame"
   ]
  },
  {
   "cell_type": "code",
   "execution_count": 99,
   "metadata": {},
   "outputs": [],
   "source": [
    "table_TF = Tf_IdfVector(combo_train)"
   ]
  },
  {
   "cell_type": "code",
   "execution_count": 100,
   "metadata": {},
   "outputs": [
    {
     "data": {
      "text/html": [
       "<div>\n",
       "<style scoped>\n",
       "    .dataframe tbody tr th:only-of-type {\n",
       "        vertical-align: middle;\n",
       "    }\n",
       "\n",
       "    .dataframe tbody tr th {\n",
       "        vertical-align: top;\n",
       "    }\n",
       "\n",
       "    .dataframe thead th {\n",
       "        text-align: right;\n",
       "    }\n",
       "</style>\n",
       "<table border=\"1\" class=\"dataframe\">\n",
       "  <thead>\n",
       "    <tr style=\"text-align: right;\">\n",
       "      <th></th>\n",
       "      <th>n_gram = (1, 1)</th>\n",
       "      <th>n_gram = (1, 2)</th>\n",
       "      <th>n_gram = (1, 3)</th>\n",
       "      <th>n_gram = (1, 4)</th>\n",
       "    </tr>\n",
       "  </thead>\n",
       "  <tbody>\n",
       "    <tr>\n",
       "      <th>0</th>\n",
       "      <td>0.915</td>\n",
       "      <td>0.912</td>\n",
       "      <td>0.91</td>\n",
       "      <td>0.908</td>\n",
       "    </tr>\n",
       "  </tbody>\n",
       "</table>\n",
       "</div>"
      ],
      "text/plain": [
       "   n_gram = (1, 1)  n_gram = (1, 2)  n_gram = (1, 3)  n_gram = (1, 4)\n",
       "0            0.915            0.912             0.91            0.908"
      ]
     },
     "execution_count": 100,
     "metadata": {},
     "output_type": "execute_result"
    }
   ],
   "source": [
    "table_TF # качество на обучении при использовании TfidfVectorizer"
   ]
  },
  {
   "cell_type": "markdown",
   "metadata": {},
   "source": [
    "#### Вывод - оценка ROC AUC при использовании TfidfVectorizer значительно ниже, чем при использовании первоначальной кодировки по частотам вхождения"
   ]
  },
  {
   "cell_type": "markdown",
   "metadata": {},
   "source": [
    "#### Теперь попробуем CountVectorizer, здесь еще посмотрим на качество модели на валидации"
   ]
  },
  {
   "cell_type": "code",
   "execution_count": 110,
   "metadata": {},
   "outputs": [],
   "source": [
    "combo_train2 = join_columns(train_test_new_names[:train_share])\n",
    "combo_valid = join_columns(train_test_new_names[train_share:train_df.shape[0]])\n",
    "combo_test = join_columns(train_test_new_names[train_df.shape[0]:])"
   ]
  },
  {
   "cell_type": "code",
   "execution_count": 105,
   "metadata": {},
   "outputs": [],
   "source": [
    "def countVector(train, valid):\n",
    "    columns = []\n",
    "    score = []\n",
    "    score_v = []\n",
    "    for i in ((1, 1), (1, 2), (1, 3), (1, 4)):\n",
    "        countV = CountVectorizer(ngram_range= i)\n",
    "        X = countV.fit_transform(train)\n",
    "        V = countV.transform(valid)\n",
    "        model = SGDClassifier(loss = 'log', random_state=17, n_jobs=-1).fit(X, y_train)\n",
    "        pred = model.predict_proba(V)\n",
    "        score.append(round(cross_val_score(estimator=sgd_logit, X=X, y=y_train, cv=skf, scoring='roc_auc').mean(), 3))\n",
    "        score_v.append(round(roc_auc_score(y_valid, pred[:, 1]), 3))\n",
    "        columns.append('n_gram = ' + str(i))\n",
    "    frame = pd.DataFrame(data = np.array([score]), columns = columns)\n",
    "    return frame, score, score_v"
   ]
  },
  {
   "cell_type": "code",
   "execution_count": 111,
   "metadata": {},
   "outputs": [],
   "source": [
    "table_Count, score, score_v = countVector(combo_train2, combo_valid)"
   ]
  },
  {
   "cell_type": "code",
   "execution_count": 112,
   "metadata": {},
   "outputs": [
    {
     "data": {
      "text/html": [
       "<div>\n",
       "<style scoped>\n",
       "    .dataframe tbody tr th:only-of-type {\n",
       "        vertical-align: middle;\n",
       "    }\n",
       "\n",
       "    .dataframe tbody tr th {\n",
       "        vertical-align: top;\n",
       "    }\n",
       "\n",
       "    .dataframe thead th {\n",
       "        text-align: right;\n",
       "    }\n",
       "</style>\n",
       "<table border=\"1\" class=\"dataframe\">\n",
       "  <thead>\n",
       "    <tr style=\"text-align: right;\">\n",
       "      <th></th>\n",
       "      <th>n_gram = (1, 1)</th>\n",
       "      <th>n_gram = (1, 2)</th>\n",
       "      <th>n_gram = (1, 3)</th>\n",
       "      <th>n_gram = (1, 4)</th>\n",
       "    </tr>\n",
       "  </thead>\n",
       "  <tbody>\n",
       "    <tr>\n",
       "      <th>0</th>\n",
       "      <td>0.94</td>\n",
       "      <td>0.945</td>\n",
       "      <td>0.943</td>\n",
       "      <td>0.943</td>\n",
       "    </tr>\n",
       "  </tbody>\n",
       "</table>\n",
       "</div>"
      ],
      "text/plain": [
       "   n_gram = (1, 1)  n_gram = (1, 2)  n_gram = (1, 3)  n_gram = (1, 4)\n",
       "0             0.94            0.945            0.943            0.943"
      ]
     },
     "execution_count": 112,
     "metadata": {},
     "output_type": "execute_result"
    }
   ],
   "source": [
    "table_Count"
   ]
  },
  {
   "cell_type": "code",
   "execution_count": 113,
   "metadata": {},
   "outputs": [
    {
     "data": {
      "text/plain": [
       "<matplotlib.legend.Legend at 0xbe849c6588>"
      ]
     },
     "execution_count": 113,
     "metadata": {},
     "output_type": "execute_result"
    },
    {
     "data": {
      "image/png": "[encoded data removed]",
      "text/plain": [
       "<Figure size 432x288 with 1 Axes>"
      ]
     },
     "metadata": {
      "needs_background": "light"
     },
     "output_type": "display_data"
    }
   ],
   "source": [
    "plt.plot([1, 2, 3, 4], score, label='train_score')\n",
    "plt.plot([1, 2, 3, 4], score_v, label='valid_score')\n",
    "plt.xlabel(xlabel = 'Number dropout features')\n",
    "plt.ylabel(ylabel = 'Score')\n",
    "plt.legend()"
   ]
  },
  {
   "cell_type": "code",
   "execution_count": 115,
   "metadata": {},
   "outputs": [],
   "source": [
    "countV = CountVectorizer(ngram_range= (1, 1))\n",
    "X = countV.fit_transform(combo_train)\n",
    "Test = countV.transform(combo_test)\n",
    "sgd_logit.fit(X, y)\n",
    "logit_test_pred_proba = sgd_logit.predict_proba(Test)"
   ]
  },
  {
   "cell_type": "code",
   "execution_count": 116,
   "metadata": {},
   "outputs": [],
   "source": [
    "write_to_submission_file(logit_test_pred_proba[:,1], 'Alice9') # CountV"
   ]
  },
  {
   "cell_type": "markdown",
   "metadata": {},
   "source": [
    "#### Качество на лидерборде - 0.90247. Надежды не оправдались, поэтому дальше будем работать с датасетом, у которого уменьшили признаковое пространство на количество сайтов, посещенных менее 4 раз"
   ]
  },
  {
   "cell_type": "markdown",
   "metadata": {},
   "source": [
    "### 2. Добавление признаков"
   ]
  },
  {
   "cell_type": "code",
   "execution_count": 300,
   "metadata": {},
   "outputs": [],
   "source": [
    "X_train_sparse = pickle.load(open(os.path.join(PATH_TO_DATA, 'X_train_sparse4.pkl'), 'rb'))\n",
    "X_test_sparse = pickle.load(open(os.path.join(PATH_TO_DATA, 'X_test_sparse4.pkl'), 'rb'))"
   ]
  },
  {
   "cell_type": "markdown",
   "metadata": {},
   "source": [
    "### 2.1. Загрузим предподготовленные в отдельном файле признаки и посмотрим, что у нас есть"
   ]
  },
  {
   "cell_type": "code",
   "execution_count": 43,
   "metadata": {},
   "outputs": [],
   "source": [
    "feats_numeric = pickle.load(open(os.path.join(PATH_TO_DATA, 'feats_numeric.pkl'), 'rb'))\n",
    "new_feats2 = pickle.load(open(os.path.join(PATH_TO_DATA, 'new_feats2.pkl'), 'rb'))\n",
    "data_delta = pickle.load(open(os.path.join(PATH_TO_DATA, 'data_delta.pkl'), 'rb'))\n",
    "freq_sites_full_30 = pickle.load(open(os.path.join(PATH_TO_DATA, 'freq_sites_full_30.pkl'), 'rb'))"
   ]
  },
  {
   "cell_type": "markdown",
   "metadata": {},
   "source": [
    "#### Длина сессии, количество сайтов из топ-30, время проведенное на сайтах из топ-30 и кол-во уникальных сайтов в сессии:"
   ]
  },
  {
   "cell_type": "code",
   "execution_count": 44,
   "metadata": {},
   "outputs": [
    {
     "data": {
      "text/html": [
       "<div>\n",
       "<style scoped>\n",
       "    .dataframe tbody tr th:only-of-type {\n",
       "        vertical-align: middle;\n",
       "    }\n",
       "\n",
       "    .dataframe tbody tr th {\n",
       "        vertical-align: top;\n",
       "    }\n",
       "\n",
       "    .dataframe thead th {\n",
       "        text-align: right;\n",
       "    }\n",
       "</style>\n",
       "<table border=\"1\" class=\"dataframe\">\n",
       "  <thead>\n",
       "    <tr style=\"text-align: right;\">\n",
       "      <th></th>\n",
       "      <th>session_timespan</th>\n",
       "      <th>event_30</th>\n",
       "      <th>time_top30</th>\n",
       "      <th>unique</th>\n",
       "    </tr>\n",
       "  </thead>\n",
       "  <tbody>\n",
       "    <tr>\n",
       "      <th>0</th>\n",
       "      <td>0</td>\n",
       "      <td>0</td>\n",
       "      <td>0</td>\n",
       "      <td>1</td>\n",
       "    </tr>\n",
       "    <tr>\n",
       "      <th>1</th>\n",
       "      <td>26</td>\n",
       "      <td>0</td>\n",
       "      <td>0</td>\n",
       "      <td>7</td>\n",
       "    </tr>\n",
       "    <tr>\n",
       "      <th>2</th>\n",
       "      <td>7</td>\n",
       "      <td>3</td>\n",
       "      <td>2</td>\n",
       "      <td>4</td>\n",
       "    </tr>\n",
       "    <tr>\n",
       "      <th>3</th>\n",
       "      <td>270</td>\n",
       "      <td>10</td>\n",
       "      <td>270</td>\n",
       "      <td>1</td>\n",
       "    </tr>\n",
       "    <tr>\n",
       "      <th>4</th>\n",
       "      <td>246</td>\n",
       "      <td>1</td>\n",
       "      <td>137</td>\n",
       "      <td>4</td>\n",
       "    </tr>\n",
       "  </tbody>\n",
       "</table>\n",
       "</div>"
      ],
      "text/plain": [
       "   session_timespan  event_30  time_top30  unique\n",
       "0                 0         0           0       1\n",
       "1                26         0           0       7\n",
       "2                 7         3           2       4\n",
       "3               270        10         270       1\n",
       "4               246         1         137       4"
      ]
     },
     "execution_count": 44,
     "metadata": {},
     "output_type": "execute_result"
    }
   ],
   "source": [
    "feats_numeric.head()"
   ]
  },
  {
   "cell_type": "markdown",
   "metadata": {},
   "source": [
    "#### Месяц, день и час начала сессии и некоторые связанные с ними бинарные признаки:"
   ]
  },
  {
   "cell_type": "code",
   "execution_count": 45,
   "metadata": {},
   "outputs": [
    {
     "data": {
      "text/html": [
       "<div>\n",
       "<style scoped>\n",
       "    .dataframe tbody tr th:only-of-type {\n",
       "        vertical-align: middle;\n",
       "    }\n",
       "\n",
       "    .dataframe tbody tr th {\n",
       "        vertical-align: top;\n",
       "    }\n",
       "\n",
       "    .dataframe thead th {\n",
       "        text-align: right;\n",
       "    }\n",
       "</style>\n",
       "<table border=\"1\" class=\"dataframe\">\n",
       "  <thead>\n",
       "    <tr style=\"text-align: right;\">\n",
       "      <th></th>\n",
       "      <th>start_month</th>\n",
       "      <th>start_hour</th>\n",
       "      <th>day_of_week</th>\n",
       "      <th>is_work_day</th>\n",
       "      <th>is_holiday</th>\n",
       "      <th>is_morning</th>\n",
       "      <th>is_midday</th>\n",
       "      <th>is_after_midday</th>\n",
       "      <th>is_evening</th>\n",
       "      <th>is_night</th>\n",
       "      <th>is_winter</th>\n",
       "      <th>is_spring</th>\n",
       "      <th>is_summer</th>\n",
       "      <th>is_autumn</th>\n",
       "    </tr>\n",
       "  </thead>\n",
       "  <tbody>\n",
       "    <tr>\n",
       "      <th>0</th>\n",
       "      <td>2</td>\n",
       "      <td>10</td>\n",
       "      <td>3</td>\n",
       "      <td>1</td>\n",
       "      <td>0</td>\n",
       "      <td>1</td>\n",
       "      <td>0</td>\n",
       "      <td>0</td>\n",
       "      <td>0</td>\n",
       "      <td>0</td>\n",
       "      <td>1</td>\n",
       "      <td>0</td>\n",
       "      <td>0</td>\n",
       "      <td>0</td>\n",
       "    </tr>\n",
       "    <tr>\n",
       "      <th>1</th>\n",
       "      <td>2</td>\n",
       "      <td>11</td>\n",
       "      <td>5</td>\n",
       "      <td>0</td>\n",
       "      <td>1</td>\n",
       "      <td>0</td>\n",
       "      <td>1</td>\n",
       "      <td>0</td>\n",
       "      <td>0</td>\n",
       "      <td>0</td>\n",
       "      <td>1</td>\n",
       "      <td>0</td>\n",
       "      <td>0</td>\n",
       "      <td>0</td>\n",
       "    </tr>\n",
       "    <tr>\n",
       "      <th>2</th>\n",
       "      <td>12</td>\n",
       "      <td>16</td>\n",
       "      <td>0</td>\n",
       "      <td>1</td>\n",
       "      <td>0</td>\n",
       "      <td>0</td>\n",
       "      <td>0</td>\n",
       "      <td>1</td>\n",
       "      <td>0</td>\n",
       "      <td>0</td>\n",
       "      <td>1</td>\n",
       "      <td>0</td>\n",
       "      <td>0</td>\n",
       "      <td>0</td>\n",
       "    </tr>\n",
       "    <tr>\n",
       "      <th>3</th>\n",
       "      <td>3</td>\n",
       "      <td>10</td>\n",
       "      <td>4</td>\n",
       "      <td>1</td>\n",
       "      <td>0</td>\n",
       "      <td>1</td>\n",
       "      <td>0</td>\n",
       "      <td>0</td>\n",
       "      <td>0</td>\n",
       "      <td>0</td>\n",
       "      <td>0</td>\n",
       "      <td>1</td>\n",
       "      <td>0</td>\n",
       "      <td>0</td>\n",
       "    </tr>\n",
       "    <tr>\n",
       "      <th>4</th>\n",
       "      <td>2</td>\n",
       "      <td>10</td>\n",
       "      <td>4</td>\n",
       "      <td>1</td>\n",
       "      <td>0</td>\n",
       "      <td>1</td>\n",
       "      <td>0</td>\n",
       "      <td>0</td>\n",
       "      <td>0</td>\n",
       "      <td>0</td>\n",
       "      <td>1</td>\n",
       "      <td>0</td>\n",
       "      <td>0</td>\n",
       "      <td>0</td>\n",
       "    </tr>\n",
       "  </tbody>\n",
       "</table>\n",
       "</div>"
      ],
      "text/plain": [
       "   start_month  start_hour  day_of_week  is_work_day  is_holiday  is_morning  \\\n",
       "0            2          10            3            1           0           1   \n",
       "1            2          11            5            0           1           0   \n",
       "2           12          16            0            1           0           0   \n",
       "3            3          10            4            1           0           1   \n",
       "4            2          10            4            1           0           1   \n",
       "\n",
       "   is_midday  is_after_midday  is_evening  is_night  is_winter  is_spring  \\\n",
       "0          0                0           0         0          1          0   \n",
       "1          1                0           0         0          1          0   \n",
       "2          0                1           0         0          1          0   \n",
       "3          0                0           0         0          0          1   \n",
       "4          0                0           0         0          1          0   \n",
       "\n",
       "   is_summer  is_autumn  \n",
       "0          0          0  \n",
       "1          0          0  \n",
       "2          0          0  \n",
       "3          0          0  \n",
       "4          0          0  "
      ]
     },
     "execution_count": 45,
     "metadata": {},
     "output_type": "execute_result"
    }
   ],
   "source": [
    "new_feats2.head()"
   ]
  },
  {
   "cell_type": "markdown",
   "metadata": {},
   "source": [
    "#### Время, проведенное на каждом сайте:"
   ]
  },
  {
   "cell_type": "code",
   "execution_count": 46,
   "metadata": {},
   "outputs": [
    {
     "data": {
      "text/html": [
       "<div>\n",
       "<style scoped>\n",
       "    .dataframe tbody tr th:only-of-type {\n",
       "        vertical-align: middle;\n",
       "    }\n",
       "\n",
       "    .dataframe tbody tr th {\n",
       "        vertical-align: top;\n",
       "    }\n",
       "\n",
       "    .dataframe thead th {\n",
       "        text-align: right;\n",
       "    }\n",
       "</style>\n",
       "<table border=\"1\" class=\"dataframe\">\n",
       "  <thead>\n",
       "    <tr style=\"text-align: right;\">\n",
       "      <th></th>\n",
       "      <th>delta_time1</th>\n",
       "      <th>delta_time2</th>\n",
       "      <th>delta_time3</th>\n",
       "      <th>delta_time4</th>\n",
       "      <th>delta_time5</th>\n",
       "      <th>delta_time6</th>\n",
       "      <th>delta_time7</th>\n",
       "      <th>delta_time8</th>\n",
       "      <th>delta_time9</th>\n",
       "    </tr>\n",
       "  </thead>\n",
       "  <tbody>\n",
       "    <tr>\n",
       "      <th>0</th>\n",
       "      <td>0</td>\n",
       "      <td>0</td>\n",
       "      <td>0</td>\n",
       "      <td>0</td>\n",
       "      <td>0</td>\n",
       "      <td>0</td>\n",
       "      <td>0</td>\n",
       "      <td>0</td>\n",
       "      <td>0</td>\n",
       "    </tr>\n",
       "    <tr>\n",
       "      <th>1</th>\n",
       "      <td>0</td>\n",
       "      <td>1</td>\n",
       "      <td>0</td>\n",
       "      <td>0</td>\n",
       "      <td>0</td>\n",
       "      <td>1</td>\n",
       "      <td>0</td>\n",
       "      <td>23</td>\n",
       "      <td>1</td>\n",
       "    </tr>\n",
       "    <tr>\n",
       "      <th>2</th>\n",
       "      <td>1</td>\n",
       "      <td>1</td>\n",
       "      <td>0</td>\n",
       "      <td>0</td>\n",
       "      <td>0</td>\n",
       "      <td>1</td>\n",
       "      <td>1</td>\n",
       "      <td>1</td>\n",
       "      <td>2</td>\n",
       "    </tr>\n",
       "    <tr>\n",
       "      <th>3</th>\n",
       "      <td>30</td>\n",
       "      <td>30</td>\n",
       "      <td>30</td>\n",
       "      <td>30</td>\n",
       "      <td>30</td>\n",
       "      <td>30</td>\n",
       "      <td>30</td>\n",
       "      <td>30</td>\n",
       "      <td>30</td>\n",
       "    </tr>\n",
       "    <tr>\n",
       "      <th>4</th>\n",
       "      <td>137</td>\n",
       "      <td>0</td>\n",
       "      <td>1</td>\n",
       "      <td>0</td>\n",
       "      <td>36</td>\n",
       "      <td>0</td>\n",
       "      <td>0</td>\n",
       "      <td>67</td>\n",
       "      <td>5</td>\n",
       "    </tr>\n",
       "  </tbody>\n",
       "</table>\n",
       "</div>"
      ],
      "text/plain": [
       "   delta_time1  delta_time2  delta_time3  delta_time4  delta_time5  \\\n",
       "0            0            0            0            0            0   \n",
       "1            0            1            0            0            0   \n",
       "2            1            1            0            0            0   \n",
       "3           30           30           30           30           30   \n",
       "4          137            0            1            0           36   \n",
       "\n",
       "   delta_time6  delta_time7  delta_time8  delta_time9  \n",
       "0            0            0            0            0  \n",
       "1            1            0           23            1  \n",
       "2            1            1            1            2  \n",
       "3           30           30           30           30  \n",
       "4            0            0           67            5  "
      ]
     },
     "execution_count": 46,
     "metadata": {},
     "output_type": "execute_result"
    }
   ],
   "source": [
    "data_delta.head()"
   ]
  },
  {
   "cell_type": "markdown",
   "metadata": {},
   "source": [
    "#### Частота посещения сайтов из топ-30 тех, которые нравятся Элис:"
   ]
  },
  {
   "cell_type": "code",
   "execution_count": 47,
   "metadata": {},
   "outputs": [
    {
     "data": {
      "text/html": [
       "<div>\n",
       "<style scoped>\n",
       "    .dataframe tbody tr th:only-of-type {\n",
       "        vertical-align: middle;\n",
       "    }\n",
       "\n",
       "    .dataframe tbody tr th {\n",
       "        vertical-align: top;\n",
       "    }\n",
       "\n",
       "    .dataframe thead th {\n",
       "        text-align: right;\n",
       "    }\n",
       "</style>\n",
       "<table border=\"1\" class=\"dataframe\">\n",
       "  <thead>\n",
       "    <tr style=\"text-align: right;\">\n",
       "      <th></th>\n",
       "      <th>google.com</th>\n",
       "      <th>google.fr</th>\n",
       "      <th>Unknown.Unknown</th>\n",
       "      <th>facebook.com</th>\n",
       "      <th>nih.gov</th>\n",
       "      <th>annotathon.org</th>\n",
       "      <th>youtube.com</th>\n",
       "      <th>bing.com</th>\n",
       "      <th>live.com</th>\n",
       "      <th>twitter.com</th>\n",
       "      <th>...</th>\n",
       "      <th>geotrust.com</th>\n",
       "      <th>wikipedia.org</th>\n",
       "      <th>baidu.com</th>\n",
       "      <th>msn.com</th>\n",
       "      <th>ac.uk</th>\n",
       "      <th>verisign.com</th>\n",
       "      <th>jboss.org</th>\n",
       "      <th>cloudfront.net</th>\n",
       "      <th>openclassrooms.com</th>\n",
       "      <th>cedexis.com</th>\n",
       "    </tr>\n",
       "  </thead>\n",
       "  <tbody>\n",
       "    <tr>\n",
       "      <th>0</th>\n",
       "      <td>0</td>\n",
       "      <td>0</td>\n",
       "      <td>9</td>\n",
       "      <td>0</td>\n",
       "      <td>0</td>\n",
       "      <td>0</td>\n",
       "      <td>0</td>\n",
       "      <td>0</td>\n",
       "      <td>0</td>\n",
       "      <td>0</td>\n",
       "      <td>...</td>\n",
       "      <td>0</td>\n",
       "      <td>0</td>\n",
       "      <td>0</td>\n",
       "      <td>0</td>\n",
       "      <td>0</td>\n",
       "      <td>0</td>\n",
       "      <td>0</td>\n",
       "      <td>0</td>\n",
       "      <td>0</td>\n",
       "      <td>0</td>\n",
       "    </tr>\n",
       "    <tr>\n",
       "      <th>1</th>\n",
       "      <td>0</td>\n",
       "      <td>0</td>\n",
       "      <td>0</td>\n",
       "      <td>0</td>\n",
       "      <td>0</td>\n",
       "      <td>0</td>\n",
       "      <td>0</td>\n",
       "      <td>0</td>\n",
       "      <td>0</td>\n",
       "      <td>0</td>\n",
       "      <td>...</td>\n",
       "      <td>0</td>\n",
       "      <td>0</td>\n",
       "      <td>0</td>\n",
       "      <td>0</td>\n",
       "      <td>0</td>\n",
       "      <td>0</td>\n",
       "      <td>0</td>\n",
       "      <td>0</td>\n",
       "      <td>0</td>\n",
       "      <td>0</td>\n",
       "    </tr>\n",
       "    <tr>\n",
       "      <th>2</th>\n",
       "      <td>0</td>\n",
       "      <td>0</td>\n",
       "      <td>0</td>\n",
       "      <td>0</td>\n",
       "      <td>0</td>\n",
       "      <td>0</td>\n",
       "      <td>0</td>\n",
       "      <td>0</td>\n",
       "      <td>0</td>\n",
       "      <td>1</td>\n",
       "      <td>...</td>\n",
       "      <td>0</td>\n",
       "      <td>0</td>\n",
       "      <td>0</td>\n",
       "      <td>0</td>\n",
       "      <td>0</td>\n",
       "      <td>0</td>\n",
       "      <td>0</td>\n",
       "      <td>0</td>\n",
       "      <td>0</td>\n",
       "      <td>0</td>\n",
       "    </tr>\n",
       "    <tr>\n",
       "      <th>3</th>\n",
       "      <td>0</td>\n",
       "      <td>0</td>\n",
       "      <td>0</td>\n",
       "      <td>0</td>\n",
       "      <td>0</td>\n",
       "      <td>10</td>\n",
       "      <td>0</td>\n",
       "      <td>0</td>\n",
       "      <td>0</td>\n",
       "      <td>0</td>\n",
       "      <td>...</td>\n",
       "      <td>0</td>\n",
       "      <td>0</td>\n",
       "      <td>0</td>\n",
       "      <td>0</td>\n",
       "      <td>0</td>\n",
       "      <td>0</td>\n",
       "      <td>0</td>\n",
       "      <td>0</td>\n",
       "      <td>0</td>\n",
       "      <td>0</td>\n",
       "    </tr>\n",
       "    <tr>\n",
       "      <th>4</th>\n",
       "      <td>0</td>\n",
       "      <td>0</td>\n",
       "      <td>0</td>\n",
       "      <td>0</td>\n",
       "      <td>0</td>\n",
       "      <td>0</td>\n",
       "      <td>0</td>\n",
       "      <td>0</td>\n",
       "      <td>0</td>\n",
       "      <td>0</td>\n",
       "      <td>...</td>\n",
       "      <td>0</td>\n",
       "      <td>4</td>\n",
       "      <td>0</td>\n",
       "      <td>0</td>\n",
       "      <td>0</td>\n",
       "      <td>0</td>\n",
       "      <td>0</td>\n",
       "      <td>0</td>\n",
       "      <td>0</td>\n",
       "      <td>0</td>\n",
       "    </tr>\n",
       "  </tbody>\n",
       "</table>\n",
       "<p>5 rows × 30 columns</p>\n",
       "</div>"
      ],
      "text/plain": [
       "   google.com  google.fr  Unknown.Unknown  facebook.com  nih.gov  \\\n",
       "0           0          0                9             0        0   \n",
       "1           0          0                0             0        0   \n",
       "2           0          0                0             0        0   \n",
       "3           0          0                0             0        0   \n",
       "4           0          0                0             0        0   \n",
       "\n",
       "   annotathon.org  youtube.com  bing.com  live.com  twitter.com  ...  \\\n",
       "0               0            0         0         0            0  ...   \n",
       "1               0            0         0         0            0  ...   \n",
       "2               0            0         0         0            1  ...   \n",
       "3              10            0         0         0            0  ...   \n",
       "4               0            0         0         0            0  ...   \n",
       "\n",
       "   geotrust.com  wikipedia.org  baidu.com  msn.com  ac.uk  verisign.com  \\\n",
       "0             0              0          0        0      0             0   \n",
       "1             0              0          0        0      0             0   \n",
       "2             0              0          0        0      0             0   \n",
       "3             0              0          0        0      0             0   \n",
       "4             0              4          0        0      0             0   \n",
       "\n",
       "   jboss.org  cloudfront.net  openclassrooms.com  cedexis.com  \n",
       "0          0               0                   0            0  \n",
       "1          0               0                   0            0  \n",
       "2          0               0                   0            0  \n",
       "3          0               0                   0            0  \n",
       "4          0               0                   0            0  \n",
       "\n",
       "[5 rows x 30 columns]"
      ]
     },
     "execution_count": 47,
     "metadata": {},
     "output_type": "execute_result"
    }
   ],
   "source": [
    "freq_sites_full_30.head()"
   ]
  },
  {
   "cell_type": "markdown",
   "metadata": {},
   "source": [
    "### 2.2. Сформируем baseline"
   ]
  },
  {
   "cell_type": "code",
   "execution_count": 154,
   "metadata": {},
   "outputs": [],
   "source": [
    "cat_columns = ['start_month', 'start_hour', 'day_of_week']"
   ]
  },
  {
   "cell_type": "code",
   "execution_count": 155,
   "metadata": {},
   "outputs": [],
   "source": [
    "X = new_feats2[cat_columns]\n",
    "X_add = pd.get_dummies(X, columns=X.columns)"
   ]
  },
  {
   "cell_type": "code",
   "execution_count": 156,
   "metadata": {},
   "outputs": [],
   "source": [
    "X_train = hstack([X_train_sparse, X_add[:train_df.shape[0]]])\n",
    "X_test = hstack([X_test_sparse, X_add[train_df.shape[0]:]])"
   ]
  },
  {
   "cell_type": "code",
   "execution_count": 157,
   "metadata": {},
   "outputs": [
    {
     "name": "stdout",
     "output_type": "stream",
     "text": [
      "ROC AUC score:  0.9772\n"
     ]
    }
   ],
   "source": [
    "score = cross_val_score(estimator=sgd_logit, X=X_train, y=y, cv=skf, scoring='roc_auc').mean()\n",
    "print('ROC AUC score: ', round(score, 4))"
   ]
  },
  {
   "cell_type": "code",
   "execution_count": 52,
   "metadata": {},
   "outputs": [],
   "source": [
    "sgd_logit.fit(X_train, y)\n",
    "sgd_logit_test_pred_proba = sgd_logit.predict_proba(X_test)"
   ]
  },
  {
   "cell_type": "code",
   "execution_count": 53,
   "metadata": {},
   "outputs": [],
   "source": [
    "write_to_submission_file(sgd_logit_test_pred_proba[:,1], 'Alice8')"
   ]
  },
  {
   "cell_type": "markdown",
   "metadata": {},
   "source": [
    "#### Качество на лидерборде - 0.93354.  Бенчмарк \"Logit +3 features\" побит"
   ]
  },
  {
   "cell_type": "code",
   "execution_count": 158,
   "metadata": {},
   "outputs": [],
   "source": [
    "logit = LogisticRegression(n_jobs=-1, random_state=42)"
   ]
  },
  {
   "cell_type": "code",
   "execution_count": 159,
   "metadata": {},
   "outputs": [
    {
     "name": "stdout",
     "output_type": "stream",
     "text": [
      "ROC AUC score:  0.9883\n"
     ]
    }
   ],
   "source": [
    "score = cross_val_score(estimator=logit, X=X_train, y=y, cv=skf, scoring='roc_auc').mean()\n",
    "print('ROC AUC score: ', round(score, 4))"
   ]
  },
  {
   "cell_type": "code",
   "execution_count": 160,
   "metadata": {},
   "outputs": [],
   "source": [
    "with open(os.path.join(PATH_TO_DATA, 'X_train_base.pkl'), 'wb') as X_train_base_pkl:\n",
    "    pickle.dump(X_train, X_train_base_pkl, protocol=2)\n",
    "with open(os.path.join(PATH_TO_DATA, 'X_test_base.pkl'), 'wb') as X_test_base_pkl:\n",
    "    pickle.dump(X_test, X_test_base_pkl, protocol=2)"
   ]
  },
  {
   "cell_type": "code",
   "execution_count": 56,
   "metadata": {},
   "outputs": [],
   "source": [
    "logit.fit(X_train, y)\n",
    "logit_test_pred_proba2 = logit.predict_proba(X_test)"
   ]
  },
  {
   "cell_type": "code",
   "execution_count": 195,
   "metadata": {},
   "outputs": [],
   "source": [
    "write_to_submission_file(logit_test_pred_proba2[:,1], 'Alice9')"
   ]
  },
  {
   "cell_type": "markdown",
   "metadata": {},
   "source": [
    "#### Качество на лидерборде - 0.94552. Примем этот уровень за некоторый baseline. Дальше будем использовать Логистическую регрессию и попробуем улучшить этот результат"
   ]
  },
  {
   "cell_type": "markdown",
   "metadata": {},
   "source": [
    "### 2.3. Попробуем добавить еще признаков"
   ]
  },
  {
   "cell_type": "code",
   "execution_count": 57,
   "metadata": {},
   "outputs": [],
   "source": [
    "combine_feats = pd.DataFrame() # добавим комбинированные признаки\n",
    "combine_feats['feat1'] = feats_numeric['time_top30'] / feats_numeric['session_timespan']\n",
    "combine_feats['feat2'] = feats_numeric['event_30'] / feats_numeric['unique']\n",
    "combine_feats['feat3'] = feats_numeric['time_top30'] / feats_numeric['event_30']\n",
    "combine_feats = combine_feats.fillna(0)"
   ]
  },
  {
   "cell_type": "code",
   "execution_count": 135,
   "metadata": {},
   "outputs": [],
   "source": [
    "numeric_feats = pd.concat([#freq_sites_full_30, \n",
    "                           feats_numeric, \n",
    "                           data_delta, \n",
    "                           #combine_feats\n",
    "                          ], axis=1, sort=False)\n",
    "#numeric_feats = numeric_feats.drop(['google.com'], axis = 1)"
   ]
  },
  {
   "cell_type": "code",
   "execution_count": 136,
   "metadata": {},
   "outputs": [
    {
     "data": {
      "text/html": [
       "<div>\n",
       "<style scoped>\n",
       "    .dataframe tbody tr th:only-of-type {\n",
       "        vertical-align: middle;\n",
       "    }\n",
       "\n",
       "    .dataframe tbody tr th {\n",
       "        vertical-align: top;\n",
       "    }\n",
       "\n",
       "    .dataframe thead th {\n",
       "        text-align: right;\n",
       "    }\n",
       "</style>\n",
       "<table border=\"1\" class=\"dataframe\">\n",
       "  <thead>\n",
       "    <tr style=\"text-align: right;\">\n",
       "      <th></th>\n",
       "      <th>session_timespan</th>\n",
       "      <th>event_30</th>\n",
       "      <th>time_top30</th>\n",
       "      <th>unique</th>\n",
       "      <th>delta_time1</th>\n",
       "      <th>delta_time2</th>\n",
       "      <th>delta_time3</th>\n",
       "      <th>delta_time4</th>\n",
       "      <th>delta_time5</th>\n",
       "      <th>delta_time6</th>\n",
       "      <th>delta_time7</th>\n",
       "      <th>delta_time8</th>\n",
       "      <th>delta_time9</th>\n",
       "    </tr>\n",
       "  </thead>\n",
       "  <tbody>\n",
       "    <tr>\n",
       "      <th>0</th>\n",
       "      <td>0</td>\n",
       "      <td>0</td>\n",
       "      <td>0</td>\n",
       "      <td>1</td>\n",
       "      <td>0</td>\n",
       "      <td>0</td>\n",
       "      <td>0</td>\n",
       "      <td>0</td>\n",
       "      <td>0</td>\n",
       "      <td>0</td>\n",
       "      <td>0</td>\n",
       "      <td>0</td>\n",
       "      <td>0</td>\n",
       "    </tr>\n",
       "    <tr>\n",
       "      <th>1</th>\n",
       "      <td>26</td>\n",
       "      <td>0</td>\n",
       "      <td>0</td>\n",
       "      <td>7</td>\n",
       "      <td>0</td>\n",
       "      <td>1</td>\n",
       "      <td>0</td>\n",
       "      <td>0</td>\n",
       "      <td>0</td>\n",
       "      <td>1</td>\n",
       "      <td>0</td>\n",
       "      <td>23</td>\n",
       "      <td>1</td>\n",
       "    </tr>\n",
       "  </tbody>\n",
       "</table>\n",
       "</div>"
      ],
      "text/plain": [
       "   session_timespan  event_30  time_top30  unique  delta_time1  delta_time2  \\\n",
       "0                 0         0           0       1            0            0   \n",
       "1                26         0           0       7            0            1   \n",
       "\n",
       "   delta_time3  delta_time4  delta_time5  delta_time6  delta_time7  \\\n",
       "0            0            0            0            0            0   \n",
       "1            0            0            0            1            0   \n",
       "\n",
       "   delta_time8  delta_time9  \n",
       "0            0            0  \n",
       "1           23            1  "
      ]
     },
     "execution_count": 136,
     "metadata": {},
     "output_type": "execute_result"
    }
   ],
   "source": [
    "numeric_feats.head(2)"
   ]
  },
  {
   "cell_type": "code",
   "execution_count": 137,
   "metadata": {},
   "outputs": [],
   "source": [
    "cat_columns = ['start_month', 'start_hour', 'day_of_week']"
   ]
  },
  {
   "cell_type": "code",
   "execution_count": 138,
   "metadata": {},
   "outputs": [],
   "source": [
    "cat_feats = new_feats2[cat_columns]\n",
    "numeric_feats = pd.concat([new_feats2[cat_columns], \n",
    "                           freq_sites_full_30, \n",
    "                           #data_delta, \n",
    "                           #combine_feats\n",
    "                          ], axis=1, sort=False)"
   ]
  },
  {
   "cell_type": "code",
   "execution_count": 139,
   "metadata": {},
   "outputs": [],
   "source": [
    "bin_feats = new_feats2.drop(['start_month', 'start_hour', 'day_of_week', 'is_night'], axis = 1)"
   ]
  },
  {
   "cell_type": "code",
   "execution_count": 140,
   "metadata": {},
   "outputs": [
    {
     "data": {
      "text/html": [
       "<div>\n",
       "<style scoped>\n",
       "    .dataframe tbody tr th:only-of-type {\n",
       "        vertical-align: middle;\n",
       "    }\n",
       "\n",
       "    .dataframe tbody tr th {\n",
       "        vertical-align: top;\n",
       "    }\n",
       "\n",
       "    .dataframe thead th {\n",
       "        text-align: right;\n",
       "    }\n",
       "</style>\n",
       "<table border=\"1\" class=\"dataframe\">\n",
       "  <thead>\n",
       "    <tr style=\"text-align: right;\">\n",
       "      <th></th>\n",
       "      <th>is_work_day</th>\n",
       "      <th>is_holiday</th>\n",
       "      <th>is_morning</th>\n",
       "      <th>is_midday</th>\n",
       "      <th>is_after_midday</th>\n",
       "      <th>is_evening</th>\n",
       "      <th>is_winter</th>\n",
       "      <th>is_spring</th>\n",
       "      <th>is_summer</th>\n",
       "      <th>is_autumn</th>\n",
       "    </tr>\n",
       "  </thead>\n",
       "  <tbody>\n",
       "    <tr>\n",
       "      <th>0</th>\n",
       "      <td>1</td>\n",
       "      <td>0</td>\n",
       "      <td>1</td>\n",
       "      <td>0</td>\n",
       "      <td>0</td>\n",
       "      <td>0</td>\n",
       "      <td>1</td>\n",
       "      <td>0</td>\n",
       "      <td>0</td>\n",
       "      <td>0</td>\n",
       "    </tr>\n",
       "    <tr>\n",
       "      <th>1</th>\n",
       "      <td>0</td>\n",
       "      <td>1</td>\n",
       "      <td>0</td>\n",
       "      <td>1</td>\n",
       "      <td>0</td>\n",
       "      <td>0</td>\n",
       "      <td>1</td>\n",
       "      <td>0</td>\n",
       "      <td>0</td>\n",
       "      <td>0</td>\n",
       "    </tr>\n",
       "  </tbody>\n",
       "</table>\n",
       "</div>"
      ],
      "text/plain": [
       "   is_work_day  is_holiday  is_morning  is_midday  is_after_midday  \\\n",
       "0            1           0           1          0                0   \n",
       "1            0           1           0          1                0   \n",
       "\n",
       "   is_evening  is_winter  is_spring  is_summer  is_autumn  \n",
       "0           0          1          0          0          0  \n",
       "1           0          1          0          0          0  "
      ]
     },
     "execution_count": 140,
     "metadata": {},
     "output_type": "execute_result"
    }
   ],
   "source": [
    "bin_feats.head(2)"
   ]
  },
  {
   "cell_type": "code",
   "execution_count": 141,
   "metadata": {},
   "outputs": [
    {
     "name": "stdout",
     "output_type": "stream",
     "text": [
      "336358 336358 336358\n"
     ]
    }
   ],
   "source": [
    "print(len(numeric_feats), len(cat_feats), len(bin_feats))"
   ]
  },
  {
   "cell_type": "code",
   "execution_count": 142,
   "metadata": {},
   "outputs": [],
   "source": [
    "full_data = pd.concat([numeric_feats, cat_feats, bin_feats], axis=1, sort=False)"
   ]
  },
  {
   "cell_type": "code",
   "execution_count": 143,
   "metadata": {},
   "outputs": [
    {
     "data": {
      "text/plain": [
       "(336358, 46)"
      ]
     },
     "execution_count": 143,
     "metadata": {},
     "output_type": "execute_result"
    }
   ],
   "source": [
    "full_data.shape"
   ]
  },
  {
   "cell_type": "code",
   "execution_count": 144,
   "metadata": {},
   "outputs": [
    {
     "data": {
      "text/plain": [
       "False"
      ]
     },
     "execution_count": 144,
     "metadata": {},
     "output_type": "execute_result"
    }
   ],
   "source": [
    "full_data.isnull().values.any()"
   ]
  },
  {
   "cell_type": "code",
   "execution_count": 145,
   "metadata": {},
   "outputs": [],
   "source": [
    "binary_data_columns = list(bin_feats.columns)\n",
    "binary_data_indices = np.array([(column in binary_data_columns) for column in full_data.columns], dtype = bool)"
   ]
  },
  {
   "cell_type": "code",
   "execution_count": 146,
   "metadata": {},
   "outputs": [],
   "source": [
    "categorical_data_columns = list(cat_feats.columns)\n",
    "categorical_data_indices = np.array([(column in categorical_data_columns) for column in full_data.columns], dtype = bool)"
   ]
  },
  {
   "cell_type": "code",
   "execution_count": 147,
   "metadata": {},
   "outputs": [],
   "source": [
    "numeric_data_columns = list(numeric_feats.columns)\n",
    "numeric_data_indices = np.array([(column in numeric_data_columns) for column in full_data.columns], dtype = bool)"
   ]
  },
  {
   "cell_type": "code",
   "execution_count": 85,
   "metadata": {},
   "outputs": [],
   "source": [
    "from sklearn import pipeline\n",
    "from sklearn import preprocessing"
   ]
  },
  {
   "cell_type": "markdown",
   "metadata": {},
   "source": [
    "#### Сделаем pipeline для автоматической обработки и соединения новых признаков"
   ]
  },
  {
   "cell_type": "code",
   "execution_count": 148,
   "metadata": {},
   "outputs": [],
   "source": [
    "estimator = pipeline.Pipeline(steps = [       \n",
    "    ('feature_processing', pipeline.FeatureUnion(transformer_list = [\n",
    "            #binary\n",
    "            ('binary_variables_processing', preprocessing.FunctionTransformer(lambda data: data[:, binary_data_indices])),        \n",
    "            #numeric\n",
    "            ('numeric_variables_processing', pipeline.Pipeline(steps = [\n",
    "                ('selecting', preprocessing.FunctionTransformer(lambda data: data[:, numeric_data_indices])),\n",
    "                ('scaling', preprocessing.StandardScaler(with_mean = 0))            \n",
    "                        ])),\n",
    "        \n",
    "            #categorical\n",
    "            ('categorical_variables_processing', pipeline.Pipeline(steps = [\n",
    "                ('selecting', preprocessing.FunctionTransformer(lambda data: data[:, categorical_data_indices])),\n",
    "                ('hot_encoding', preprocessing.OneHotEncoder(handle_unknown = 'ignore'))            \n",
    "                        ])),\n",
    "             ]))\n",
    "    #('model_fitting', regressor)\n",
    "    ]\n",
    ")"
   ]
  },
  {
   "cell_type": "code",
   "execution_count": 117,
   "metadata": {},
   "outputs": [],
   "source": [
    "def full_transform(data):\n",
    "    feats_part1 = estimator.fit_transform(data)\n",
    "    feats_part2 = pickle.load(open(os.path.join(PATH_TO_DATA, 'X_train_sparse4.pkl'), 'rb'))\n",
    "    feats_part3 = pickle.load(open(os.path.join(PATH_TO_DATA, 'X_test_sparse4.pkl'), 'rb'))\n",
    "    full_train = hstack([feats_part1[:train_df.shape[0]], feats_part2])\n",
    "    full_test = hstack([feats_part1[train_df.shape[0]:], feats_part3])\n",
    "    #X = hstack([feats_part1, feats_part2])\n",
    "    #part = train_df.shape[0] - 10000\n",
    "    #train_valid = hstack([feats_part1[:part], feats_part2[:part]])\n",
    "    #valid = hstack([feats_part1[part:train_df.shape[0]], feats_part2[part:train_df.shape[0]]])\n",
    "    return full_train, full_test#, feats_part1, feats_part2#, X"
   ]
  },
  {
   "cell_type": "code",
   "execution_count": 149,
   "metadata": {},
   "outputs": [],
   "source": [
    "full_train, full_test = full_transform(full_data)"
   ]
  },
  {
   "cell_type": "code",
   "execution_count": 245,
   "metadata": {},
   "outputs": [
    {
     "name": "stdout",
     "output_type": "stream",
     "text": [
      "ROC AUC score:  0.9889\n"
     ]
    }
   ],
   "source": [
    "score = cross_val_score(estimator=logit, X=full_train, y=y, cv=skf, scoring='roc_auc').mean()\n",
    "print('ROC AUC score: ', round(score, 4))"
   ]
  },
  {
   "cell_type": "code",
   "execution_count": 151,
   "metadata": {},
   "outputs": [],
   "source": [
    "logit = LogisticRegression(n_jobs=-1, random_state=42)\n",
    "logit.fit(full_train, y)\n",
    "logit_test_pred = logit.predict_proba(full_test)"
   ]
  },
  {
   "cell_type": "code",
   "execution_count": 152,
   "metadata": {},
   "outputs": [],
   "source": [
    "write_to_submission_file(logit_test_pred[:,1], 'Alice10')"
   ]
  },
  {
   "cell_type": "markdown",
   "metadata": {},
   "source": [
    "#### Качество на лидерборде - 0.94496. Данными признаками значительного улучшения добиться также не удалось"
   ]
  },
  {
   "cell_type": "markdown",
   "metadata": {},
   "source": [
    "### 2.4. Попробуем настроить параметры логистической регрессии"
   ]
  },
  {
   "cell_type": "code",
   "execution_count": 311,
   "metadata": {},
   "outputs": [],
   "source": [
    "X_train = pickle.load(open(os.path.join(PATH_TO_DATA, 'X_train_base.pkl'), 'rb'))\n",
    "X_test = pickle.load(open(os.path.join(PATH_TO_DATA, 'X_test_base.pkl'), 'rb'))"
   ]
  },
  {
   "cell_type": "code",
   "execution_count": 164,
   "metadata": {},
   "outputs": [],
   "source": [
    "from sklearn.model_selection import GridSearchCV"
   ]
  },
  {
   "cell_type": "code",
   "execution_count": 165,
   "metadata": {},
   "outputs": [
    {
     "data": {
      "text/plain": [
       "dict_keys(['C', 'class_weight', 'dual', 'fit_intercept', 'intercept_scaling', 'max_iter', 'multi_class', 'n_jobs', 'penalty', 'random_state', 'solver', 'tol', 'verbose', 'warm_start'])"
      ]
     },
     "execution_count": 165,
     "metadata": {},
     "output_type": "execute_result"
    }
   ],
   "source": [
    "logit.get_params().keys()"
   ]
  },
  {
   "cell_type": "code",
   "execution_count": 166,
   "metadata": {},
   "outputs": [],
   "source": [
    "parameters_grid = {\n",
    "    'C' : np.linspace(0.1, 10, num = 10)\n",
    "}"
   ]
  },
  {
   "cell_type": "code",
   "execution_count": 167,
   "metadata": {},
   "outputs": [],
   "source": [
    "grid_cv = GridSearchCV(logit, parameters_grid, scoring = 'roc_auc', cv = skf)"
   ]
  },
  {
   "cell_type": "code",
   "execution_count": 168,
   "metadata": {},
   "outputs": [
    {
     "data": {
      "text/plain": [
       "GridSearchCV(cv=StratifiedKFold(n_splits=3, random_state=42, shuffle=True),\n",
       "       error_score='raise-deprecating',\n",
       "       estimator=LogisticRegression(C=1.0, class_weight=None, dual=False, fit_intercept=True,\n",
       "          intercept_scaling=1, max_iter=100, multi_class='warn', n_jobs=-1,\n",
       "          penalty='l2', random_state=42, solver='warn', tol=0.0001,\n",
       "          verbose=0, warm_start=False),\n",
       "       fit_params=None, iid='warn', n_jobs=None,\n",
       "       param_grid={'C': array([ 0.1,  1.2,  2.3,  3.4,  4.5,  5.6,  6.7,  7.8,  8.9, 10. ])},\n",
       "       pre_dispatch='2*n_jobs', refit=True, return_train_score='warn',\n",
       "       scoring='roc_auc', verbose=0)"
      ]
     },
     "execution_count": 168,
     "metadata": {},
     "output_type": "execute_result"
    }
   ],
   "source": [
    "grid_cv.fit(X_train, y)"
   ]
  },
  {
   "cell_type": "code",
   "execution_count": 169,
   "metadata": {},
   "outputs": [
    {
     "name": "stdout",
     "output_type": "stream",
     "text": [
      "0.9889364828581061\n",
      "{'C': 3.4000000000000004}\n"
     ]
    }
   ],
   "source": [
    "print (grid_cv.best_score_)\n",
    "print (grid_cv.best_params_)"
   ]
  },
  {
   "cell_type": "code",
   "execution_count": 170,
   "metadata": {},
   "outputs": [],
   "source": [
    "logit_grid = LogisticRegression(C = 3.4, n_jobs=-1, random_state=42)"
   ]
  },
  {
   "cell_type": "code",
   "execution_count": 173,
   "metadata": {},
   "outputs": [
    {
     "name": "stdout",
     "output_type": "stream",
     "text": [
      "ROC AUC score:  0.9895\n"
     ]
    }
   ],
   "source": [
    "score = cross_val_score(estimator=logit_grid, X=full_train, y=y, cv=skf, scoring='roc_auc').mean()\n",
    "print('ROC AUC score: ', round(score, 4))"
   ]
  },
  {
   "cell_type": "markdown",
   "metadata": {},
   "source": [
    "#### Результат впечатляет, но лучше оценить кривую обучения/валидации"
   ]
  },
  {
   "cell_type": "code",
   "execution_count": 285,
   "metadata": {},
   "outputs": [],
   "source": [
    "train_share = int(.7 * X_train_sparse.shape[0])"
   ]
  },
  {
   "cell_type": "code",
   "execution_count": 332,
   "metadata": {},
   "outputs": [],
   "source": [
    "def check_grid(data_train):\n",
    "    score = []\n",
    "    score_valid = []\n",
    "    C_list = np.linspace(0.1, 10, num = 10)\n",
    "    X_train, y_train = data_train.tocsr()[:train_share, :], y[:train_share]\n",
    "    X_valid, y_valid  = data_train.tocsr()[train_share:, :], y[train_share:]\n",
    "    for C in C_list:\n",
    "        logit_grid = LogisticRegression(C = C, n_jobs=-1, random_state=42)\n",
    "        score.append(cross_val_score(estimator=logit_grid, X=data_train, y=y, cv=skf, scoring='roc_auc').mean())\n",
    "        logit_grid.fit(X_train, y_train)\n",
    "        logit_test_pred_proba = logit_grid.predict_proba(X_valid)\n",
    "        score_valid.append(roc_auc_score(y_valid, logit_test_pred_proba[:,1]))\n",
    "    return (score, score_valid)"
   ]
  },
  {
   "cell_type": "code",
   "execution_count": 333,
   "metadata": {},
   "outputs": [],
   "source": [
    "score, score_valid = check_grid(X_train)"
   ]
  },
  {
   "cell_type": "code",
   "execution_count": 335,
   "metadata": {},
   "outputs": [
    {
     "data": {
      "text/plain": [
       "<matplotlib.legend.Legend at 0xc3084b7da0>"
      ]
     },
     "execution_count": 335,
     "metadata": {},
     "output_type": "execute_result"
    },
    {
     "data": {
      "image/png": "[encoded data removed]",
      "text/plain": [
       "<Figure size 432x288 with 1 Axes>"
      ]
     },
     "metadata": {
      "needs_background": "light"
     },
     "output_type": "display_data"
    }
   ],
   "source": [
    "C_list = np.linspace(0.1, 10, num = 10)\n",
    "plt.plot(C_list, score, label='train_score')\n",
    "plt.plot(C_list, score_valid, label='valid_score')\n",
    "plt.xlabel(xlabel = 'C')\n",
    "plt.ylabel(ylabel = 'Score')\n",
    "plt.legend()"
   ]
  },
  {
   "cell_type": "markdown",
   "metadata": {},
   "source": [
    "#### Вывод - после значения С = 1 качество модели на отложенной выборке существенно начинает уменьшаться. Видимо, вариант с настройкой гиперпараметров в этом случае большого улучшения не даст"
   ]
  },
  {
   "cell_type": "markdown",
   "metadata": {},
   "source": [
    "### 3. Попробуем ансамбль методов для создания метапризнаков"
   ]
  },
  {
   "cell_type": "code",
   "execution_count": 258,
   "metadata": {},
   "outputs": [],
   "source": [
    "X_train_sparse = pickle.load(open(os.path.join(PATH_TO_DATA, 'X_train_base.pkl'), 'rb'))\n",
    "X_test_sparse = pickle.load(open(os.path.join(PATH_TO_DATA, 'X_test_base.pkl'), 'rb'))\n",
    "y = pickle.load(open(os.path.join(PATH_TO_DATA, 'y_train.pkl'), 'rb')) "
   ]
  },
  {
   "cell_type": "code",
   "execution_count": 177,
   "metadata": {},
   "outputs": [],
   "source": [
    "clfs = [LogisticRegression(n_jobs=-1, random_state=42),\n",
    "        ComplementNB(), BernoulliNB(alpha=.1), MultinomialNB(alpha=1.0),\n",
    "       SVC(C = 1, random_state=17, probability = True),\n",
    "       RandomForestClassifier(n_estimators=100, n_jobs=-1, criterion='gini'),\n",
    "       ExtraTreesClassifier(n_estimators=100, n_jobs=-1, criterion='entropy'),\n",
    "       GradientBoostingClassifier(learning_rate=0.05, subsample=0.8, n_estimators=100)]"
   ]
  },
  {
   "cell_type": "code",
   "execution_count": 178,
   "metadata": {},
   "outputs": [],
   "source": [
    "dataset_stack_train = np.zeros((X_train.shape[0], len(clfs)))\n",
    "dataset_stack_test = np.zeros((X_test.shape[0], len(clfs)))\n",
    "dataset_stack_test_j = np.zeros((X_test.shape[0], 5))"
   ]
  },
  {
   "cell_type": "code",
   "execution_count": 217,
   "metadata": {},
   "outputs": [],
   "source": [
    "skf1 = StratifiedKFold(n_splits=5)"
   ]
  },
  {
   "cell_type": "code",
   "execution_count": 224,
   "metadata": {},
   "outputs": [],
   "source": [
    "# Обобщим на несколько алгоритмов\n",
    "def stack(clfs):\n",
    "    for j, clf in enumerate(clfs):\n",
    "        print (j, clf)    \n",
    "        for i, (train, val) in enumerate(skf1.split(X_train_sparse, y)):\n",
    "            print(\"Fold:\", i)\n",
    "            X_tr = X_train_sparse.tocsr()[train]\n",
    "            X_val = X_train_sparse.tocsr()[val]\n",
    "            #print(X_tr.shape, X_val.shape)\n",
    "            y_tr = y[train]\n",
    "            y_val = y[val]\n",
    "            clf.fit(X_tr, y_tr)\n",
    "\n",
    "            pred_val = clf.predict_proba(X_val)[:, 1]\n",
    "            dataset_stack_train[val, j] = pred_val\n",
    "\n",
    "            dataset_stack_test_j[:, i] = clf.predict_proba(X_test_sparse)[:, 1]\n",
    "\n",
    "        dataset_stack_test[:, j] = dataset_stack_test_j.mean(1)\n",
    "    return dataset_stack_train, dataset_stack_test"
   ]
  },
  {
   "cell_type": "code",
   "execution_count": 225,
   "metadata": {},
   "outputs": [
    {
     "name": "stdout",
     "output_type": "stream",
     "text": [
      "0 LogisticRegression(C=1.0, class_weight=None, dual=False, fit_intercept=True,\n",
      "          intercept_scaling=1, max_iter=100, multi_class='warn', n_jobs=-1,\n",
      "          penalty='l2', random_state=42, solver='warn', tol=0.0001,\n",
      "          verbose=0, warm_start=False)\n",
      "Fold: 0\n",
      "Fold: 1\n",
      "Fold: 2\n",
      "Fold: 3\n",
      "Fold: 4\n",
      "1 ComplementNB(alpha=1.0, class_prior=None, fit_prior=True, norm=False)\n",
      "Fold: 0\n",
      "Fold: 1\n",
      "Fold: 2\n",
      "Fold: 3\n",
      "Fold: 4\n",
      "2 BernoulliNB(alpha=0.1, binarize=0.0, class_prior=None, fit_prior=True)\n",
      "Fold: 0\n",
      "Fold: 1\n",
      "Fold: 2\n",
      "Fold: 3\n",
      "Fold: 4\n",
      "3 MultinomialNB(alpha=1.0, class_prior=None, fit_prior=True)\n",
      "Fold: 0\n",
      "Fold: 1\n",
      "Fold: 2\n",
      "Fold: 3\n",
      "Fold: 4\n",
      "4 SVC(C=1, cache_size=200, class_weight=None, coef0=0.0,\n",
      "  decision_function_shape='ovr', degree=3, gamma='auto_deprecated',\n",
      "  kernel='rbf', max_iter=-1, probability=True, random_state=17,\n",
      "  shrinking=True, tol=0.001, verbose=False)\n",
      "Fold: 0\n",
      "Fold: 1\n",
      "Fold: 2\n",
      "Fold: 3\n",
      "Fold: 4\n",
      "5 RandomForestClassifier(bootstrap=True, class_weight=None, criterion='gini',\n",
      "            max_depth=None, max_features='auto', max_leaf_nodes=None,\n",
      "            min_impurity_decrease=0.0, min_impurity_split=None,\n",
      "            min_samples_leaf=1, min_samples_split=2,\n",
      "            min_weight_fraction_leaf=0.0, n_estimators=100, n_jobs=-1,\n",
      "            oob_score=False, random_state=None, verbose=0,\n",
      "            warm_start=False)\n",
      "Fold: 0\n",
      "Fold: 1\n",
      "Fold: 2\n",
      "Fold: 3\n",
      "Fold: 4\n",
      "6 ExtraTreesClassifier(bootstrap=False, class_weight=None, criterion='entropy',\n",
      "           max_depth=None, max_features='auto', max_leaf_nodes=None,\n",
      "           min_impurity_decrease=0.0, min_impurity_split=None,\n",
      "           min_samples_leaf=1, min_samples_split=2,\n",
      "           min_weight_fraction_leaf=0.0, n_estimators=100, n_jobs=-1,\n",
      "           oob_score=False, random_state=None, verbose=0, warm_start=False)\n",
      "Fold: 0\n",
      "Fold: 1\n",
      "Fold: 2\n",
      "Fold: 3\n",
      "Fold: 4\n",
      "7 GradientBoostingClassifier(criterion='friedman_mse', init=None,\n",
      "              learning_rate=0.05, loss='deviance', max_depth=3,\n",
      "              max_features=None, max_leaf_nodes=None,\n",
      "              min_impurity_decrease=0.0, min_impurity_split=None,\n",
      "              min_samples_leaf=1, min_samples_split=2,\n",
      "              min_weight_fraction_leaf=0.0, n_estimators=100,\n",
      "              n_iter_no_change=None, presort='auto', random_state=None,\n",
      "              subsample=0.8, tol=0.0001, validation_fraction=0.1,\n",
      "              verbose=0, warm_start=False)\n",
      "Fold: 0\n",
      "Fold: 1\n",
      "Fold: 2\n",
      "Fold: 3\n",
      "Fold: 4\n"
     ]
    }
   ],
   "source": [
    "dataset_stack_train, dataset_stack_test = stack(clfs)"
   ]
  },
  {
   "cell_type": "code",
   "execution_count": 226,
   "metadata": {},
   "outputs": [
    {
     "data": {
      "text/plain": [
       "(253561, 8)"
      ]
     },
     "execution_count": 226,
     "metadata": {},
     "output_type": "execute_result"
    }
   ],
   "source": [
    "dataset_stack_train.shape"
   ]
  },
  {
   "cell_type": "markdown",
   "metadata": {},
   "source": [
    "#### Попробуем обучить логистическую регрессию только на данных метапризнаках"
   ]
  },
  {
   "cell_type": "code",
   "execution_count": 227,
   "metadata": {},
   "outputs": [],
   "source": [
    "clf = LogisticRegression(n_jobs=-1, random_state=42)"
   ]
  },
  {
   "cell_type": "code",
   "execution_count": 255,
   "metadata": {},
   "outputs": [
    {
     "name": "stdout",
     "output_type": "stream",
     "text": [
      "ROC AUC score:  0.9949\n"
     ]
    }
   ],
   "source": [
    "score = cross_val_score(estimator=clf, X=dataset_stack_train, y=y, cv=skf, scoring='roc_auc').mean()\n",
    "print('ROC AUC score: ', round(score, 4))"
   ]
  },
  {
   "cell_type": "code",
   "execution_count": 253,
   "metadata": {},
   "outputs": [],
   "source": [
    "train_share = int(.7 * X_train_sparse.shape[0])\n",
    "X_train, y_train = dataset_stack_train[:train_share, :], y[:train_share]\n",
    "X_valid, y_valid  = dataset_stack_train[train_share:, :], y[train_share:]"
   ]
  },
  {
   "cell_type": "code",
   "execution_count": 254,
   "metadata": {},
   "outputs": [
    {
     "data": {
      "text/plain": [
       "0.992"
      ]
     },
     "execution_count": 254,
     "metadata": {},
     "output_type": "execute_result"
    }
   ],
   "source": [
    "clf.fit(X_train, y_train)\n",
    "pred1 = clf.predict_proba(X_valid)[:, 1]\n",
    "round(roc_auc_score(y_valid, pred1), 3)"
   ]
  },
  {
   "cell_type": "markdown",
   "metadata": {},
   "source": [
    "#### Результат неплохой, посмотрим на качество на лидерборде"
   ]
  },
  {
   "cell_type": "code",
   "execution_count": 230,
   "metadata": {},
   "outputs": [],
   "source": [
    "clf.fit(dataset_stack_train, y)\n",
    "y_submission = clf.predict_proba(dataset_stack_test)[:, 1]"
   ]
  },
  {
   "cell_type": "code",
   "execution_count": 234,
   "metadata": {},
   "outputs": [
    {
     "data": {
      "text/plain": [
       "array([0.00083426, 0.00080935, 0.00080934, ..., 0.00081566, 0.00080941,\n",
       "       0.00080935])"
      ]
     },
     "execution_count": 234,
     "metadata": {},
     "output_type": "execute_result"
    }
   ],
   "source": [
    "y_submission"
   ]
  },
  {
   "cell_type": "code",
   "execution_count": 235,
   "metadata": {},
   "outputs": [],
   "source": [
    "write_to_submission_file(y_submission, 'Alice11')"
   ]
  },
  {
   "cell_type": "markdown",
   "metadata": {},
   "source": [
    "#### Качество на лидерборде - 0.91373.\n",
    "#### Попробуем теперь данные метапризнаки добавить к имеющейся обучающей выборке"
   ]
  },
  {
   "cell_type": "code",
   "execution_count": 273,
   "metadata": {},
   "outputs": [],
   "source": [
    "X_full_train = hstack([X_train_sparse, dataset_stack_train])\n",
    "X_full_test = hstack([X_test_sparse, dataset_stack_test])"
   ]
  },
  {
   "cell_type": "code",
   "execution_count": 260,
   "metadata": {},
   "outputs": [
    {
     "name": "stdout",
     "output_type": "stream",
     "text": [
      "ROC AUC score:  0.9964\n"
     ]
    }
   ],
   "source": [
    "score = cross_val_score(estimator=clf, X=X_full_train, y=y, cv=skf, scoring='roc_auc').mean()\n",
    "print('ROC AUC score: ', round(score, 4))"
   ]
  },
  {
   "cell_type": "code",
   "execution_count": 248,
   "metadata": {},
   "outputs": [],
   "source": [
    "clf = LogisticRegression(n_jobs=-1, random_state=42)\n",
    "clf.fit(X_full_train, y)\n",
    "y_submission = clf.predict_proba(X_full_test)[:, 1]"
   ]
  },
  {
   "cell_type": "code",
   "execution_count": 256,
   "metadata": {},
   "outputs": [
    {
     "data": {
      "text/plain": [
       "array([2.90735130e-05, 1.32867920e-07, 1.13056457e-07, ...,\n",
       "       1.76227970e-04, 7.00498235e-06, 1.59926884e-08])"
      ]
     },
     "execution_count": 256,
     "metadata": {},
     "output_type": "execute_result"
    }
   ],
   "source": [
    "y_submission"
   ]
  },
  {
   "cell_type": "code",
   "execution_count": 257,
   "metadata": {},
   "outputs": [],
   "source": [
    "write_to_submission_file(y_submission, 'Alice11')"
   ]
  },
  {
   "cell_type": "markdown",
   "metadata": {},
   "source": [
    "#### Качество на лидерборде - 0.94216. Значение ROC AUC близко к лучшему значению, которого удалось достичь. Однако, получается, что таким образом качество ансамбля близко, но не превосходит качества лучшей модели.\n",
    "#### При большем количестве времени на задачу можно было бы попробовать данные модели обучить на разных поднаборах признаков."
   ]
  },
  {
   "cell_type": "markdown",
   "metadata": {},
   "source": [
    "### Заключение. \n",
    "#### Еще было опробовано:\n",
    "- блендинг ответов бустинга и логистической регрессии, \n",
    "- выделение главных компонент и обучение на них простой нейросети, \n",
    "- различные кодировки категориальных признаков (Mean_encoding withot regularization, Smoothing regularization, Expanding regularization) - данные методы с имеющимся набором признаков так и не помогли значительно повысить оценку на лидерборде. Вероятнее всего, самый эффективный способ в данной задаче - генерация большего количества вариативных признаков.\n",
    "## Сдаю эту задачу с окончательной оценкой на лидерборде - 0.94698, позиция - 1403, ID на Kaggle - Elena Margatckaia."
   ]
  },
  {
   "cell_type": "markdown",
   "metadata": {},
   "source": [
    "## Критерии оценки работы (только для Peer Review в специализации):\n",
    "- Правильные ли получились размерности матриц в п. 1? (max. 2 балла)\n",
    "- Правильным ли получилось значения ROC AUC в п. 2? (max. 4 балла)\n",
    "- Побит ли бенчмарк \"sgd_logit_benchmark.csv\" на публичной части рейтинга в соревновании Kaggle? (max. 2 балла)\n",
    "- Побит ли бенчмарк \"Logit +3 features\" на публичной части рейтинга в соревновании Kaggle? (max. 2 балла)"
   ]
  },
  {
   "cell_type": "markdown",
   "metadata": {
    "collapsed": true
   },
   "source": [
    "## Пути улучшения\n",
    "На этой неделе дается много времени на соревнование. Не забывайте вносить хорошие идеи, к которым Вы пришли по ходу соревнования, в описание финального проекта (`html`, `pdf` или `ipynb`). Это только в случае, если вы проходите специализацию.\n",
    "Что можно попробовать:\n",
    " - Использовать ранее построенные признаки для улучшения модели (проверить их можно на меньшей выборке по 150 пользователям, отделив одного из пользователей от остальных – это быстрее)\n",
    " - Настроить параметры моделей (например, коэффициенты регуляризации)\n",
    " - Если позволяют мощности (или хватает терпения), можно попробовать смешивание (блендинг) ответов бустинга и линейной модели. [Вот](http://mlwave.com/kaggle-ensembling-guide/) один из самых известных тьюториалов по смешиванию ответов алгоритмов, также хороша [статья](https://alexanderdyakonov.wordpress.com/2017/03/10/cтекинг-stacking-и-блендинг-blending) Александра Дьяконова\n",
    " - Обратите внимание, что в соревновании также даны исходные данные о посещенных веб-страницах Элис и остальными 1557 пользователями (*train.zip*). По этим данным можно сформировать свою обучающую выборку. \n",
    "\n",
    "На 6 неделе мы пройдем большой тьюториал по Vowpal Wabbit и попробуем его в деле, на данных соревнования."
   ]
  }
 ],
 "metadata": {
  "kernelspec": {
   "display_name": "Python 3",
   "language": "python",
   "name": "python3"
  },
  "language_info": {
   "codemirror_mode": {
    "name": "ipython",
    "version": 3
   },
   "file_extension": ".py",
   "mimetype": "text/x-python",
   "name": "python",
   "nbconvert_exporter": "python",
   "pygments_lexer": "ipython3",
   "version": "3.6.4"
  }
 },
 "nbformat": 4,
 "nbformat_minor": 1
}
