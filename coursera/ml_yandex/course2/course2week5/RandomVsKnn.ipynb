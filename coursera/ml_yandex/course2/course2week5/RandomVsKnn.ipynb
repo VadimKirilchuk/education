{
 "cells": [
  {
   "cell_type": "code",
   "execution_count": 25,
   "metadata": {},
   "outputs": [
    {
     "name": "stdout",
     "output_type": "stream",
     "text": [
      "0.06888888888888889\n",
      "0.0377777777777778\n"
     ]
    }
   ],
   "source": [
    "from sklearn import datasets, model_selection, cross_validation\n",
    "from sklearn.metrics import accuracy_score\n",
    "from sklearn.neighbors import KNeighborsClassifier\n",
    "from sklearn.ensemble import RandomForestClassifier\n",
    "import numpy as np\n",
    "from numpy.linalg import norm\n",
    "\n",
    "digits = datasets.load_digits()\n",
    "X = digits.data\n",
    "y = digits.target\n",
    "\n",
    "X_train, X_test, y_train, y_test = model_selection.train_test_split(X, y, shuffle=False, test_size=0.25)\n",
    "\n",
    "def closest(x):\n",
    "    label = -1\n",
    "    dist = 9999999\n",
    "    for index, vector in enumerate(X_train):\n",
    "        newDist = norm(vector-x)\n",
    "        if (newDist < dist):\n",
    "            label = y_train[index]\n",
    "            dist = newDist\n",
    "    return label\n",
    "\n",
    "def neigboorPredict(X):\n",
    "    result = np.zeros(len(X))\n",
    "    for index, x in enumerate(X):\n",
    "        result[index] = closest(x)\n",
    "    return result\n",
    "\n",
    "forest = RandomForestClassifier(n_estimators=1000)\n",
    "forest.fit(X_train, y_train)\n",
    "score = accuracy_score(y_test, forest.predict(X_test))\n",
    "print(1 - score)\n",
    "\n",
    "score2 = accuracy_score(y_test, neigboorPredict(X_test))\n",
    "print(1 - score2)"
   ]
  }
 ],
 "metadata": {
  "kernelspec": {
   "display_name": "Python 3",
   "language": "python",
   "name": "python3"
  },
  "language_info": {
   "codemirror_mode": {
    "name": "ipython",
    "version": 3
   },
   "file_extension": ".py",
   "mimetype": "text/x-python",
   "name": "python",
   "nbconvert_exporter": "python",
   "pygments_lexer": "ipython3",
   "version": "3.6.4"
  }
 },
 "nbformat": 4,
 "nbformat_minor": 2
}
