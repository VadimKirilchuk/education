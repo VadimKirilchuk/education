{
 "cells": [
  {
   "cell_type": "code",
   "execution_count": 20,
   "metadata": {},
   "outputs": [
    {
     "name": "stdout",
     "output_type": "stream",
     "text": [
      "\n",
      "\n",
      "digits BernoulliNB(alpha=1.0, binarize=0.0, class_prior=None, fit_prior=True) 0.8258236507780582\n",
      "digits GaussianNB(priors=None) 0.8186003803550138\n",
      "digits MultinomialNB(alpha=1.0, class_prior=None, fit_prior=True) 0.8708771489735053\n",
      "\n",
      "\n",
      "cancer BernoulliNB(alpha=1.0, binarize=0.0, class_prior=None, fit_prior=True) 0.6274204028589994\n",
      "cancer GaussianNB(priors=None) 0.9367492806089297\n",
      "cancer MultinomialNB(alpha=1.0, class_prior=None, fit_prior=True) 0.8945790401930752\n"
     ]
    }
   ],
   "source": [
    "from sklearn import datasets, model_selection, cross_validation\n",
    "from sklearn.naive_bayes import BernoulliNB, GaussianNB, MultinomialNB\n",
    "\n",
    "digits = datasets.load_digits()\n",
    "cancer = datasets.load_breast_cancer()\n",
    "\n",
    "#print(digits.DESCR)\n",
    "#print(cancer.DESCR)\n",
    "\n",
    "digits_X = digits.data\n",
    "digits_y = digits.target\n",
    "\n",
    "cancer_X = cancer.data\n",
    "cancer_y = cancer.target\n",
    "\n",
    "for descr, X, y in [('digits', digits_X, digits_y), ('cancer', cancer_X, cancer_y)]:\n",
    "    print('\\n')\n",
    "    for model in [BernoulliNB(), GaussianNB(), MultinomialNB()]:\n",
    "        val = cross_validation.cross_val_score(model, X, y).mean()\n",
    "        print(descr, model, val)"
   ]
  },
  {
   "cell_type": "code",
   "execution_count": null,
   "metadata": {},
   "outputs": [],
   "source": []
  }
 ],
 "metadata": {
  "kernelspec": {
   "display_name": "Python 3",
   "language": "python",
   "name": "python3"
  },
  "language_info": {
   "codemirror_mode": {
    "name": "ipython",
    "version": 3
   },
   "file_extension": ".py",
   "mimetype": "text/x-python",
   "name": "python",
   "nbconvert_exporter": "python",
   "pygments_lexer": "ipython3",
   "version": "3.6.4"
  }
 },
 "nbformat": 4,
 "nbformat_minor": 2
}
