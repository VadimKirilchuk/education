{
 "cells": [
  {
   "cell_type": "code",
   "execution_count": 48,
   "metadata": {},
   "outputs": [],
   "source": [
    "from sklearn import datasets, cross_validation\n",
    "from sklearn.tree import DecisionTreeClassifier \n",
    "\n",
    "digits = datasets.load_digits()\n",
    "X = digits.data\n",
    "y = digits.target\n",
    "\n",
    "classifier = DecisionTreeClassifier()\n",
    "result1 = cross_validation.cross_val_score(classifier, X, y, cv=10).mean()\n",
    "\n",
    "def write(task_number, result): \n",
    "    with open(f\"{task_number}.ans\", \"w\") as f:\n",
    "        f.write(str(result))\n",
    "        \n",
    "write(1, result1)"
   ]
  },
  {
   "cell_type": "code",
   "execution_count": 51,
   "metadata": {},
   "outputs": [],
   "source": [
    "from sklearn.ensemble import BaggingClassifier\n",
    "\n",
    "baggingClassifier = BaggingClassifier(classifier, n_estimators=100)\n",
    "result2 = cross_validation.cross_val_score(baggingClassifier, X, y, cv=10, n_jobs=4).mean()\n",
    "\n",
    "write(2, result2)"
   ]
  },
  {
   "cell_type": "code",
   "execution_count": 57,
   "metadata": {},
   "outputs": [],
   "source": [
    "from sklearn.ensemble import BaggingClassifier\n",
    "from math import sqrt\n",
    "\n",
    "sqrt_d = int(sqrt(X.shape[1]))\n",
    "\n",
    "baggingClassifier = BaggingClassifier(classifier, n_estimators=100, max_features=sqrt_d)\n",
    "result3 = cross_validation.cross_val_score(baggingClassifier, X, y, cv=10, n_jobs=4).mean()\n",
    "\n",
    "write(3, result3)"
   ]
  },
  {
   "cell_type": "code",
   "execution_count": 75,
   "metadata": {},
   "outputs": [],
   "source": [
    "from sklearn.ensemble import BaggingClassifier\n",
    "from math import sqrt\n",
    "\n",
    "sqrt_d = int(sqrt(X.shape[1]))\n",
    "\n",
    "classifier = DecisionTreeClassifier(max_features=sqrt_d)\n",
    "baggingClassifier = BaggingClassifier(classifier, n_estimators=100)\n",
    "result4 = cross_validation.cross_val_score(baggingClassifier, X, y, cv=10, n_jobs=4).mean()\n",
    "\n",
    "write(4, result4)"
   ]
  },
  {
   "cell_type": "code",
   "execution_count": 83,
   "metadata": {},
   "outputs": [
    {
     "data": {
      "text/plain": [
       "[<matplotlib.lines.Line2D at 0x870bab5470>]"
      ]
     },
     "execution_count": 83,
     "metadata": {},
     "output_type": "execute_result"
    },
    {
     "data": {
      "image/png": "[encoded data removed]",
      "text/plain": [
       "<matplotlib.figure.Figure at 0x870b1e0860>"
      ]
     },
     "metadata": {},
     "output_type": "display_data"
    }
   ],
   "source": [
    "from sklearn.ensemble import RandomForestClassifier\n",
    "from math import sqrt\n",
    "from matplotlib import pyplot as plt\n",
    "\n",
    "sqrt_d = int(sqrt(X.shape[1]))\n",
    "\n",
    "n_estimators = 100\n",
    "max_features = sqrt_d\n",
    "max_depth = None\n",
    "\n",
    "def estimate(n_estimators, max_features, max_depth):\n",
    "    classifier = RandomForestClassifier(n_estimators=n_estimators, max_features=max_features, max_depth=max_depth)\n",
    "    return cross_validation.cross_val_score(classifier, X, y, cv=10, n_jobs=4).mean()\n",
    "\n",
    "estimators = range(1, 500, 25)\n",
    "plt.plot(estimators, list(map(lambda x: estimate(n_estimators, max_features, x), estimators)))"
   ]
  },
  {
   "cell_type": "code",
   "execution_count": null,
   "metadata": {},
   "outputs": [],
   "source": []
  }
 ],
 "metadata": {
  "kernelspec": {
   "display_name": "Python 3",
   "language": "python",
   "name": "python3"
  },
  "language_info": {
   "codemirror_mode": {
    "name": "ipython",
    "version": 3
   },
   "file_extension": ".py",
   "mimetype": "text/x-python",
   "name": "python",
   "nbconvert_exporter": "python",
   "pygments_lexer": "ipython3",
   "version": "3.6.4"
  }
 },
 "nbformat": 4,
 "nbformat_minor": 2
}
