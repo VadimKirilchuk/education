{
 "cells": [
  {
   "cell_type": "code",
   "execution_count": 11,
   "metadata": {},
   "outputs": [
    {
     "name": "stdout",
     "output_type": "stream",
     "text": [
      "[0.         0.95275444 0.86447381 0.89517152 0.77708871 0.94023857\n",
      " 0.73273876 0.92587507 0.88427249 0.90550888 0.83281654 0.88047714\n",
      " 0.83964325 0.87035926 0.87401184 0.94427218 0.84063619 0.9566445\n",
      " 0.94427218 0.88854436 0.84275727 0.82503645]\n",
      "[ 0  6  4 21 10 12 16 20  2 13 14 11  8 19  3  9  7  5 15 18  1 17]\n",
      "6\n",
      "4\n",
      "0.7327387580875756\n",
      "0.7770887149698589\n"
     ]
    }
   ],
   "source": [
    "import numpy as np;\n",
    "import scipy as sci; \n",
    "import pandas as pd;\n",
    "import itertools;\n",
    "import re;\n",
    "from scipy import spatial;\n",
    "\n",
    "with open('cat.txt', 'r') as f:\n",
    "    lines = f.readlines()\n",
    "        \n",
    "lines = list(map(lambda x : re.split('[^a-z]', x[:-2].lower()), lines))\n",
    "\n",
    "unique = set(filter(None, itertools.chain(*lines)))\n",
    "\n",
    "counts = dict()\n",
    "for index, word in enumerate(unique):\n",
    "  counts[word] = index\n",
    "\n",
    "data = np.zeros(shape=(len(lines),len(counts)))\n",
    "for lineIndex, line in enumerate(lines):\n",
    "  for wordIndex, word in enumerate(counts):\n",
    "    data[lineIndex][wordIndex] = line.count(word)\n",
    "\n",
    "cos = np.empty(len(lines))\n",
    "for lineIndex, line in enumerate(lines):\n",
    "  cos[lineIndex] = spatial.distance.cosine(data[0], data[lineIndex])     \n",
    "\n",
    "print(cos)\n",
    "print(cos.argsort())\n",
    "print(cos.argsort()[1])\n",
    "print(cos.argsort()[2])\n",
    "print(cos[6])\n",
    "print(cos[4])"
   ]
  },
  {
   "cell_type": "code",
   "execution_count": 48,
   "metadata": {},
   "outputs": [
    {
     "name": "stdout",
     "output_type": "stream",
     "text": [
      "      fun: array([-11])\n",
      " hess_inv: array([[1]])\n",
      "      jac: array([0.])\n",
      "  message: 'Optimization terminated successfully.'\n",
      "     nfev: 3\n",
      "      nit: 0\n",
      "     njev: 1\n",
      "   status: 0\n",
      "  success: True\n",
      "        x: array([25.])\n",
      "[-11]\n"
     ]
    },
    {
     "data": {
      "image/png": "[encoded data removed]",
      "text/plain": [
       "<matplotlib.figure.Figure at 0x57272b25f8>"
      ]
     },
     "metadata": {},
     "output_type": "display_data"
    }
   ],
   "source": [
    "%matplotlib inline\n",
    "\n",
    "import numpy as np;\n",
    "import math;\n",
    "import matplotlib.pyplot as plt;\n",
    "from scipy import optimize;\n",
    "\n",
    "def f(x):\n",
    "    return np.sin(x / 5) * np.exp(x / 10) + 5 * np.exp(-x / 2)\n",
    "    \n",
    "def h(x):\n",
    "    return f(x).astype(int)    \n",
    "    \n",
    "x = np.linspace(1, 30, 100)\n",
    "plt.plot(x, f(x))\n",
    "plt.plot(x, h(x))\n",
    "\n",
    "x0 = np.array([25])\n",
    "res = optimize.minimize(h, x0, method='BFGS')\n",
    "print(res)\n",
    "print(res.fun)"
   ]
  },
  {
   "cell_type": "code",
   "execution_count": 191,
   "metadata": {},
   "outputs": [
    {
     "name": "stdout",
     "output_type": "stream",
     "text": [
      "[[ 1  2  3  4  5  6  7  8  9 10]\n",
      " [ 1  2  3  4  5  6  7  8  9 10]\n",
      " [ 1  2  3  4  5  6  7  8  9 10]\n",
      " [ 1  2  3  4  5  6  7  8  9 10]]\n",
      "[ 6 12 18 24 30 36 42 48 54 60]\n"
     ]
    }
   ],
   "source": [
    "import numpy as np    \n",
    "\n",
    "solve = np.array([0,1,2,3])\n",
    "x = np.tile(np.array([1,2,3,4,5,6,7,8,9,10]), (4,1))\n",
    "print(x)\n",
    "matrix = solve.dot(x)\n",
    "    \n",
    "print(matrix)"
   ]
  },
  {
   "cell_type": "code",
   "execution_count": 86,
   "metadata": {},
   "outputs": [
    {
     "data": {
      "text/plain": [
       "array([3, 3, 3, 3, 3, 3, 3, 3, 3, 3])"
      ]
     },
     "execution_count": 86,
     "metadata": {},
     "output_type": "execute_result"
    }
   ],
   "source": [
    "np.full(10, 3)"
   ]
  },
  {
   "cell_type": "code",
   "execution_count": null,
   "metadata": {},
   "outputs": [],
   "source": []
  }
 ],
 "metadata": {
  "kernelspec": {
   "display_name": "Python 3",
   "language": "python",
   "name": "python3"
  },
  "language_info": {
   "codemirror_mode": {
    "name": "ipython",
    "version": 3
   },
   "file_extension": ".py",
   "mimetype": "text/x-python",
   "name": "python",
   "nbconvert_exporter": "python",
   "pygments_lexer": "ipython3",
   "version": "3.6.4"
  }
 },
 "nbformat": 4,
 "nbformat_minor": 2
}
