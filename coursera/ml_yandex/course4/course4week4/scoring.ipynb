{
 "cells": [
  {
   "cell_type": "markdown",
   "metadata": {},
   "source": [
    "# Credit scoring"
   ]
  },
  {
   "cell_type": "code",
   "execution_count": 1,
   "metadata": {},
   "outputs": [
    {
     "name": "stdout",
     "output_type": "stream",
     "text": [
      "Populating the interactive namespace from numpy and matplotlib\n"
     ]
    }
   ],
   "source": [
    "import pandas as pd\n",
    "import numpy as np\n",
    "from scipy.stats import chi2_contingency\n",
    "\n",
    "%pylab inline\n",
    "%matplotlib inline  "
   ]
  },
  {
   "cell_type": "code",
   "execution_count": 2,
   "metadata": {},
   "outputs": [
    {
     "data": {
      "text/html": [
       "<div>\n",
       "<style scoped>\n",
       "    .dataframe tbody tr th:only-of-type {\n",
       "        vertical-align: middle;\n",
       "    }\n",
       "\n",
       "    .dataframe tbody tr th {\n",
       "        vertical-align: top;\n",
       "    }\n",
       "\n",
       "    .dataframe thead th {\n",
       "        text-align: right;\n",
       "    }\n",
       "</style>\n",
       "<table border=\"1\" class=\"dataframe\">\n",
       "  <thead>\n",
       "    <tr style=\"text-align: right;\">\n",
       "      <th></th>\n",
       "      <th>ID</th>\n",
       "      <th>LIMIT_BAL</th>\n",
       "      <th>SEX</th>\n",
       "      <th>EDUCATION</th>\n",
       "      <th>MARRIAGE</th>\n",
       "      <th>AGE</th>\n",
       "      <th>PAY_0</th>\n",
       "      <th>PAY_2</th>\n",
       "      <th>PAY_3</th>\n",
       "      <th>PAY_4</th>\n",
       "      <th>...</th>\n",
       "      <th>BILL_AMT4</th>\n",
       "      <th>BILL_AMT5</th>\n",
       "      <th>BILL_AMT6</th>\n",
       "      <th>PAY_AMT1</th>\n",
       "      <th>PAY_AMT2</th>\n",
       "      <th>PAY_AMT3</th>\n",
       "      <th>PAY_AMT4</th>\n",
       "      <th>PAY_AMT5</th>\n",
       "      <th>PAY_AMT6</th>\n",
       "      <th>default</th>\n",
       "    </tr>\n",
       "  </thead>\n",
       "  <tbody>\n",
       "    <tr>\n",
       "      <th>0</th>\n",
       "      <td>1</td>\n",
       "      <td>20000</td>\n",
       "      <td>2</td>\n",
       "      <td>2</td>\n",
       "      <td>1</td>\n",
       "      <td>24</td>\n",
       "      <td>2</td>\n",
       "      <td>2</td>\n",
       "      <td>0</td>\n",
       "      <td>0</td>\n",
       "      <td>...</td>\n",
       "      <td>0</td>\n",
       "      <td>0</td>\n",
       "      <td>0</td>\n",
       "      <td>0</td>\n",
       "      <td>689</td>\n",
       "      <td>0</td>\n",
       "      <td>0</td>\n",
       "      <td>0</td>\n",
       "      <td>0</td>\n",
       "      <td>1</td>\n",
       "    </tr>\n",
       "    <tr>\n",
       "      <th>1</th>\n",
       "      <td>2</td>\n",
       "      <td>120000</td>\n",
       "      <td>2</td>\n",
       "      <td>2</td>\n",
       "      <td>2</td>\n",
       "      <td>26</td>\n",
       "      <td>0</td>\n",
       "      <td>2</td>\n",
       "      <td>0</td>\n",
       "      <td>0</td>\n",
       "      <td>...</td>\n",
       "      <td>3272</td>\n",
       "      <td>3455</td>\n",
       "      <td>3261</td>\n",
       "      <td>0</td>\n",
       "      <td>1000</td>\n",
       "      <td>1000</td>\n",
       "      <td>1000</td>\n",
       "      <td>0</td>\n",
       "      <td>2000</td>\n",
       "      <td>1</td>\n",
       "    </tr>\n",
       "    <tr>\n",
       "      <th>2</th>\n",
       "      <td>3</td>\n",
       "      <td>90000</td>\n",
       "      <td>2</td>\n",
       "      <td>2</td>\n",
       "      <td>2</td>\n",
       "      <td>34</td>\n",
       "      <td>0</td>\n",
       "      <td>0</td>\n",
       "      <td>0</td>\n",
       "      <td>0</td>\n",
       "      <td>...</td>\n",
       "      <td>14331</td>\n",
       "      <td>14948</td>\n",
       "      <td>15549</td>\n",
       "      <td>1518</td>\n",
       "      <td>1500</td>\n",
       "      <td>1000</td>\n",
       "      <td>1000</td>\n",
       "      <td>1000</td>\n",
       "      <td>5000</td>\n",
       "      <td>0</td>\n",
       "    </tr>\n",
       "    <tr>\n",
       "      <th>3</th>\n",
       "      <td>4</td>\n",
       "      <td>50000</td>\n",
       "      <td>2</td>\n",
       "      <td>2</td>\n",
       "      <td>1</td>\n",
       "      <td>37</td>\n",
       "      <td>0</td>\n",
       "      <td>0</td>\n",
       "      <td>0</td>\n",
       "      <td>0</td>\n",
       "      <td>...</td>\n",
       "      <td>28314</td>\n",
       "      <td>28959</td>\n",
       "      <td>29547</td>\n",
       "      <td>2000</td>\n",
       "      <td>2019</td>\n",
       "      <td>1200</td>\n",
       "      <td>1100</td>\n",
       "      <td>1069</td>\n",
       "      <td>1000</td>\n",
       "      <td>0</td>\n",
       "    </tr>\n",
       "    <tr>\n",
       "      <th>4</th>\n",
       "      <td>5</td>\n",
       "      <td>50000</td>\n",
       "      <td>1</td>\n",
       "      <td>2</td>\n",
       "      <td>1</td>\n",
       "      <td>57</td>\n",
       "      <td>0</td>\n",
       "      <td>0</td>\n",
       "      <td>0</td>\n",
       "      <td>0</td>\n",
       "      <td>...</td>\n",
       "      <td>20940</td>\n",
       "      <td>19146</td>\n",
       "      <td>19131</td>\n",
       "      <td>2000</td>\n",
       "      <td>36681</td>\n",
       "      <td>10000</td>\n",
       "      <td>9000</td>\n",
       "      <td>689</td>\n",
       "      <td>679</td>\n",
       "      <td>0</td>\n",
       "    </tr>\n",
       "  </tbody>\n",
       "</table>\n",
       "<p>5 rows × 25 columns</p>\n",
       "</div>"
      ],
      "text/plain": [
       "   ID  LIMIT_BAL  SEX  EDUCATION  MARRIAGE  AGE  PAY_0  PAY_2  PAY_3  PAY_4  \\\n",
       "0   1      20000    2          2         1   24      2      2      0      0   \n",
       "1   2     120000    2          2         2   26      0      2      0      0   \n",
       "2   3      90000    2          2         2   34      0      0      0      0   \n",
       "3   4      50000    2          2         1   37      0      0      0      0   \n",
       "4   5      50000    1          2         1   57      0      0      0      0   \n",
       "\n",
       "    ...     BILL_AMT4  BILL_AMT5  BILL_AMT6  PAY_AMT1  PAY_AMT2  PAY_AMT3  \\\n",
       "0   ...             0          0          0         0       689         0   \n",
       "1   ...          3272       3455       3261         0      1000      1000   \n",
       "2   ...         14331      14948      15549      1518      1500      1000   \n",
       "3   ...         28314      28959      29547      2000      2019      1200   \n",
       "4   ...         20940      19146      19131      2000     36681     10000   \n",
       "\n",
       "   PAY_AMT4  PAY_AMT5  PAY_AMT6  default  \n",
       "0         0         0         0        1  \n",
       "1      1000         0      2000        1  \n",
       "2      1000      1000      5000        0  \n",
       "3      1100      1069      1000        0  \n",
       "4      9000       689       679        0  \n",
       "\n",
       "[5 rows x 25 columns]"
      ]
     },
     "execution_count": 2,
     "metadata": {},
     "output_type": "execute_result"
    }
   ],
   "source": [
    "credit_data = pd.read_csv(\"credit_card.csv\")\n",
    "returned_data = credit_data[credit_data.default == 0]\n",
    "not_returned_data = credit_data[credit_data.default == 1]\n",
    "credit_data.head()"
   ]
  },
  {
   "cell_type": "code",
   "execution_count": 3,
   "metadata": {},
   "outputs": [
    {
     "name": "stdout",
     "output_type": "stream",
     "text": [
      "Size of returned credit data 23364\n",
      "Size of not returned credit data 6636\n"
     ]
    }
   ],
   "source": [
    "print(f\"Size of returned credit data {len(returned_data)}\")\n",
    "print(f\"Size of not returned credit data {len(not_returned_data)}\")"
   ]
  },
  {
   "cell_type": "markdown",
   "metadata": {},
   "source": [
    "### Task1: LIMIT_BAL"
   ]
  },
  {
   "cell_type": "markdown",
   "metadata": {},
   "source": [
    "### Part a"
   ]
  },
  {
   "cell_type": "code",
   "execution_count": 4,
   "metadata": {},
   "outputs": [
    {
     "data": {
      "image/png": "[encoded data removed]",
      "text/plain": [
       "<matplotlib.figure.Figure at 0xb3edf16dd8>"
      ]
     },
     "metadata": {},
     "output_type": "display_data"
    }
   ],
   "source": [
    "pylab.figure(figsize=(12,12))\n",
    "pylab.subplot(2,2,1)\n",
    "pylab.hist(returned_data.LIMIT_BAL, bins=20, label=\"Returned LIMIT\", color=\"g\", range=(0, 1000000))\n",
    "pylab.legend()\n",
    "\n",
    "pylab.subplot(2,2,2)\n",
    "pylab.hist(not_returned_data.LIMIT_BAL, bins=20, label=\"Not returned LIMIT\", color=\"r\", range=(0, 1000000))\n",
    "pylab.legend()\n",
    "\n",
    "pylab.subplot(2,2,3)\n",
    "pylab.boxplot(returned_data.LIMIT_BAL, notch=True, bootstrap=1000, labels=['Returned limit'])\n",
    "pylab.ylim(0, 500000)\n",
    "\n",
    "pylab.subplot(2,2,4)\n",
    "pylab.boxplot(not_returned_data.LIMIT_BAL, notch=True, bootstrap=1000,labels=['Not returned limit'])\n",
    "pylab.ylim(0, 500000)\n",
    "pylab.show()"
   ]
  },
  {
   "cell_type": "markdown",
   "metadata": {},
   "source": [
    "The groups size is different, so we can see higher values on the Returned limit histogram, however overall distributions look very similar. There are not much people with huge limits, and most of the people have limit between 0 and 4000000. \n",
    "For returned limit histogram there are less limits around zero and more limits between 200000 and 600000 if we compare to the not-returned limits. It's not a good idea to compare medians looking at histograms, let's check pointwise and interval differences. \n",
    "\n",
    "Also provided additional boxplots which are using bootstrap internally, those plots are much better to look at. We can observe that returned group limit median is higher, but let's proceed with more formal methods."
   ]
  },
  {
   "cell_type": "code",
   "execution_count": 5,
   "metadata": {},
   "outputs": [],
   "source": [
    "def get_bootstrap_samples(data, n_samples):\n",
    "    indices = np.random.randint(0, len(data), (n_samples, len(data)))\n",
    "    samples = data[indices]\n",
    "    return samples\n",
    "\n",
    "def stat_intervals(stat, alpha):\n",
    "    boundaries = np.percentile(stat, [100 * alpha / 2., 100 * (1 - alpha / 2.)])\n",
    "    return boundaries"
   ]
  },
  {
   "cell_type": "code",
   "execution_count": 6,
   "metadata": {},
   "outputs": [],
   "source": [
    "# get values first\n",
    "returned_balance_values     = returned_data.LIMIT_BAL.values\n",
    "not_returned_balance_values = not_returned_data.LIMIT_BAL.values\n",
    "\n",
    "returned_balance_median_scores     = list(map(np.median, get_bootstrap_samples(returned_balance_values, 1000)))\n",
    "not_returned_balance_median_scores = list(map(np.median, get_bootstrap_samples(not_returned_balance_values, 1000)))"
   ]
  },
  {
   "cell_type": "code",
   "execution_count": 7,
   "metadata": {},
   "outputs": [
    {
     "name": "stdout",
     "output_type": "stream",
     "text": [
      "Pointwise difference between medians: 60000.0\n",
      "95% confidence interval for the returned group limit [150000. 150000.]\n",
      "95% confidence interval for the not returned group limit [80000. 90000.]\n",
      "\n",
      "95% confidence interval for the difference between medians [60000. 70000.]\n"
     ]
    }
   ],
   "source": [
    "# Pointwise\n",
    "print(\"Pointwise difference between medians:\", np.median(returned_balance_values) - np.median(not_returned_balance_values))\n",
    "\n",
    "# Confidence interval of returned/not-returned group limit median\n",
    "print(\"95% confidence interval for the returned group limit\",  stat_intervals(returned_balance_median_scores, 0.05))\n",
    "print(\"95% confidence interval for the not returned group limit\",  stat_intervals(not_returned_balance_median_scores, 0.05))\n",
    "\n",
    "print()\n",
    "# Confidence interval of difference between medians\n",
    "delta_median_scores = list(map(lambda x: x[0] - x[1], zip(returned_balance_median_scores, not_returned_balance_median_scores)))\n",
    "print(\"95% confidence interval for the difference between medians\",  stat_intervals(delta_median_scores, 0.05))"
   ]
  },
  {
   "cell_type": "markdown",
   "metadata": {},
   "source": [
    "With the alpha 0.05 the 95% confidence interval of the median difference(returned vs non-returned) lies between 60000 and 70000."
   ]
  },
  {
   "cell_type": "markdown",
   "metadata": {},
   "source": [
    "### part b"
   ]
  },
  {
   "cell_type": "markdown",
   "metadata": {},
   "source": [
    "$H_0\\colon F_{X_1}(x) = F_{X_2}(x)$\n",
    "\n",
    "$H_1\\colon F_{X_1}(x) = F_{X_2}(x + \\Delta), \\Delta\\neq 0$\n",
    "\n",
    "(H1): distributions are equal but shifted is alternative to (H0): distributions are equal"
   ]
  },
  {
   "cell_type": "code",
   "execution_count": 8,
   "metadata": {},
   "outputs": [
    {
     "data": {
      "text/plain": [
       "MannwhitneyuResult(statistic=95786286.5, pvalue=1.2255485818223303e-189)"
      ]
     },
     "execution_count": 8,
     "metadata": {},
     "output_type": "execute_result"
    }
   ],
   "source": [
    "from scipy.stats import mannwhitneyu\n",
    "\n",
    "# conditions for this criteria are partially satisfied (note: this impl does autocorrection for ties/duplicate values)\n",
    "# so, let's keep it here, but use permutation criteria instead\n",
    "mannwhitneyu(returned_balance_values, not_returned_balance_values, alternative=\"two-sided\")"
   ]
  },
  {
   "cell_type": "code",
   "execution_count": 9,
   "metadata": {},
   "outputs": [],
   "source": [
    "def permutation_t_stat_ind(sample1, sample2):\n",
    "    return np.mean(sample1) - np.mean(sample2)\n",
    "\n",
    "def get_random_combinations(n1, n2, max_combinations):\n",
    "    index = list(range(n1 + n2))\n",
    "    indices = set([tuple(index)])\n",
    "    for i in list(range(max_combinations - 1)):\n",
    "        np.random.shuffle(index)\n",
    "        indices.add(tuple(index))\n",
    "    return [(index[:n1], index[n1:]) for index in indices]\n",
    "\n",
    "def permutation_zero_dist_ind(sample1, sample2, max_combinations = None):\n",
    "    joined_sample = np.hstack((sample1, sample2))\n",
    "    n1 = len(sample1)\n",
    "    n = len(joined_sample)\n",
    "    \n",
    "    if max_combinations:\n",
    "        indices = get_random_combinations(n1, len(sample2), max_combinations)\n",
    "    else:\n",
    "        indices = [(list(index), filter(lambda i: i not in index, range(n))) \\\n",
    "                    for index in itertools.combinations(range(n), n1)]\n",
    "    \n",
    "    distr = [joined_sample[list(i[0])].mean() - joined_sample[list(i[1])].mean() \\\n",
    "             for i in indices]\n",
    "    return distr\n",
    "\n",
    "def permutation_test(sample, mean, max_permutations = None, alternative = 'two-sided'):\n",
    "    if alternative not in ('two-sided', 'less', 'greater'):\n",
    "        raise ValueError(\"alternative not recognized\\n\"\n",
    "                         \"should be 'two-sided', 'less' or 'greater'\")\n",
    "    \n",
    "    t_stat = permutation_t_stat_ind(sample, mean)\n",
    "    \n",
    "    zero_distr = permutation_zero_dist_ind(sample, mean, max_permutations)\n",
    "    \n",
    "    if alternative == 'two-sided':\n",
    "        return sum([1. if abs(x) >= abs(t_stat) else 0. for x in zero_distr]) / len(zero_distr)\n",
    "    \n",
    "    if alternative == 'less':\n",
    "        return sum([1. if x <= t_stat else 0. for x in zero_distr]) / len(zero_distr)\n",
    "\n",
    "    if alternative == 'greater':\n",
    "        return sum([1. if x >= t_stat else 0. for x in zero_distr]) / len(zero_distr)"
   ]
  },
  {
   "cell_type": "code",
   "execution_count": 10,
   "metadata": {},
   "outputs": [
    {
     "name": "stdout",
     "output_type": "stream",
     "text": [
      "p-value: 0.000333\n"
     ]
    }
   ],
   "source": [
    "print(\"p-value: %f\" % permutation_test(returned_balance_values, not_returned_balance_values, max_permutations = 3000))"
   ]
  },
  {
   "cell_type": "markdown",
   "metadata": {},
   "source": [
    "p-value is below the alpha=0.05, i.e. we can safely reject H0 in favor if H1, in other words distributions are not the same, they are different. From the previous calculations we know that the difference lies between 60000 and 700000 which is practically significant value. If we assume that max limit is around 600000(in fact average is even less) it's about 10% difference."
   ]
  },
  {
   "cell_type": "markdown",
   "metadata": {},
   "source": [
    "### Task2: SEX"
   ]
  },
  {
   "cell_type": "code",
   "execution_count": 11,
   "metadata": {},
   "outputs": [
    {
     "data": {
      "image/png": "[encoded data removed]",
      "text/plain": [
       "<matplotlib.figure.Figure at 0xb3ee520b70>"
      ]
     },
     "metadata": {},
     "output_type": "display_data"
    },
    {
     "data": {
      "text/html": [
       "<div>\n",
       "<style scoped>\n",
       "    .dataframe tbody tr th:only-of-type {\n",
       "        vertical-align: middle;\n",
       "    }\n",
       "\n",
       "    .dataframe tbody tr th {\n",
       "        vertical-align: top;\n",
       "    }\n",
       "\n",
       "    .dataframe thead th {\n",
       "        text-align: right;\n",
       "    }\n",
       "</style>\n",
       "<table border=\"1\" class=\"dataframe\">\n",
       "  <thead>\n",
       "    <tr style=\"text-align: right;\">\n",
       "      <th>SEX</th>\n",
       "      <th>1</th>\n",
       "      <th>2</th>\n",
       "    </tr>\n",
       "    <tr>\n",
       "      <th>default</th>\n",
       "      <th></th>\n",
       "      <th></th>\n",
       "    </tr>\n",
       "  </thead>\n",
       "  <tbody>\n",
       "    <tr>\n",
       "      <th>0</th>\n",
       "      <td>0.385850</td>\n",
       "      <td>0.614150</td>\n",
       "    </tr>\n",
       "    <tr>\n",
       "      <th>1</th>\n",
       "      <td>0.432942</td>\n",
       "      <td>0.567058</td>\n",
       "    </tr>\n",
       "  </tbody>\n",
       "</table>\n",
       "</div>"
      ],
      "text/plain": [
       "SEX             1         2\n",
       "default                    \n",
       "0        0.385850  0.614150\n",
       "1        0.432942  0.567058"
      ]
     },
     "execution_count": 11,
     "metadata": {},
     "output_type": "execute_result"
    }
   ],
   "source": [
    "import matplotlib.pyplot as plt\n",
    "\n",
    "# we need to build a table of men/woman proportions and default\n",
    "sexy_data_stack = credit_data[[\"default\", \"SEX\"]].groupby([\"default\", \"SEX\"]).size()\n",
    "sexy_data = sexy_data_stack.unstack()\n",
    "sexy_data.iloc[0] /= sexy_data.iloc[0].sum()\n",
    "sexy_data.iloc[1] /= sexy_data.iloc[1].sum()\n",
    "\n",
    "fig, ax = subplots()\n",
    "sexy_data.plot(kind='bar', stacked=True, title=\"Sex proportions by returned/not-returned in the group\", ax=ax)\n",
    "ax.legend([\"Men\", \"Woman\"])\n",
    "\n",
    "pylab.show()\n",
    "sexy_data"
   ]
  },
  {
   "cell_type": "code",
   "execution_count": 12,
   "metadata": {},
   "outputs": [
    {
     "data": {
      "text/html": [
       "<div>\n",
       "<style scoped>\n",
       "    .dataframe tbody tr th:only-of-type {\n",
       "        vertical-align: middle;\n",
       "    }\n",
       "\n",
       "    .dataframe tbody tr th {\n",
       "        vertical-align: top;\n",
       "    }\n",
       "\n",
       "    .dataframe thead th {\n",
       "        text-align: right;\n",
       "    }\n",
       "</style>\n",
       "<table border=\"1\" class=\"dataframe\">\n",
       "  <thead>\n",
       "    <tr style=\"text-align: right;\">\n",
       "      <th>default</th>\n",
       "      <th>0</th>\n",
       "      <th>1</th>\n",
       "    </tr>\n",
       "    <tr>\n",
       "      <th>SEX</th>\n",
       "      <th></th>\n",
       "      <th></th>\n",
       "    </tr>\n",
       "  </thead>\n",
       "  <tbody>\n",
       "    <tr>\n",
       "      <th>1</th>\n",
       "      <td>0.758328</td>\n",
       "      <td>0.241672</td>\n",
       "    </tr>\n",
       "    <tr>\n",
       "      <th>2</th>\n",
       "      <td>0.792237</td>\n",
       "      <td>0.207763</td>\n",
       "    </tr>\n",
       "  </tbody>\n",
       "</table>\n",
       "</div>"
      ],
      "text/plain": [
       "default         0         1\n",
       "SEX                        \n",
       "1        0.758328  0.241672\n",
       "2        0.792237  0.207763"
      ]
     },
     "execution_count": 12,
     "metadata": {},
     "output_type": "execute_result"
    },
    {
     "data": {
      "image/png": "[encoded data removed]",
      "text/plain": [
       "<matplotlib.figure.Figure at 0xb3ee4ee898>"
      ]
     },
     "metadata": {},
     "output_type": "display_data"
    }
   ],
   "source": [
    "# we need to build a table of men/woman proportions and default\n",
    "sexy_data2_stack = credit_data[[\"SEX\", \"default\"]].groupby([\"SEX\", \"default\"]).size()\n",
    "sexy_data2 = sexy_data2_stack.unstack()\n",
    "sexy_data2.iloc[0] /= sexy_data2.iloc[0].sum()\n",
    "sexy_data2.iloc[1] /= sexy_data2.iloc[1].sum()\n",
    "\n",
    "fig, ax = subplots()\n",
    "sexy_data2.plot(kind='bar', stacked=True, title=\"Proportions of returned/not returned by SEX\", ax=ax)\n",
    "ax.legend([\"Returned\", \"Not returned\"], loc=\"center\")\n",
    "\n",
    "#pylab.show()\n",
    "sexy_data2"
   ]
  },
  {
   "cell_type": "markdown",
   "metadata": {},
   "source": [
    "Proportions are not that different. Let's try to use some confidence intervals to see the difference."
   ]
  },
  {
   "cell_type": "code",
   "execution_count": 13,
   "metadata": {},
   "outputs": [],
   "source": [
    "import scipy\n",
    "from statsmodels.stats.proportion import *"
   ]
  },
  {
   "cell_type": "code",
   "execution_count": 14,
   "metadata": {},
   "outputs": [],
   "source": [
    "def proportions_confint_diff_ind(sample1, sample2, alpha = 0.05):    \n",
    "    z = scipy.stats.norm.ppf(1 - alpha / 2.)   \n",
    "    p1 = float(sum(sample1)) / len(sample1)\n",
    "    p2 = float(sum(sample2)) / len(sample2)\n",
    "    \n",
    "    left_boundary = (p1 - p2) - z * np.sqrt(p1 * (1 - p1)/ len(sample1) + p2 * (1 - p2)/ len(sample2))\n",
    "    right_boundary = (p1 - p2) + z * np.sqrt(p1 * (1 - p1)/ len(sample1) + p2 * (1 - p2)/ len(sample2))\n",
    "    \n",
    "    return (left_boundary, right_boundary)"
   ]
  },
  {
   "cell_type": "markdown",
   "metadata": {},
   "source": [
    "Let's check confidence intervals for proportion difference of men and woman in returned/not-returned groups"
   ]
  },
  {
   "cell_type": "code",
   "execution_count": 15,
   "metadata": {},
   "outputs": [
    {
     "name": "stdout",
     "output_type": "stream",
     "text": [
      "confidence interval of proportion difference for men: [-0.060548, -0.033635]\n",
      "confidence interval of proportion difference for woman: [0.033635, 0.060548]\n"
     ]
    }
   ],
   "source": [
    "men_returned = returned_data.SEX.apply(lambda x: 1 if x==1 else 0)\n",
    "men_not_returned = not_returned_data.SEX.apply(lambda x: 1 if x==1 else 0)\n",
    "\n",
    "print(\"confidence interval of proportion difference for men: [%f, %f]\" % \n",
    "      proportions_confint_diff_ind(men_returned, men_not_returned))\n",
    "\n",
    "woman_returned = returned_data.SEX.apply(lambda x: 1 if x==2 else 0)\n",
    "woman_not_returned = not_returned_data.SEX.apply(lambda x: 1 if x==2 else 0)\n",
    "print(\"confidence interval of proportion difference for woman: [%f, %f]\" % \n",
    "      proportions_confint_diff_ind(woman_returned, woman_not_returned))"
   ]
  },
  {
   "cell_type": "markdown",
   "metadata": {},
   "source": [
    "This confirms what we saw on the \"Sex proportions by group\" diagram. The confidence intervals do not include zero, meaning that group with returned credits has from ~3 to 6 percent less men proportion, at the same time the group has from ~3 to 6 percent more woman. In other words gender proportions in groups are not exactly the same, they have some deviation in men/woman proportions.\n",
    "\n",
    "Symmetricy of results can easilly be explained by the proportions meaning: since we have only two groups, if one group incereses proportion by k, another group proportion is reduced by the same k.\n",
    "\n",
    "I am going to use only men proportion next."
   ]
  },
  {
   "cell_type": "markdown",
   "metadata": {},
   "source": [
    "Let's build confidence intervals using Z-criteria for independent proportions.\n",
    "Z criteria for independent proportions\n",
    "* H0: proportions have the same distribution median\n",
    "* H1: proportions do not have the same distribution median"
   ]
  },
  {
   "cell_type": "code",
   "execution_count": 16,
   "metadata": {},
   "outputs": [],
   "source": [
    "def proportions_diff_z_stat_ind(sample1, sample2):\n",
    "    n1 = len(sample1)\n",
    "    n2 = len(sample2)\n",
    "    \n",
    "    p1 = float(sum(sample1)) / n1\n",
    "    p2 = float(sum(sample2)) / n2 \n",
    "    P = float(p1*n1 + p2*n2) / (n1 + n2)\n",
    "    \n",
    "    return (p1 - p2) / np.sqrt(P * (1 - P) * (1. / n1 + 1. / n2))"
   ]
  },
  {
   "cell_type": "code",
   "execution_count": 17,
   "metadata": {},
   "outputs": [],
   "source": [
    "def proportions_diff_z_test(z_stat, alternative = 'two-sided'):\n",
    "    if alternative not in ('two-sided', 'less', 'greater'):\n",
    "        raise ValueError(\"alternative not recognized\\n\"\n",
    "                         \"should be 'two-sided', 'less' or 'greater'\")\n",
    "    \n",
    "    if alternative == 'two-sided':\n",
    "        return 2 * (1 - scipy.stats.norm.cdf(np.abs(z_stat)))\n",
    "    \n",
    "    if alternative == 'less':\n",
    "        return scipy.stats.norm.cdf(z_stat)\n",
    "\n",
    "    if alternative == 'greater':\n",
    "        return 1 - scipy.stats.norm.cdf(z_stat)"
   ]
  },
  {
   "cell_type": "code",
   "execution_count": 18,
   "metadata": {},
   "outputs": [
    {
     "name": "stdout",
     "output_type": "stream",
     "text": [
      "confidence interval of proportion difference for men: [-0.060548, -0.033635]\n",
      "z statistic of proportion difference for men: -6.921375088562897\n",
      "z criteria p-value of proportion difference for men: 4.472866521609831e-12\n"
     ]
    }
   ],
   "source": [
    "print(\"confidence interval of proportion difference for men: [%f, %f]\" % \n",
    "      proportions_confint_diff_ind(men_returned, men_not_returned))\n",
    "zstat = proportions_diff_z_stat_ind(men_returned, men_not_returned)\n",
    "print(\"z statistic of proportion difference for men:\", zstat)\n",
    "print(\"z criteria p-value of proportion difference for men:\", proportions_diff_z_test(zstat))"
   ]
  },
  {
   "cell_type": "code",
   "execution_count": 19,
   "metadata": {},
   "outputs": [
    {
     "name": "stdout",
     "output_type": "stream",
     "text": [
      "z criteria effect size of proportion difference for men: -0.09580886242615905\n"
     ]
    }
   ],
   "source": [
    "returned_men_proportion = sexy_data.iloc[:,0][0]\n",
    "not_returned_men_proportion = sexy_data.iloc[:,0][1]\n",
    "print(\"z criteria effect size of proportion difference for men:\", proportion_effectsize(returned_men_proportion, not_returned_men_proportion))"
   ]
  },
  {
   "cell_type": "markdown",
   "metadata": {},
   "source": [
    "* p-value is lower than alpha(0.05), so H0 is rejected in favor of H1, proportions are not the same.\n",
    "* The proportion of men not returning the credit is 4 to 6 percent more than proportion of men who does return the credit\n",
    "* This difference is practically significant because the effect size is about 10%."
   ]
  },
  {
   "cell_type": "markdown",
   "metadata": {},
   "source": [
    "### Task 3: Education"
   ]
  },
  {
   "cell_type": "code",
   "execution_count": 20,
   "metadata": {},
   "outputs": [
    {
     "data": {
      "image/png": "[encoded data removed]",
      "text/plain": [
       "<matplotlib.figure.Figure at 0xb3ee71a5c0>"
      ]
     },
     "metadata": {},
     "output_type": "display_data"
    },
    {
     "data": {
      "image/png": "[encoded data removed]",
      "text/plain": [
       "<matplotlib.figure.Figure at 0xb3ee77ad68>"
      ]
     },
     "metadata": {},
     "output_type": "display_data"
    }
   ],
   "source": [
    "edu_data = credit_data[[\"EDUCATION\", \"default\"]].groupby([\"EDUCATION\", \"default\"]).size().unstack()\n",
    "axes = edu_data.plot.bar(stacked=True, rot=50)\n",
    "pylab.title(\"Number of returned/not returned credits groupped by education\")\n",
    "axes.legend([\"returned\", \"not returned\"]);\n",
    "pylab.xticks(np.arange(7), (\"doctor\", \"magister\", \"bachelor\", \"graduate school\", \"school\", \"other\", \"no data\"))\n",
    "\n",
    "edu_data.iloc[0] /= edu_data.iloc[0].sum()\n",
    "edu_data.iloc[1] /= edu_data.iloc[1].sum()\n",
    "edu_data.iloc[2] /= edu_data.iloc[2].sum()\n",
    "edu_data.iloc[3] /= edu_data.iloc[3].sum()\n",
    "edu_data.iloc[4] /= edu_data.iloc[4].sum()\n",
    "edu_data.iloc[5] /= edu_data.iloc[5].sum()\n",
    "edu_data.iloc[6] /= edu_data.iloc[6].sum()\n",
    "axes = edu_data.plot.bar(stacked=True, rot=50)\n",
    "pylab.title(\"Proportion of returned/not returned credits groupped by education\")\n",
    "axes.legend([\"returned\", \"not returned\"]);\n",
    "pylab.xticks(np.arange(7), (\"doctor\", \"magister\", \"bachelor\", \"graduate school\", \"school\", \"other\", \"no data\"))\n",
    "pylab.show()"
   ]
  },
  {
   "cell_type": "markdown",
   "metadata": {},
   "source": [
    "Let's count cramer_v measure to see if that measure is above 0"
   ]
  },
  {
   "cell_type": "code",
   "execution_count": 21,
   "metadata": {},
   "outputs": [
    {
     "data": {
      "text/plain": [
       "0.07239281703731822"
      ]
     },
     "execution_count": 21,
     "metadata": {},
     "output_type": "execute_result"
    }
   ],
   "source": [
    "def cramers_v(x, y):\n",
    "    confusion_matrix = pd.crosstab(x,y)\n",
    "    chi2 = chi2_contingency(confusion_matrix)[0]\n",
    "    n = confusion_matrix.sum().sum()\n",
    "    phi2 = chi2/n\n",
    "    r,k = confusion_matrix.shape\n",
    "    phi2corr = max(0, phi2-((k-1)*(r-1))/(n-1))\n",
    "    rcorr = r-((r-1)**2)/(n-1)\n",
    "    kcorr = k-((k-1)**2)/(n-1)\n",
    "    return np.sqrt(phi2corr/min((kcorr-1),(rcorr-1)))\n",
    "cramers_v(credit_data.EDUCATION, credit_data.default)"
   ]
  },
  {
   "cell_type": "markdown",
   "metadata": {},
   "source": [
    "Let's run chi square test to prove that correlation exists.\n",
    "* H0: X1 and X2 are independent\n",
    "* H1: H0 is invalid, i.e. X1 and X2 are not independent"
   ]
  },
  {
   "cell_type": "code",
   "execution_count": 22,
   "metadata": {},
   "outputs": [
    {
     "name": "stdout",
     "output_type": "stream",
     "text": [
      "chi value: 163.21655786997073\n",
      "p-value: 1.2332626245415605e-32\n",
      "dof: 6\n",
      "exp: [[1.0903200e+01 3.0968000e+00]\n",
      " [8.2435980e+03 2.3414020e+03]\n",
      " [1.0926564e+04 3.1034360e+03]\n",
      " [3.8293596e+03 1.0876404e+03]\n",
      " [9.5792400e+01 2.7207600e+01]\n",
      " [2.1806400e+02 6.1936000e+01]\n",
      " [3.9718800e+01 1.1281200e+01]]\n"
     ]
    }
   ],
   "source": [
    "edu_confusion_matrix = pd.crosstab(credit_data.EDUCATION, credit_data.default)\n",
    "chi, pvalue, dof, exp = chi2_contingency(edu_confusion_matrix)\n",
    "print(\"chi value:\", chi)\n",
    "print(\"p-value:\", pvalue)\n",
    "print(\"dof:\", dof)\n",
    "print(\"exp:\", exp)"
   ]
  },
  {
   "cell_type": "markdown",
   "metadata": {},
   "source": [
    "According to chi square test, the p-value is less than 0.05, so H0 is rejected in favor of H1 and there is some dependency between education and default. "
   ]
  },
  {
   "cell_type": "code",
   "execution_count": 23,
   "metadata": {},
   "outputs": [
    {
     "data": {
      "text/html": [
       "<div>\n",
       "<style scoped>\n",
       "    .dataframe tbody tr th:only-of-type {\n",
       "        vertical-align: middle;\n",
       "    }\n",
       "\n",
       "    .dataframe tbody tr th {\n",
       "        vertical-align: top;\n",
       "    }\n",
       "\n",
       "    .dataframe thead th {\n",
       "        text-align: right;\n",
       "    }\n",
       "</style>\n",
       "<table border=\"1\" class=\"dataframe\">\n",
       "  <thead>\n",
       "    <tr style=\"text-align: right;\">\n",
       "      <th>default</th>\n",
       "      <th>0</th>\n",
       "      <th>1</th>\n",
       "    </tr>\n",
       "    <tr>\n",
       "      <th>EDUCATION</th>\n",
       "      <th></th>\n",
       "      <th></th>\n",
       "    </tr>\n",
       "  </thead>\n",
       "  <tbody>\n",
       "    <tr>\n",
       "      <th>0</th>\n",
       "      <td>3.0968</td>\n",
       "      <td>-3.0968</td>\n",
       "    </tr>\n",
       "    <tr>\n",
       "      <th>1</th>\n",
       "      <td>305.4020</td>\n",
       "      <td>-305.4020</td>\n",
       "    </tr>\n",
       "    <tr>\n",
       "      <th>2</th>\n",
       "      <td>-226.5640</td>\n",
       "      <td>226.5640</td>\n",
       "    </tr>\n",
       "    <tr>\n",
       "      <th>3</th>\n",
       "      <td>-149.3596</td>\n",
       "      <td>149.3596</td>\n",
       "    </tr>\n",
       "    <tr>\n",
       "      <th>4</th>\n",
       "      <td>20.2076</td>\n",
       "      <td>-20.2076</td>\n",
       "    </tr>\n",
       "    <tr>\n",
       "      <th>5</th>\n",
       "      <td>43.9360</td>\n",
       "      <td>-43.9360</td>\n",
       "    </tr>\n",
       "    <tr>\n",
       "      <th>6</th>\n",
       "      <td>3.2812</td>\n",
       "      <td>-3.2812</td>\n",
       "    </tr>\n",
       "  </tbody>\n",
       "</table>\n",
       "</div>"
      ],
      "text/plain": [
       "default           0         1\n",
       "EDUCATION                    \n",
       "0            3.0968   -3.0968\n",
       "1          305.4020 -305.4020\n",
       "2         -226.5640  226.5640\n",
       "3         -149.3596  149.3596\n",
       "4           20.2076  -20.2076\n",
       "5           43.9360  -43.9360\n",
       "6            3.2812   -3.2812"
      ]
     },
     "execution_count": 23,
     "metadata": {},
     "output_type": "execute_result"
    }
   ],
   "source": [
    "edu_confusion_matrix - exp"
   ]
  },
  {
   "cell_type": "code",
   "execution_count": 24,
   "metadata": {},
   "outputs": [
    {
     "data": {
      "image/png": "[encoded data removed]",
      "text/plain": [
       "<matplotlib.figure.Figure at 0xb3ee711a90>"
      ]
     },
     "metadata": {},
     "output_type": "display_data"
    }
   ],
   "source": [
    "# I have applied log(1+x) function to normalize/scale the data.\n",
    "axes = edu_confusion_matrix.apply(lambda x: np.log(1+x)).plot(kind='line', color=(\"green\", \"red\"))\n",
    "(pd.DataFrame(exp)).apply((lambda x: np.log(1+x))).plot(kind='line', color=(\"green\", \"red\"), linestyle=\"dashed\", ax=axes, rot=45)\n",
    "pylab.legend([\"observed returned\", \"observed not returned\", \"expected returned\", \"expected not returned\"])\n",
    "pylab.xticks(np.arange(7), (\"doctor\", \"magister\", \"bachelor\", \"graduate school\", \"school\", \"other\", \"no data\"))\n",
    "\n",
    "plt.show()"
   ]
  },
  {
   "cell_type": "markdown",
   "metadata": {},
   "source": [
    "It's not clear what to do to answer the questions about best/worst education indicator to return a credit.\n",
    "Should we build a regression? Or should we somehow calculate correlation each by single education.\n",
    "I will provide an answer using my proportion graph."
   ]
  },
  {
   "cell_type": "code",
   "execution_count": 25,
   "metadata": {},
   "outputs": [
    {
     "data": {
      "text/html": [
       "<div>\n",
       "<style scoped>\n",
       "    .dataframe tbody tr th:only-of-type {\n",
       "        vertical-align: middle;\n",
       "    }\n",
       "\n",
       "    .dataframe tbody tr th {\n",
       "        vertical-align: top;\n",
       "    }\n",
       "\n",
       "    .dataframe thead th {\n",
       "        text-align: right;\n",
       "    }\n",
       "</style>\n",
       "<table border=\"1\" class=\"dataframe\">\n",
       "  <thead>\n",
       "    <tr style=\"text-align: right;\">\n",
       "      <th>default</th>\n",
       "      <th>0</th>\n",
       "      <th>1</th>\n",
       "    </tr>\n",
       "    <tr>\n",
       "      <th>EDUCATION</th>\n",
       "      <th></th>\n",
       "      <th></th>\n",
       "    </tr>\n",
       "  </thead>\n",
       "  <tbody>\n",
       "    <tr>\n",
       "      <th>0</th>\n",
       "      <td>1.000000</td>\n",
       "      <td>NaN</td>\n",
       "    </tr>\n",
       "    <tr>\n",
       "      <th>1</th>\n",
       "      <td>0.807652</td>\n",
       "      <td>0.192348</td>\n",
       "    </tr>\n",
       "    <tr>\n",
       "      <th>2</th>\n",
       "      <td>0.762651</td>\n",
       "      <td>0.237349</td>\n",
       "    </tr>\n",
       "    <tr>\n",
       "      <th>3</th>\n",
       "      <td>0.748424</td>\n",
       "      <td>0.251576</td>\n",
       "    </tr>\n",
       "    <tr>\n",
       "      <th>4</th>\n",
       "      <td>0.943089</td>\n",
       "      <td>0.056911</td>\n",
       "    </tr>\n",
       "    <tr>\n",
       "      <th>5</th>\n",
       "      <td>0.935714</td>\n",
       "      <td>0.064286</td>\n",
       "    </tr>\n",
       "    <tr>\n",
       "      <th>6</th>\n",
       "      <td>0.843137</td>\n",
       "      <td>0.156863</td>\n",
       "    </tr>\n",
       "  </tbody>\n",
       "</table>\n",
       "</div>"
      ],
      "text/plain": [
       "default           0         1\n",
       "EDUCATION                    \n",
       "0          1.000000       NaN\n",
       "1          0.807652  0.192348\n",
       "2          0.762651  0.237349\n",
       "3          0.748424  0.251576\n",
       "4          0.943089  0.056911\n",
       "5          0.935714  0.064286\n",
       "6          0.843137  0.156863"
      ]
     },
     "execution_count": 25,
     "metadata": {},
     "output_type": "execute_result"
    }
   ],
   "source": [
    "edu_data"
   ]
  },
  {
   "cell_type": "markdown",
   "metadata": {},
   "source": [
    "* According to proportions, the \"doctor\" edu is the perfect indicator that client will return the credit.\n",
    "* \"Graduate school\" is an education for which we spotted the highest number of defaults."
   ]
  },
  {
   "cell_type": "markdown",
   "metadata": {},
   "source": [
    "### Task 4: Marriage"
   ]
  },
  {
   "cell_type": "code",
   "execution_count": 26,
   "metadata": {},
   "outputs": [
    {
     "data": {
      "image/png": "[encoded data removed]",
      "text/plain": [
       "<matplotlib.figure.Figure at 0xb3ee6ff2e8>"
      ]
     },
     "metadata": {},
     "output_type": "display_data"
    },
    {
     "data": {
      "image/png": "[encoded data removed]",
      "text/plain": [
       "<matplotlib.figure.Figure at 0xb3ee408898>"
      ]
     },
     "metadata": {},
     "output_type": "display_data"
    }
   ],
   "source": [
    "mariage_data = credit_data[[\"MARRIAGE\", \"default\"]].groupby([\"MARRIAGE\", \"default\"]).size().unstack()\n",
    "axes = mariage_data.plot.bar(stacked=True, rot=50)\n",
    "pylab.title(\"Number of returned/not returned credits groupped by marriage\")\n",
    "axes.legend([\"returned\", \"not returned\"]);\n",
    "pylab.xticks(np.arange(4), (\"won't answer\", \"married\", \"not_married\", \"no data\"))\n",
    "\n",
    "mariage_data.iloc[0] /= mariage_data.iloc[0].sum()\n",
    "mariage_data.iloc[1] /= mariage_data.iloc[1].sum()\n",
    "mariage_data.iloc[2] /= mariage_data.iloc[2].sum()\n",
    "mariage_data.iloc[3] /= mariage_data.iloc[3].sum()\n",
    "axes = mariage_data.plot.bar(stacked=True, rot=50)\n",
    "pylab.title(\"Proportion of returned/not returned credits groupped by marriage\")\n",
    "axes.legend([\"returned\", \"not returned\"]);\n",
    "pylab.xticks(np.arange(4), (\"won't answer\", \"married\", \"not_married\", \"no data\"))\n",
    "pylab.show()"
   ]
  },
  {
   "cell_type": "markdown",
   "metadata": {},
   "source": [
    "Well, the data is very unbalanced, we have almost no values for marriage 0(won't asnwer) and 3(no data).\n",
    "We can drop the marriage 0 and 3 data because the question of the task: how marriage correlates with default. 0 and 3 can be considered as status is unknown, it makes sense to work only with 2(married) and 3(not married) columns.\n",
    "Since we are left with just two binary variables: married/not maried and default/not default we can apply matthews correlation measure. "
   ]
  },
  {
   "cell_type": "code",
   "execution_count": 27,
   "metadata": {},
   "outputs": [
    {
     "data": {
      "text/html": [
       "<div>\n",
       "<style scoped>\n",
       "    .dataframe tbody tr th:only-of-type {\n",
       "        vertical-align: middle;\n",
       "    }\n",
       "\n",
       "    .dataframe tbody tr th {\n",
       "        vertical-align: top;\n",
       "    }\n",
       "\n",
       "    .dataframe thead th {\n",
       "        text-align: right;\n",
       "    }\n",
       "</style>\n",
       "<table border=\"1\" class=\"dataframe\">\n",
       "  <thead>\n",
       "    <tr style=\"text-align: right;\">\n",
       "      <th>default</th>\n",
       "      <th>0</th>\n",
       "      <th>1</th>\n",
       "    </tr>\n",
       "    <tr>\n",
       "      <th>MARRIAGE</th>\n",
       "      <th></th>\n",
       "      <th></th>\n",
       "    </tr>\n",
       "  </thead>\n",
       "  <tbody>\n",
       "    <tr>\n",
       "      <th>1</th>\n",
       "      <td>10453</td>\n",
       "      <td>3206</td>\n",
       "    </tr>\n",
       "    <tr>\n",
       "      <th>2</th>\n",
       "      <td>12623</td>\n",
       "      <td>3341</td>\n",
       "    </tr>\n",
       "  </tbody>\n",
       "</table>\n",
       "</div>"
      ],
      "text/plain": [
       "default       0     1\n",
       "MARRIAGE             \n",
       "1         10453  3206\n",
       "2         12623  3341"
      ]
     },
     "execution_count": 27,
     "metadata": {},
     "output_type": "execute_result"
    }
   ],
   "source": [
    "from sklearn.metrics import matthews_corrcoef\n",
    "\n",
    "mariage_data = credit_data[[\"MARRIAGE\", \"default\"]].groupby([\"MARRIAGE\", \"default\"]).size().unstack()\n",
    "mariage_data.drop(index=[0,3], inplace=True)\n",
    "mariage_data"
   ]
  },
  {
   "cell_type": "code",
   "execution_count": 28,
   "metadata": {},
   "outputs": [
    {
     "data": {
      "text/plain": [
       "-0.030555369920445503"
      ]
     },
     "execution_count": 28,
     "metadata": {},
     "output_type": "execute_result"
    }
   ],
   "source": [
    "def MCC(a, b, c, d):\n",
    "    numerator = a*d - b*c\n",
    "    d_sum = (a + b) * (a + c) * (b + d) * (c + d)\n",
    "    denominator = sqrt(d_sum)\n",
    "    return numerator/denominator\n",
    "MCC(10453, 3206, 12623, 3341)    "
   ]
  },
  {
   "cell_type": "markdown",
   "metadata": {},
   "source": [
    "There seems to be a little correlation between mariage and returning/not_returning credit.\n",
    "It was partially noticable from the diagram. For groups 2(married) and 3(no_married) the proportion of returned/not returned credits were close to each other, but not exactly the same, i.e. beign married reduces the chance to return a credit slightly.\n",
    "\n",
    "Let's use chi square criteria to prove it.\n",
    "* H0: MCCx1,x2 == 0\n",
    "* H1: MCCx1,x2 <> 0"
   ]
  },
  {
   "cell_type": "code",
   "execution_count": 29,
   "metadata": {},
   "outputs": [
    {
     "name": "stdout",
     "output_type": "stream",
     "text": [
      "chi value: 27.5094090929579\n",
      "p-value: 1.5633210355976673e-07\n",
      "dof: 1\n"
     ]
    },
    {
     "data": {
      "text/plain": [
       "(35.66239583433609,\n",
       " 8.825862457577375e-08,\n",
       " 3,\n",
       " array([[4.20552000e+01, 1.19448000e+01],\n",
       "        [1.06376292e+04, 3.02137080e+03],\n",
       "        [1.24327632e+04, 3.53123680e+03],\n",
       "        [2.51552400e+02, 7.14476000e+01]]))"
      ]
     },
     "execution_count": 29,
     "metadata": {},
     "output_type": "execute_result"
    }
   ],
   "source": [
    "mariage_contingency = np.array([[10453, 3206], [12623, 3341]])\n",
    "chi, pvalue, dof, _ = chi2_contingency(mariage_contingency)\n",
    "print(\"chi value:\", chi)\n",
    "print(\"p-value:\", pvalue)\n",
    "print(\"dof:\", dof)\n",
    "\n",
    "# additional output for all mariage types\n",
    "confusion_matrix = pd.crosstab(credit_data.MARRIAGE, credit_data.default)\n",
    "chi2_contingency(confusion_matrix)"
   ]
  },
  {
   "cell_type": "markdown",
   "metadata": {},
   "source": [
    "According to chi square criteria in both cases (with married/non married only or all features) H0 is rejected in favor of H1, so there IS a correlation between mariage and dafault."
   ]
  },
  {
   "cell_type": "markdown",
   "metadata": {},
   "source": [
    "### Task 5: Age"
   ]
  },
  {
   "cell_type": "code",
   "execution_count": 30,
   "metadata": {},
   "outputs": [
    {
     "data": {
      "image/png": "[encoded data removed]",
      "text/plain": [
       "<matplotlib.figure.Figure at 0xb3eef59400>"
      ]
     },
     "metadata": {},
     "output_type": "display_data"
    }
   ],
   "source": [
    "pylab.figure(figsize=(12,12))\n",
    "pylab.subplot(2,2,1)\n",
    "pylab.hist(returned_data.AGE, bins=30, label=\"Age of people who returned the credit\", color=\"g\")\n",
    "pylab.legend()\n",
    "\n",
    "pylab.subplot(2,2,2)\n",
    "pylab.hist(not_returned_data.AGE, bins=30, label=\"Age of people who doesn't returned the credit\", color=\"r\")\n",
    "pylab.legend()\n",
    "\n",
    "pylab.subplot(2,2,3)\n",
    "pylab.boxplot(returned_data.AGE, notch=True, bootstrap=1000, labels=['Age of people who returned the credit'])\n",
    "pylab.ylim(10, 80)\n",
    "\n",
    "pylab.subplot(2,2,4)\n",
    "pylab.boxplot(not_returned_data.AGE, notch=True, bootstrap=1000,labels=[\"Age of people who doesn't returned the credit\"])\n",
    "pylab.ylim(10, 80)\n",
    "pylab.show()"
   ]
  },
  {
   "cell_type": "markdown",
   "metadata": {},
   "source": [
    "Even visually, it seems like the medians are the same, but let's check by looking at the confidence intervals and confidence interval for the difference"
   ]
  },
  {
   "cell_type": "code",
   "execution_count": 31,
   "metadata": {},
   "outputs": [
    {
     "name": "stdout",
     "output_type": "stream",
     "text": [
      "Pointwise difference between medians: 0.0\n",
      "95% confidence interval for the returned group limit [34. 34.]\n",
      "95% confidence interval for the not returned group limit [34. 35.]\n",
      "\n",
      "95% confidence interval for the difference between medians [-1.  0.]\n"
     ]
    }
   ],
   "source": [
    "# get values first\n",
    "returned_age_values     = returned_data.AGE.values\n",
    "not_returned_age_values = not_returned_data.AGE.values\n",
    "\n",
    "returned_age_median_scores     = list(map(np.median, get_bootstrap_samples(returned_age_values, 1000)))\n",
    "not_returned_age_median_scores = list(map(np.median, get_bootstrap_samples(not_returned_age_values, 1000)))\n",
    "\n",
    "# Pointwise\n",
    "print(\"Pointwise difference between medians:\", np.median(returned_age_values) - np.median(not_returned_age_values))\n",
    "\n",
    "# Confidence interval of returned/not-returned group limit median\n",
    "print(\"95% confidence interval for the returned group limit\",  stat_intervals(returned_age_median_scores, 0.05))\n",
    "print(\"95% confidence interval for the not returned group limit\",  stat_intervals(not_returned_age_median_scores, 0.05))\n",
    "\n",
    "print()\n",
    "# Confidence interval of difference between medians\n",
    "delta_median_scores = list(map(lambda x: x[0] - x[1], zip(returned_age_median_scores, not_returned_age_median_scores)))\n",
    "print(\"95% confidence interval for the difference between medians\",  stat_intervals(delta_median_scores, 0.05))"
   ]
  },
  {
   "cell_type": "markdown",
   "metadata": {},
   "source": [
    "$H_0\\colon F_{X_1}(x) = F_{X_2}(x)$\n",
    "\n",
    "$H_1\\colon F_{X_1}(x) = F_{X_2}(x + \\Delta), \\Delta\\neq 0$\n",
    "\n",
    "(H1): distributions are equal but shifted is alternative to (H0): distributions are equal"
   ]
  },
  {
   "cell_type": "code",
   "execution_count": 33,
   "metadata": {},
   "outputs": [
    {
     "name": "stdout",
     "output_type": "stream",
     "text": [
      "p-value: 0.016200\n"
     ]
    }
   ],
   "source": [
    "print(\"p-value: %f\" % permutation_test(returned_age_values, not_returned_age_values, max_permutations = 5000))"
   ]
  },
  {
   "cell_type": "code",
   "execution_count": 34,
   "metadata": {},
   "outputs": [
    {
     "data": {
      "text/plain": [
       "MannwhitneyuResult(statistic=76966879.5, pvalue=0.1862517717449308)"
      ]
     },
     "execution_count": 34,
     "metadata": {},
     "output_type": "execute_result"
    }
   ],
   "source": [
    "stats.mannwhitneyu(returned_age_values, not_returned_age_values)"
   ]
  },
  {
   "cell_type": "markdown",
   "metadata": {},
   "source": [
    "Well, it's surprising(technically, intervals are the same, and confidence interval for the difference contiins 0) but the p-value is less than alpha=0.05 threshold which means that the distributions are not the same(H0 is rejected in favor of H1).\n",
    "At the same time based on the confidence interval for the difference we can say, that even if distributions are not the same the difference of their medians doesn't have any practical significance."
   ]
  }
 ],
 "metadata": {
  "kernelspec": {
   "display_name": "Python 3",
   "language": "python",
   "name": "python3"
  },
  "language_info": {
   "codemirror_mode": {
    "name": "ipython",
    "version": 3
   },
   "file_extension": ".py",
   "mimetype": "text/x-python",
   "name": "python",
   "nbconvert_exporter": "python",
   "pygments_lexer": "ipython3",
   "version": "3.6.4"
  }
 },
 "nbformat": 4,
 "nbformat_minor": 2
}
